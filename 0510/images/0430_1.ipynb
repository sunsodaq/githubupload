{
 "cells": [
  {
   "cell_type": "markdown",
   "id": "3f686735-2245-47bc-8224-255a1863cba3",
   "metadata": {},
   "source": [
    "## 사다리꼴의 넓이 구하기 (p149)"
   ]
  },
  {
   "cell_type": "code",
   "execution_count": null,
   "id": "2f337898-cffe-4a25-b522-78f367e72724",
   "metadata": {},
   "outputs": [],
   "source": [
    "from trapezium_def import addition , Person"
   ]
  },
  {
   "cell_type": "code",
   "execution_count": null,
   "id": "71a73cdc-c1e1-447b-81c8-72027b51de10",
   "metadata": {},
   "outputs": [],
   "source": [
    "p = Person(3)"
   ]
  },
  {
   "cell_type": "code",
   "execution_count": null,
   "id": "2e8f8cc2-7501-4af4-9a2c-e6657958b5df",
   "metadata": {},
   "outputs": [],
   "source": [
    "p.add(10,5)"
   ]
  },
  {
   "cell_type": "code",
   "execution_count": 1,
   "id": "230dbcd2-5db3-409e-a1fe-c7114c9c5de9",
   "metadata": {},
   "outputs": [
    {
     "ename": "SyntaxError",
     "evalue": "'return' outside function (Calculator.py, line 29)",
     "output_type": "error",
     "traceback": [
      "Traceback \u001b[1;36m(most recent call last)\u001b[0m:\n",
      "\u001b[0m  File \u001b[0;32m~\\anaconda3\\Lib\\site-packages\\IPython\\core\\interactiveshell.py:3553\u001b[0m in \u001b[0;35mrun_code\u001b[0m\n    exec(code_obj, self.user_global_ns, self.user_ns)\u001b[0m\n",
      "\u001b[1;36m  Cell \u001b[1;32mIn[1], line 1\u001b[1;36m\n\u001b[1;33m    from Calculator import *\u001b[1;36m\n",
      "\u001b[1;36m  File \u001b[1;32m~\\Calculator.py:29\u001b[1;36m\u001b[0m\n\u001b[1;33m    return dict1\u001b[0m\n\u001b[1;37m    ^\u001b[0m\n\u001b[1;31mSyntaxError\u001b[0m\u001b[1;31m:\u001b[0m 'return' outside function\n"
     ]
    }
   ],
   "source": [
    "from Calculator import *"
   ]
  },
  {
   "cell_type": "code",
   "execution_count": null,
   "id": "fc39b708-d432-4708-8343-7e363739c96e",
   "metadata": {},
   "outputs": [],
   "source": [
    "c = Calculator(5,5)"
   ]
  },
  {
   "cell_type": "code",
   "execution_count": null,
   "id": "8566d6a1-9ac9-4081-a2f5-1463db75c5f4",
   "metadata": {},
   "outputs": [],
   "source": [
    "c.add(8,9)"
   ]
  },
  {
   "cell_type": "code",
   "execution_count": null,
   "id": "6ac5c547-2e72-403f-af59-b1c22f11600b",
   "metadata": {},
   "outputs": [],
   "source": [
    "num1 = int(input(\"원하는 연산식의 숫자를 입력하세요\"))\n",
    "result = 0\n",
    "while num1<=7 :\n",
    "    if(num1==1):\n",
    "        num2 = int(input(\"첫번째 숫자를 입력하세요\"))\n",
    "        num3 = int(input(\"두번째 숫자를 입력하세요\"))\n",
    "        print(c.add(num2, num3))\n",
    "        break\n",
    "    elif(num1==2):\n",
    "        num2 = int(input(\"첫번째 숫자를 입력하세요\"))\n",
    "        num3 = int(input(\"두번째 숫자를 입력하세요\"))\n",
    "        print(c.sub(num2, num3))\n",
    "        break\n",
    "    elif(num1==3):\n",
    "        num2 = int(input(\"첫번째 숫자를 입력하세요\"))\n",
    "        num3 = int(input(\"두번째 숫자를 입력하세요\"))\n",
    "        print(c.mul(num2, num3))\n",
    "        break\n",
    "    elif(num1==4):\n",
    "        num2 = int(input(\"첫번째 숫자를 입력하세요\"))\n",
    "        num3 = int(input(\"두번째 숫자를 입력하세요\"))\n",
    "        print(c.div(num2, num3))\n",
    "        break\n",
    "    elif(num1==5):\n",
    "        num2 = int(input(\"첫번째 숫자를 입력하세요\"))\n",
    "        num3 = int(input(\"두번째 숫자를 입력하세요\"))\n",
    "        print(c.mod(num2, num3))\n",
    "        break\n",
    "    elif(num1==7):\n",
    "        print(\"End\")\n",
    "        break"
   ]
  },
  {
   "cell_type": "code",
   "execution_count": null,
   "id": "fc2edd86-4d7f-4749-936a-b3545a502ed8",
   "metadata": {},
   "outputs": [],
   "source": [
    "print(\"원하는 연산은 무엇? 1)덧셈, 2)곱셈, 3)뺄셈, 4)나눗셈, 5)나머지, 7)종료\")\n",
    "result=0\n",
    "op=0\n",
    "while op!=7:\n",
    "    op = int(input(\"원하는 연산을 숫자로 입력하세요\"))\n",
    "    first = int(input(\"첫번째 숫자를 입력하세요\"))\n",
    "    second = int(input(\"두번째 숫자를 입력하세요\"))\n",
    "    if op==1:\n",
    "        result = c.add(first,second)\n",
    "        print(result)\n",
    "    elif op==2:\n",
    "        result = c.sub(first,second)\n",
    "        print(result)\n",
    "    elif op==3:\n",
    "        result = c.mul(first,second)\n",
    "        print(result)\n",
    "    elif op==4:\n",
    "        result = c.div(first,second)\n",
    "        print(result)\n",
    "    elif op==5:\n",
    "        result = c.mod(first,second)\n",
    "        print(result)\n",
    "print(\"프로그램이 종료되었습니다\")"
   ]
  },
  {
   "cell_type": "markdown",
   "id": "daf44ea1-60ca-4d71-95f8-c9886bd2c525",
   "metadata": {},
   "source": [
    "## 함수(p169)"
   ]
  },
  {
   "cell_type": "code",
   "execution_count": null,
   "id": "308fe3ba-2c0f-4aec-a012-3209e96ce0a4",
   "metadata": {},
   "outputs": [],
   "source": [
    "def f(x) : return x+1"
   ]
  },
  {
   "cell_type": "code",
   "execution_count": null,
   "id": "1295c13e-5b74-485b-bc52-0650f76954e4",
   "metadata": {},
   "outputs": [],
   "source": [
    "def g(x) : return x**2"
   ]
  },
  {
   "cell_type": "code",
   "execution_count": null,
   "id": "fc9a35df-61f8-4fad-ac2a-1b47e648fa41",
   "metadata": {},
   "outputs": [],
   "source": [
    "x=2\n",
    "f(x) + g(x) + f(g(x)) + g(f(x))"
   ]
  },
  {
   "cell_type": "code",
   "execution_count": null,
   "id": "d67f0121-b911-4bd2-a5c3-46d058093297",
   "metadata": {},
   "outputs": [],
   "source": [
    "funcs=[ f, g, lambda x : x**4, lambda i : i*100 ]"
   ]
  },
  {
   "cell_type": "code",
   "execution_count": null,
   "id": "acedafed-3721-44cc-ae6b-e73cc689f044",
   "metadata": {},
   "outputs": [],
   "source": [
    "sum1=0\n",
    "for i in funcs:\n",
    "    sum1 += i(3)\n",
    "sum1"
   ]
  },
  {
   "cell_type": "code",
   "execution_count": null,
   "id": "f4b5d97d-b7e6-4ca4-a4b0-78ba84cf1ed1",
   "metadata": {},
   "outputs": [],
   "source": [
    "def ff(v, *i):\n",
    "    sum1=0\n",
    "    for idx, data in zip( range(len(i)), i) :\n",
    "        sum1 += data(v)\n",
    "        print('idx: ', idx, ' sum:', sum1)\n",
    "    return sum1"
   ]
  },
  {
   "cell_type": "code",
   "execution_count": null,
   "id": "3a23eb6a-85ba-4b04-8a11-dba8a24ab189",
   "metadata": {},
   "outputs": [],
   "source": [
    "list(map( lambda x : ff(x, f, g, f, g, f), [1,2,3,5]))"
   ]
  },
  {
   "cell_type": "code",
   "execution_count": null,
   "id": "c18cb887-ffe0-49fa-a4d6-82e61c80404d",
   "metadata": {},
   "outputs": [],
   "source": [
    "ff(3, f, g, f, g, f)"
   ]
  },
  {
   "cell_type": "code",
   "execution_count": null,
   "id": "567fb53f-d65d-4fd7-8112-d8501f795166",
   "metadata": {},
   "outputs": [],
   "source": [
    "list2=[[1,2,3,5],[2,1,7,2],[-1,2,5,4]]\n",
    "list_result=[]\n",
    "sum1=0\n",
    "sum2=0\n",
    "sum3=0\n",
    "sum4=0\n",
    "for i in list2:\n",
    "    print(i[0],i[1],i[2],i[3])\n",
    "    sum1 += i[0]\n",
    "    sum2 += i[1]\n",
    "    sum3 += i[2]\n",
    "    sum4 += i[3]\n",
    "list_result.append(sum1)\n",
    "list_result.append(sum2)\n",
    "list_result.append(sum3)\n",
    "list_result.append(sum4)\n",
    "print(list_result)\n"
   ]
  },
  {
   "cell_type": "code",
   "execution_count": null,
   "id": "652d23e2-a5a0-4519-aa33-144a4006a906",
   "metadata": {},
   "outputs": [],
   "source": [
    "def two_times(i):\n",
    "    sum1=0\n",
    "    for j in i:\n",
    "        sum1+=j*2\n",
    "    return sum1"
   ]
  },
  {
   "cell_type": "code",
   "execution_count": null,
   "id": "55210ee9-9bd4-464c-ba14-fe82ef995a9c",
   "metadata": {},
   "outputs": [],
   "source": [
    "def three_times(i):\n",
    "    sum1=0\n",
    "    for j in i:\n",
    "        sum1+=j*3\n",
    "    return sum1"
   ]
  },
  {
   "cell_type": "code",
   "execution_count": null,
   "id": "ba403774-60a9-452e-bd99-f93ac81be592",
   "metadata": {},
   "outputs": [],
   "source": [
    "list(zip(*list2)) # *을 이용하여 풀어 헤치고 zip을 이용하여 대응되는 요소와 packing하여 tuple로 생성"
   ]
  },
  {
   "cell_type": "code",
   "execution_count": null,
   "id": "6f5e5aae-6cd1-49c1-8dd4-2326999d1dbe",
   "metadata": {},
   "outputs": [],
   "source": [
    "sum((1,2,-1)) # tuple의 합, map을 이용하여 하나씩 꺼내어 합을 구함"
   ]
  },
  {
   "cell_type": "code",
   "execution_count": null,
   "id": "72e541e1-9980-4e4f-b1b2-ea6b3a66040b",
   "metadata": {},
   "outputs": [],
   "source": [
    "list(map(sum,zip(*list2)))"
   ]
  },
  {
   "cell_type": "code",
   "execution_count": null,
   "id": "274cad77-d9bd-4a42-b0a4-f4c64df4eb8c",
   "metadata": {},
   "outputs": [],
   "source": [
    "list(map(two_times,zip(*list2)))"
   ]
  },
  {
   "cell_type": "code",
   "execution_count": null,
   "id": "cc9bedc5-65bb-4993-b8b8-a46f3cc31e5e",
   "metadata": {},
   "outputs": [],
   "source": [
    "list(map(three_times,zip(*list2)))"
   ]
  },
  {
   "cell_type": "code",
   "execution_count": null,
   "id": "47694fa2-2f29-4969-95da-a4c1447d1f0f",
   "metadata": {},
   "outputs": [],
   "source": [
    "list_of_list2=[[1,2,3],[2,3,4],[5,1,7]]    "
   ]
  },
  {
   "cell_type": "code",
   "execution_count": null,
   "id": "593949fe-ab3f-4ea6-b78b-c8d237d8954e",
   "metadata": {},
   "outputs": [],
   "source": [
    "dict1={}\n",
    "len_list = len(list_of_list2)\n",
    "for idx, data in zip(range(len_list), list_of_list2):\n",
    "    key = 'a'+str(idx)\n",
    "    if key not in dict1.keys():\n",
    "        dict1[key]=0\n",
    "    dict1[key]=list(map(sum,zip(*list_of_list2)))[idx]\n",
    "dict1"
   ]
  },
  {
   "cell_type": "code",
   "execution_count": null,
   "id": "de5a23a5-ad10-41da-8378-bcfeeb366e16",
   "metadata": {},
   "outputs": [],
   "source": [
    "range(len_list)"
   ]
  },
  {
   "cell_type": "code",
   "execution_count": null,
   "id": "203f7110-133b-477b-9276-c3cbf94ee348",
   "metadata": {},
   "outputs": [],
   "source": [
    "for idx, data in zip(range(len_list), zip(*list_of_list2)):\n",
    "    print(idx,data)"
   ]
  },
  {
   "cell_type": "code",
   "execution_count": null,
   "id": "787da57b-5dfa-4014-92e7-5d52a226fcfb",
   "metadata": {},
   "outputs": [],
   "source": [
    "dict1={}\n",
    "len_list = len(list_of_list2)\n",
    "for idx, data in zip(range(len_list), zip(*list_of_list2)):\n",
    "    key = 'a'+str(idx)\n",
    "    if key not in dict1.keys():\n",
    "        dict1[key]=0\n",
    "    for d in data:\n",
    "        print('idx:', idx, ' data:',data[idx])\n",
    "        dict1[key]+=d\n",
    "dict1"
   ]
  },
  {
   "cell_type": "code",
   "execution_count": null,
   "id": "938a050f-40a9-4161-9087-ad963ad81b4c",
   "metadata": {},
   "outputs": [],
   "source": [
    "def sumOflistDict(list_of_list2):\n",
    "    \"\"\"\n",
    "        2차원 리스트를 받아서 세로로 합을 구하여 dictionary로 반환\n",
    "    \"\"\"\n",
    "    dict1={}\n",
    "    len_list = len(list_of_list2)\n",
    "    for idx, data in zip(range(len_list), zip(*list_of_list2)):\n",
    "        key = 'a'+str(idx)\n",
    "        if key not in dict1.keys():\n",
    "            dict1[key]=0\n",
    "        for d in data:\n",
    "            # print('idx:', idx, ' data:',data[idx])\n",
    "            dict1[key]+=d\n",
    "    return dict1"
   ]
  },
  {
   "cell_type": "code",
   "execution_count": null,
   "id": "db2bf47c-a1ce-4df0-9c04-bdbeecc56d82",
   "metadata": {},
   "outputs": [],
   "source": []
  },
  {
   "cell_type": "code",
   "execution_count": null,
   "id": "d569ba97-d74c-4257-af21-d3e8bb0417ce",
   "metadata": {},
   "outputs": [],
   "source": []
  },
  {
   "cell_type": "code",
   "execution_count": null,
   "id": "d37fd15f-cb25-41b1-80cb-9d61f906ec99",
   "metadata": {},
   "outputs": [],
   "source": []
  },
  {
   "cell_type": "code",
   "execution_count": null,
   "id": "8c4ed0ca-d02e-4329-af45-2d321b2d9653",
   "metadata": {},
   "outputs": [],
   "source": []
  },
  {
   "cell_type": "code",
   "execution_count": null,
   "id": "3734974f-ccaa-4c9f-ba4b-4ab9efcb9ffb",
   "metadata": {},
   "outputs": [],
   "source": []
  }
 ],
 "metadata": {
  "kernelspec": {
   "display_name": "Python 3 (ipykernel)",
   "language": "python",
   "name": "python3"
  },
  "language_info": {
   "codemirror_mode": {
    "name": "ipython",
    "version": 3
   },
   "file_extension": ".py",
   "mimetype": "text/x-python",
   "name": "python",
   "nbconvert_exporter": "python",
   "pygments_lexer": "ipython3",
   "version": "3.11.7"
  }
 },
 "nbformat": 4,
 "nbformat_minor": 5
}
