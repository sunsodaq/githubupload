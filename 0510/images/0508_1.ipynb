{
 "cells": [
  {
   "cell_type": "code",
   "execution_count": 1,
   "id": "f6df2118-b194-4ed4-80a3-aff147f03708",
   "metadata": {},
   "outputs": [],
   "source": [
    "import bisect # 2진 탐색과 정렬된 리스트에 값을 추가하는 기능"
   ]
  },
  {
   "cell_type": "code",
   "execution_count": 2,
   "id": "6621ad3a-0287-4bc3-91f4-255baa9d060d",
   "metadata": {},
   "outputs": [
    {
     "data": {
      "text/plain": [
       "[1, 2, 2, 2, 3, 4, 7]"
      ]
     },
     "execution_count": 2,
     "metadata": {},
     "output_type": "execute_result"
    }
   ],
   "source": [
    "c = [1,2,2,2,3,4,7]\n",
    "c"
   ]
  },
  {
   "cell_type": "code",
   "execution_count": 3,
   "id": "868b5fe2-fadc-4290-8151-2fa8b8b25ba4",
   "metadata": {},
   "outputs": [
    {
     "data": {
      "text/plain": [
       "4"
      ]
     },
     "execution_count": 3,
     "metadata": {},
     "output_type": "execute_result"
    }
   ],
   "source": [
    "bisect.bisect(c,2) # 2가 들어갈 위치를 찾아주는 것 (출력값은 인덱스 자리)"
   ]
  },
  {
   "cell_type": "code",
   "execution_count": 4,
   "id": "cbe96ae1-1f8d-46ef-b303-f7d531e8ff8a",
   "metadata": {},
   "outputs": [
    {
     "data": {
      "text/plain": [
       "6"
      ]
     },
     "execution_count": 4,
     "metadata": {},
     "output_type": "execute_result"
    }
   ],
   "source": [
    "bisect.bisect(c,5)"
   ]
  },
  {
   "cell_type": "code",
   "execution_count": 5,
   "id": "5b7a8327-454a-4803-84e2-5513c0c4d2e2",
   "metadata": {},
   "outputs": [
    {
     "data": {
      "text/plain": [
       "7"
      ]
     },
     "execution_count": 5,
     "metadata": {},
     "output_type": "execute_result"
    }
   ],
   "source": [
    "bisect.bisect(c,8)"
   ]
  },
  {
   "cell_type": "code",
   "execution_count": 6,
   "id": "2a375993-bb5b-48e9-b0a1-0e963a3166ec",
   "metadata": {},
   "outputs": [
    {
     "data": {
      "text/plain": [
       "[1, 2, 2, 2, 3, 4, 7]"
      ]
     },
     "execution_count": 6,
     "metadata": {},
     "output_type": "execute_result"
    }
   ],
   "source": [
    "c"
   ]
  },
  {
   "cell_type": "code",
   "execution_count": 7,
   "id": "21707910-2d75-4276-a20e-2e59a9d8cf1c",
   "metadata": {},
   "outputs": [
    {
     "data": {
      "text/plain": [
       "[7, 2, 3, 7, 5, 6, 8, 1]"
      ]
     },
     "execution_count": 7,
     "metadata": {},
     "output_type": "execute_result"
    }
   ],
   "source": [
    "seq=[7,2,3,7,5,6,8,1]\n",
    "seq"
   ]
  },
  {
   "cell_type": "code",
   "execution_count": 8,
   "id": "fafed880-35c2-4b3a-99d3-03850cf6cabb",
   "metadata": {},
   "outputs": [
    {
     "data": {
      "text/plain": [
       "[7, 2, 3]"
      ]
     },
     "execution_count": 8,
     "metadata": {},
     "output_type": "execute_result"
    }
   ],
   "source": [
    "seq[:3]"
   ]
  },
  {
   "cell_type": "markdown",
   "id": "21d09192-4e12-4792-a46c-8f549e45b721",
   "metadata": {},
   "source": [
    "<img src=\"images/0508/정렬1.png\"/>"
   ]
  },
  {
   "cell_type": "markdown",
   "id": "b3fa4251-d339-44dc-81f6-0e0ae9b67d00",
   "metadata": {},
   "source": [
    "<img src=\"images/0508/정렬2.png\"/>"
   ]
  },
  {
   "cell_type": "markdown",
   "id": "ef14f88e-2613-4f0e-b72c-f53034f13b58",
   "metadata": {},
   "source": [
    "## 이분탐색(반복문)"
   ]
  },
  {
   "cell_type": "code",
   "execution_count": 9,
   "id": "51eaf655-e64d-44cd-9719-a7aead0c7a71",
   "metadata": {},
   "outputs": [],
   "source": [
    "def binary_search(target,data):\n",
    "    data.sort()\n",
    "    start=0 # 맨 처음 위치\n",
    "    end = len(data)-1\n",
    "    while start <= end:\n",
    "        mid = (start+end) //2 # 중간값\n",
    "        if data[mid] == target : return mid # target 위치반환\n",
    "        elif data[mid]>target: # target이 더 작으면 왼쪽을 더 탐색\n",
    "            end = mid-1\n",
    "        else: start = mid+1\n",
    "    return"
   ]
  },
  {
   "cell_type": "markdown",
   "id": "7f88be5b-7c00-4f14-89f6-e93799760d47",
   "metadata": {},
   "source": [
    "## 이분 탐색 함수(재귀)"
   ]
  },
  {
   "cell_type": "code",
   "execution_count": 10,
   "id": "644c6ed7-0608-44be-a8af-63d844a9748f",
   "metadata": {},
   "outputs": [],
   "source": [
    "def binary_search(target, start, end, data):\n",
    "    if start>end: return -1 # 범위를 넘어도 못찾는다면 -1 반환\n",
    "    mid=(start+end)//2 # 중간값\n",
    "    if data[mid] == target : # 중간값의 데이터가 target 과 같다면 mid를 반환\n",
    "        return mid\n",
    "    elif data[mid]>target: end = mid-1 # target이 작으면 왼쪽 탐색\n",
    "    else: start = mid+1 #target이 크면 오른쪽 탐색\n",
    "    print('mid: ',mid,', start: ', start, ', end: ', end)\n",
    "    return binary_search(target, start, end, data)\n",
    "def solution(target, data):\n",
    "    data.sort() # 정렬함수\n",
    "    # print('정렬되었는지 확인? ', data, target)\n",
    "    start=0\n",
    "    end=len(data)-1\n",
    "    return binary_search(target, start, end, data)"
   ]
  },
  {
   "cell_type": "code",
   "execution_count": 11,
   "id": "a8e1de87-5754-4d93-b6b0-3c781256be42",
   "metadata": {},
   "outputs": [
    {
     "name": "stdout",
     "output_type": "stream",
     "text": [
      "mid:  5 , start:  6 , end:  11\n",
      "mid:  8 , start:  9 , end:  11\n",
      "mid:  10 , start:  9 , end:  9\n"
     ]
    },
    {
     "data": {
      "text/plain": [
       "9"
      ]
     },
     "execution_count": 11,
     "metadata": {},
     "output_type": "execute_result"
    }
   ],
   "source": [
    "data1=[11,41,7,91,11,13,116,17,21,22,25,28]\n",
    "solution(41,data1)"
   ]
  },
  {
   "cell_type": "code",
   "execution_count": 12,
   "id": "fe41cdc7-4d55-4570-80e9-6b0050b8b768",
   "metadata": {},
   "outputs": [
    {
     "name": "stdout",
     "output_type": "stream",
     "text": [
      "mid:  5 , start:  6 , end:  11\n",
      "mid:  8 , start:  9 , end:  11\n",
      "mid:  10 , start:  9 , end:  9\n",
      "9\n",
      "mid:  5 , start:  0 , end:  4\n",
      "mid:  2 , start:  0 , end:  1\n",
      "mid:  5 , start:  0 , end:  4\n",
      "mid:  2 , start:  0 , end:  1\n",
      "mid:  0 , start:  1 , end:  1\n",
      "mid:  5 , start:  0 , end:  4\n",
      "mid:  5 , start:  0 , end:  4\n",
      "mid:  2 , start:  3 , end:  4\n",
      "mid:  5 , start:  0 , end:  4\n",
      "mid:  2 , start:  3 , end:  4\n",
      "mid:  3 , start:  4 , end:  4\n",
      "mid:  5 , start:  6 , end:  11\n",
      "mid:  8 , start:  6 , end:  7\n",
      "mid:  5 , start:  6 , end:  11\n",
      "mid:  8 , start:  6 , end:  7\n",
      "mid:  6 , start:  7 , end:  7\n",
      "mid:  5 , start:  6 , end:  11\n",
      "mid:  5 , start:  6 , end:  11\n",
      "mid:  8 , start:  9 , end:  11\n",
      "mid:  10 , start:  9 , end:  9\n",
      "mid:  5 , start:  6 , end:  11\n",
      "mid:  8 , start:  9 , end:  11\n",
      "mid:  5 , start:  6 , end:  11\n",
      "mid:  8 , start:  9 , end:  11\n",
      "mid:  10 , start:  11 , end:  11\n"
     ]
    },
    {
     "data": {
      "text/plain": [
       "[0, 1, 2, 3, 4, 5, 6, 7, 8, 9, 10, 11]"
      ]
     },
     "execution_count": 12,
     "metadata": {},
     "output_type": "execute_result"
    }
   ],
   "source": [
    "data=[1,4,7,9,11,13,16,17,21,22,25,28]\n",
    "t=22\n",
    "print(solution(t,data))\n",
    "[solution(i,data) for i in data]"
   ]
  },
  {
   "cell_type": "code",
   "execution_count": 13,
   "id": "b90b36ab-fa71-445f-8702-ee863e227c04",
   "metadata": {},
   "outputs": [
    {
     "data": {
      "text/plain": [
       "[0, 1, 2, 3, 4, 5, 6, 7, 8, 9]"
      ]
     },
     "execution_count": 13,
     "metadata": {},
     "output_type": "execute_result"
    }
   ],
   "source": [
    "list2=[i for i in range(10)]\n",
    "list2"
   ]
  },
  {
   "cell_type": "code",
   "execution_count": 14,
   "id": "cbfdd90f-4b35-454b-b7f2-d5cf1f4cea22",
   "metadata": {},
   "outputs": [
    {
     "data": {
      "text/plain": [
       "[9, 8, 7, 6, 5, 4, 3, 2, 1, 0]"
      ]
     },
     "execution_count": 14,
     "metadata": {},
     "output_type": "execute_result"
    }
   ],
   "source": [
    "list(reversed(range(10)))"
   ]
  },
  {
   "cell_type": "code",
   "execution_count": 15,
   "id": "8175881e-6c19-481b-b4d2-75062fb198f2",
   "metadata": {},
   "outputs": [
    {
     "data": {
      "text/plain": [
       "[9, 8, 7, 6, 5, 4, 3, 2, 1, 0]"
      ]
     },
     "execution_count": 15,
     "metadata": {},
     "output_type": "execute_result"
    }
   ],
   "source": [
    "list2[::-1]"
   ]
  },
  {
   "cell_type": "code",
   "execution_count": 17,
   "id": "1afd0ee0-bf52-44b8-8e46-dd518e5cabfa",
   "metadata": {},
   "outputs": [
    {
     "data": {
      "text/plain": [
       "[9, 8, 7, 6, 5, 4, 3, 2, 1, 0]"
      ]
     },
     "execution_count": 17,
     "metadata": {},
     "output_type": "execute_result"
    }
   ],
   "source": [
    "[list2.pop() for _ in range(len(list2))]"
   ]
  },
  {
   "cell_type": "code",
   "execution_count": 18,
   "id": "94e8479a-f54b-4ca2-8473-0e9d891a3281",
   "metadata": {},
   "outputs": [
    {
     "ename": "NameError",
     "evalue": "name 'list3' is not defined",
     "output_type": "error",
     "traceback": [
      "\u001b[1;31m---------------------------------------------------------------------------\u001b[0m",
      "\u001b[1;31mNameError\u001b[0m                                 Traceback (most recent call last)",
      "Cell \u001b[1;32mIn[18], line 1\u001b[0m\n\u001b[1;32m----> 1\u001b[0m list3\u001b[38;5;241m.\u001b[39mappend(list2\u001b[38;5;241m.\u001b[39mpop())\n\u001b[0;32m      2\u001b[0m list3\n",
      "\u001b[1;31mNameError\u001b[0m: name 'list3' is not defined"
     ]
    }
   ],
   "source": [
    "list3.append(list2.pop())\n",
    "list3"
   ]
  },
  {
   "cell_type": "code",
   "execution_count": 19,
   "id": "8d4dadba-5824-4fdd-a9df-5c042caee942",
   "metadata": {},
   "outputs": [],
   "source": [
    "words=['apple', 'bat', 'bar', 'atom', 'book']"
   ]
  },
  {
   "cell_type": "code",
   "execution_count": 20,
   "id": "7ba15997-3587-47b8-8477-ba18c46aae72",
   "metadata": {},
   "outputs": [
    {
     "name": "stdout",
     "output_type": "stream",
     "text": [
      "a\n",
      "{'a': ['apple']}\n",
      "b\n",
      "{'a': ['apple'], 'b': ['bat']}\n",
      "b\n",
      "{'a': ['apple'], 'b': ['bat', 'bar']}\n",
      "a\n",
      "{'a': ['apple', 'atom'], 'b': ['bat', 'bar']}\n",
      "b\n",
      "{'a': ['apple', 'atom'], 'b': ['bat', 'bar', 'book']}\n"
     ]
    },
    {
     "data": {
      "text/plain": [
       "{'a': ['apple', 'atom'], 'b': ['bat', 'bar', 'book']}"
      ]
     },
     "execution_count": 20,
     "metadata": {},
     "output_type": "execute_result"
    }
   ],
   "source": [
    "by_letter={}\n",
    "for word in words:\n",
    "    letter = word[0] # 맨 앞단어 하나 꺼내서 letter에 저장\n",
    "    print(word[0])\n",
    "    if letter not in by_letter:\n",
    "        by_letter[letter] = [word] # dictionay에 해당 key가 없으면\n",
    "        # 그 key에 대응되는 리스트에 값을 하나 추가하고 key:value쌍으로 만들어라\n",
    "    else:\n",
    "        by_letter[letter].append(word)\n",
    "    print(by_letter)\n",
    "by_letter"
   ]
  },
  {
   "cell_type": "code",
   "execution_count": 21,
   "id": "ed5f8bcf-9252-491f-bf2b-bf49c28666c0",
   "metadata": {},
   "outputs": [
    {
     "ename": "KeyError",
     "evalue": "'a'",
     "output_type": "error",
     "traceback": [
      "\u001b[1;31m---------------------------------------------------------------------------\u001b[0m",
      "\u001b[1;31mKeyError\u001b[0m                                  Traceback (most recent call last)",
      "Cell \u001b[1;32mIn[21], line 6\u001b[0m\n\u001b[0;32m      4\u001b[0m \u001b[38;5;28;01mfor\u001b[39;00m word \u001b[38;5;129;01min\u001b[39;00m words:\n\u001b[0;32m      5\u001b[0m     \u001b[38;5;28;01mif\u001b[39;00m \u001b[38;5;124m'\u001b[39m\u001b[38;5;124ma\u001b[39m\u001b[38;5;124m'\u001b[39m \u001b[38;5;129;01min\u001b[39;00m word:\n\u001b[1;32m----> 6\u001b[0m         total[\u001b[38;5;124m'\u001b[39m\u001b[38;5;124ma\u001b[39m\u001b[38;5;124m'\u001b[39m]\u001b[38;5;241m.\u001b[39mappend(word)\n\u001b[0;32m      7\u001b[0m     \u001b[38;5;28;01melse\u001b[39;00m:\n\u001b[0;32m      8\u001b[0m         total[\u001b[38;5;124m'\u001b[39m\u001b[38;5;124mno_a\u001b[39m\u001b[38;5;124m'\u001b[39m]\u001b[38;5;241m=\u001b[39m[word]\n",
      "\u001b[1;31mKeyError\u001b[0m: 'a'"
     ]
    }
   ],
   "source": [
    "# a를 포함하는 문자열과 a를 포함하지 않는 문자열 분리\n",
    "words=['apple', 'bat', 'bar', 'atom', 'book']\n",
    "total={}\n",
    "for word in words:\n",
    "    if 'a' in word:\n",
    "        total['a'].append(word)\n",
    "    else:\n",
    "        total['no_a']=[word]\n",
    "    print(total)\n",
    "total"
   ]
  },
  {
   "cell_type": "code",
   "execution_count": 22,
   "id": "e5fadf49-7a8b-41b4-905d-14ec2273e624",
   "metadata": {},
   "outputs": [
    {
     "data": {
      "text/plain": [
       "{'a': ['apple', 'bat', 'bar', 'atom'], 'a_not': ['book']}"
      ]
     },
     "execution_count": 22,
     "metadata": {},
     "output_type": "execute_result"
    }
   ],
   "source": [
    "# a를 포함하는 문자열과 a를 포함하지 않는 문자열 분리\n",
    "words=['apple', 'bat', 'bar', 'atom', 'book']\n",
    "split_a_not_a={}\n",
    "for word in words:\n",
    "    for k in ['a','a_not']:\n",
    "        if k not in split_a_not_a: # 위의 list에서 하나씩 꺼내어 key:value의 초기 딕셔너리 생성\n",
    "            split_a_not_a[k]=[]\n",
    "    if 'a' in word:\n",
    "        split_a_not_a['a'].append(word)\n",
    "    if 'a' not in word:\n",
    "        split_a_not_a['a_not'].append(word)\n",
    "split_a_not_a"
   ]
  },
  {
   "cell_type": "code",
   "execution_count": 23,
   "id": "9772fc5f-baaa-4680-821f-1f4345a8674e",
   "metadata": {},
   "outputs": [
    {
     "data": {
      "text/plain": [
       "{'a': ['apple', 'bat', 'bar', 'atom'], 'a_not': ['book']}"
      ]
     },
     "execution_count": 23,
     "metadata": {},
     "output_type": "execute_result"
    }
   ],
   "source": [
    "# a를 포함하는 문자열과 a를 포함하지 않는 문자열 분리\n",
    "words=['apple', 'bat', 'bar', 'atom', 'book']\n",
    "split_a_not_a={'a':[],'a_not':[]}\n",
    "for word in words:\n",
    "    if 'a' in word:\n",
    "        split_a_not_a['a'].append(word)\n",
    "    if 'a' not in word:\n",
    "        split_a_not_a['a_not'].append(word)\n",
    "split_a_not_a"
   ]
  },
  {
   "cell_type": "code",
   "execution_count": 24,
   "id": "17b3cdc1-f857-43b7-9d82-d773a5a54c29",
   "metadata": {},
   "outputs": [
    {
     "name": "stdout",
     "output_type": "stream",
     "text": [
      "사랑\n"
     ]
    }
   ],
   "source": [
    "if 'a' in 'abc':\n",
    "    print('사랑')"
   ]
  },
  {
   "cell_type": "code",
   "execution_count": 25,
   "id": "16af2f5b-ac97-487f-83bf-138b0ca88c9e",
   "metadata": {},
   "outputs": [
    {
     "name": "stdout",
     "output_type": "stream",
     "text": [
      "참\n"
     ]
    }
   ],
   "source": [
    "dict1 = {'a':3, 'b':[1,2,3]}\n",
    "if 'a' in dict1:\n",
    "    print('참')"
   ]
  },
  {
   "cell_type": "code",
   "execution_count": 26,
   "id": "58af3fde-8672-4af1-9d63-bf752d6e4656",
   "metadata": {},
   "outputs": [
    {
     "name": "stdout",
     "output_type": "stream",
     "text": [
      "참\n"
     ]
    }
   ],
   "source": [
    "if 'b' in dict1:\n",
    "    print('참')"
   ]
  },
  {
   "cell_type": "code",
   "execution_count": 27,
   "id": "68c96954-d150-44a4-811d-244e05a44833",
   "metadata": {},
   "outputs": [],
   "source": [
    "if 'c' in dict1:\n",
    "    print('참')"
   ]
  },
  {
   "cell_type": "code",
   "execution_count": 28,
   "id": "fc6538af-afac-42c0-9cda-75d3a23e360c",
   "metadata": {},
   "outputs": [
    {
     "name": "stdout",
     "output_type": "stream",
     "text": [
      "2가 리스트가 있어요\n"
     ]
    }
   ],
   "source": [
    "if 8 not in [1,2,3,4,5]:\n",
    "    print(\"2가 리스트가 있어요\")"
   ]
  },
  {
   "cell_type": "code",
   "execution_count": 29,
   "id": "0920a777-03f3-4fbd-b922-80087b43d44b",
   "metadata": {},
   "outputs": [
    {
     "data": {
      "text/plain": [
       "'dsafsf'"
      ]
     },
     "execution_count": 29,
     "metadata": {},
     "output_type": "execute_result"
    }
   ],
   "source": [
    "rr='  dsafsf'.strip()\n",
    "rr"
   ]
  },
  {
   "cell_type": "code",
   "execution_count": 30,
   "id": "ca014b44-a979-4e9b-a788-78dbfe4c4fcf",
   "metadata": {},
   "outputs": [],
   "source": [
    "import re\n",
    "def clean_stgrings(strings):\n",
    "    result=[]\n",
    "    for v in strings:\n",
    "        v=v.strip() # 양끝의 공백제거\n",
    "        v=re.sub('[!#?]','',v) # !, #, ? 를 포함하는 것을 공백으로 대체함, 정규 표현식\n",
    "        v=v.title()\n",
    "        result.append(v)\n",
    "    return result"
   ]
  },
  {
   "cell_type": "code",
   "execution_count": 31,
   "id": "e9c10b6f-5736-417b-bf1f-16e63901c89e",
   "metadata": {},
   "outputs": [],
   "source": [
    "states=['!Ala?bama ', 'Georgial', 'Georgia', 'georgia', 'Florida', 'southcarolinar##', 'West virginia?']"
   ]
  },
  {
   "cell_type": "code",
   "execution_count": 32,
   "id": "6b57c9d2-2d9e-423e-b053-d7f49e07e436",
   "metadata": {},
   "outputs": [
    {
     "name": "stdout",
     "output_type": "stream",
     "text": [
      "{'low': ['!ala?bama ', 'georgial', 'georgia', 'georgia', 'florida', 'southcarolinar##', 'west virginia?'], 'up': ['!ALA?BAMA ', 'GEORGIAL', 'GEORGIA', 'GEORGIA', 'FLORIDA', 'SOUTHCAROLINAR##', 'WEST VIRGINIA?']}\n"
     ]
    }
   ],
   "source": [
    "# states[0].lower() # stats를 전체 문자를 소문자로 대체\n",
    "toto={'low':[], 'up':[]}\n",
    "for i in states:\n",
    "    toto['low'].append(i.lower())\n",
    "    toto['up'].append(i.upper())\n",
    "print(toto)\n"
   ]
  },
  {
   "cell_type": "code",
   "execution_count": 33,
   "id": "8e4802b4-044d-4bb7-9c9a-47357979b953",
   "metadata": {},
   "outputs": [
    {
     "data": {
      "text/plain": [
       "{'lower': ['!ala?bama ',\n",
       "  'georgial',\n",
       "  'georgia',\n",
       "  'georgia',\n",
       "  'florida',\n",
       "  'southcarolinar##',\n",
       "  'west virginia?'],\n",
       " 'upper': ['!ALA?BAMA ',\n",
       "  'GEORGIAL',\n",
       "  'GEORGIA',\n",
       "  'GEORGIA',\n",
       "  'FLORIDA',\n",
       "  'SOUTHCAROLINAR##',\n",
       "  'WEST VIRGINIA?'],\n",
       " 'org': ['!Ala?bama ',\n",
       "  'Georgial',\n",
       "  'Georgia',\n",
       "  'georgia',\n",
       "  'Florida',\n",
       "  'southcarolinar##',\n",
       "  'West virginia?']}"
      ]
     },
     "execution_count": 33,
     "metadata": {},
     "output_type": "execute_result"
    }
   ],
   "source": [
    "{\"lower\":[i.lower() for i in states], \"upper\":[i.upper() for i in states], 'org':states}"
   ]
  },
  {
   "cell_type": "code",
   "execution_count": 34,
   "id": "1ff4c70b-a5f9-4f12-a8aa-3b15b9adb4fe",
   "metadata": {},
   "outputs": [],
   "source": [
    "equiv_anon = lambda x:x*2\n",
    "def apply_to_list(some_list,f): return [ f(x) for x in some_list ]"
   ]
  },
  {
   "cell_type": "code",
   "execution_count": 35,
   "id": "c8146399-5848-4f39-8be8-e23a3cb341bd",
   "metadata": {},
   "outputs": [
    {
     "data": {
      "text/plain": [
       "[8, 2, 0, 10, 12]"
      ]
     },
     "execution_count": 35,
     "metadata": {},
     "output_type": "execute_result"
    }
   ],
   "source": [
    "ints=[4,1,0,5,6]\n",
    "apply_to_list(ints, equiv_anon)"
   ]
  },
  {
   "cell_type": "code",
   "execution_count": 36,
   "id": "ec919b41-96e5-49ed-a94c-1e00a5e84b64",
   "metadata": {},
   "outputs": [
    {
     "data": {
      "text/plain": [
       "['Alabama',\n",
       " 'Georgial',\n",
       " 'Georgia',\n",
       " 'Georgia',\n",
       " 'Florida',\n",
       " 'Southcarolinar',\n",
       " 'West Virginia']"
      ]
     },
     "execution_count": 36,
     "metadata": {},
     "output_type": "execute_result"
    }
   ],
   "source": [
    "clean_stgrings(states)"
   ]
  },
  {
   "cell_type": "code",
   "execution_count": null,
   "id": "d4718c8e-8bd8-43f5-9bdd-7e3c684c4c9d",
   "metadata": {},
   "outputs": [],
   "source": [
    "str_name=['홍길동','김말자','김개똥','최수종','하희라']\n",
    "str_love=['사랑','믿음','증오','결별','악수']"
   ]
  },
  {
   "cell_type": "code",
   "execution_count": 37,
   "id": "e632d627-efd1-4855-992d-eaeb8177e658",
   "metadata": {},
   "outputs": [
    {
     "data": {
      "text/plain": [
       "['홍길동사랑', '김말자믿음', '김개똥증오', '최수종결별', '하희라악수']"
      ]
     },
     "execution_count": 37,
     "metadata": {},
     "output_type": "execute_result"
    }
   ],
   "source": [
    "equiv_anon_str = lambda x:x[0]+x[1]\n",
    "def apply_to_list_str(z_l,g): return [ g(x) for x in z_l ]\n",
    "\n",
    "str_name=['홍길동','김말자','김개똥','최수종','하희라']\n",
    "str_love=['사랑','믿음','증오','결별','악수']\n",
    "\n",
    "zip_list = zip(str_name, str_love)\n",
    "apply_to_list_str(zip_list, equiv_anon_str)"
   ]
  },
  {
   "cell_type": "code",
   "execution_count": 38,
   "id": "c9204b49-ad8a-4253-b544-737b83c055b1",
   "metadata": {},
   "outputs": [
    {
     "data": {
      "text/plain": [
       "['홍길동사랑', '김말자믿음', '김개똥증오', '최수종결별', '하희라악수']"
      ]
     },
     "execution_count": 38,
     "metadata": {},
     "output_type": "execute_result"
    }
   ],
   "source": [
    "ll = []\n",
    "for i in zip(str_name, str_love):\n",
    "    ll.append(i[0]+i[1])\n",
    "ll"
   ]
  },
  {
   "cell_type": "code",
   "execution_count": 39,
   "id": "e0c41a4b-ff1d-477c-b0bb-2e5e6ee559b0",
   "metadata": {},
   "outputs": [
    {
     "data": {
      "text/plain": [
       "['홍길동사랑', '김말자믿음', '김개똥증오', '최수종결별', '하희라악수']"
      ]
     },
     "execution_count": 39,
     "metadata": {},
     "output_type": "execute_result"
    }
   ],
   "source": [
    "[(i[0]+i[1]) for i in zip(str_name, str_love)]"
   ]
  },
  {
   "cell_type": "markdown",
   "id": "0a80523f-9bf6-4f48-a1ff-ac7f46e52240",
   "metadata": {},
   "source": [
    "## generator"
   ]
  },
  {
   "cell_type": "code",
   "execution_count": 40,
   "id": "e5fb521b-dc9d-49a6-95cc-7dcdce7110d4",
   "metadata": {},
   "outputs": [],
   "source": [
    "some_dict={'a':1, 'b':2,'c':3}"
   ]
  },
  {
   "cell_type": "code",
   "execution_count": 41,
   "id": "87c8197e-ecac-4f8a-abd8-cc3b41285279",
   "metadata": {},
   "outputs": [],
   "source": [
    "dict_iterator = iter(some_dict) # 반복자(iterator)"
   ]
  },
  {
   "cell_type": "code",
   "execution_count": 42,
   "id": "f3d39e66-1739-4b12-9d4a-a079db2ef270",
   "metadata": {},
   "outputs": [
    {
     "data": {
      "text/plain": [
       "'a'"
      ]
     },
     "execution_count": 42,
     "metadata": {},
     "output_type": "execute_result"
    }
   ],
   "source": [
    "next(dict_iterator)"
   ]
  },
  {
   "cell_type": "code",
   "execution_count": 43,
   "id": "ee89be9c-7c25-430f-9744-acdfb965f63e",
   "metadata": {},
   "outputs": [
    {
     "name": "stdout",
     "output_type": "stream",
     "text": [
      "1\n",
      "2\n",
      "3\n",
      "4\n",
      "5\n",
      "6\n"
     ]
    }
   ],
   "source": [
    "for i in [1,2,3,4,5,6]:\n",
    "    print(i) # 내부적으로 반복자의 next 메서드가 호출되는 것"
   ]
  },
  {
   "cell_type": "code",
   "execution_count": 44,
   "id": "052d2857-83f7-4383-8f63-cc30e1d9d20f",
   "metadata": {},
   "outputs": [],
   "source": [
    "def squares(n=10):\n",
    "    print('1부터 {0} 까지의 숫자를 생성함'.format(n**2))\n",
    "    for i in range(1,n+1): yield i**2 # return 하게 되면 함수가 종료되지만 yield는 종료하지 않고 데이터를 가지고 있는다\n",
    "#데이터를 보존하고 그 위치부터 다시 시작함"
   ]
  },
  {
   "cell_type": "code",
   "execution_count": 45,
   "id": "0dde3f5a-6438-4a4c-ae4d-8462979d37a2",
   "metadata": {},
   "outputs": [
    {
     "name": "stdout",
     "output_type": "stream",
     "text": [
      "1부터 100 까지의 숫자를 생성함\n",
      "1 4 9 16 25 36 49 64 81 100 "
     ]
    }
   ],
   "source": [
    "gen = squares()\n",
    "for x in gen:\n",
    "    print(x, end=' ')"
   ]
  },
  {
   "cell_type": "code",
   "execution_count": 46,
   "id": "b3a8ea43-cdf5-43d9-b0c9-e4de2d702068",
   "metadata": {},
   "outputs": [
    {
     "data": {
      "text/plain": [
       "328350"
      ]
     },
     "execution_count": 46,
     "metadata": {},
     "output_type": "execute_result"
    }
   ],
   "source": [
    "gen = (x**2 for x in range(100)) # generator\n",
    "sum(gen) # generator의 총합"
   ]
  },
  {
   "cell_type": "code",
   "execution_count": 47,
   "id": "8318a87d-358e-43d3-a2b7-ffb6f62cd3ba",
   "metadata": {},
   "outputs": [],
   "source": [
    "import pandas as pd"
   ]
  },
  {
   "cell_type": "code",
   "execution_count": 48,
   "id": "05efa5f0-dc36-49c9-9165-01e0720c90e0",
   "metadata": {},
   "outputs": [
    {
     "data": {
      "text/plain": [
       "0    4\n",
       "1    7\n",
       "2   -5\n",
       "3    3\n",
       "dtype: int64"
      ]
     },
     "execution_count": 48,
     "metadata": {},
     "output_type": "execute_result"
    }
   ],
   "source": [
    "obj = pd.Series([4,7,-5,3])\n",
    "obj"
   ]
  },
  {
   "cell_type": "code",
   "execution_count": 49,
   "id": "8e8c18e8-5994-4656-bbaa-6b9d982b316f",
   "metadata": {},
   "outputs": [
    {
     "data": {
      "text/plain": [
       "array([ 4,  7, -5,  3], dtype=int64)"
      ]
     },
     "execution_count": 49,
     "metadata": {},
     "output_type": "execute_result"
    }
   ],
   "source": [
    "obj.values"
   ]
  },
  {
   "cell_type": "code",
   "execution_count": 50,
   "id": "68708830-b6fe-465f-acb2-173cbc03d0ed",
   "metadata": {},
   "outputs": [
    {
     "data": {
      "text/plain": [
       "a    4\n",
       "b    7\n",
       "c   -5\n",
       "d    3\n",
       "dtype: int64"
      ]
     },
     "execution_count": 50,
     "metadata": {},
     "output_type": "execute_result"
    }
   ],
   "source": [
    "obj2=pd.Series([4,7,-5,3], index=list('abcd'))\n",
    "obj2"
   ]
  },
  {
   "cell_type": "code",
   "execution_count": 51,
   "id": "d696a462-f6dc-4b52-9461-21f34be26c44",
   "metadata": {},
   "outputs": [
    {
     "data": {
      "text/plain": [
       "4"
      ]
     },
     "execution_count": 51,
     "metadata": {},
     "output_type": "execute_result"
    }
   ],
   "source": [
    "obj2['a']"
   ]
  },
  {
   "cell_type": "code",
   "execution_count": 52,
   "id": "d75dbe79-b0ea-4952-b1ca-370b2134ef1f",
   "metadata": {},
   "outputs": [
    {
     "data": {
      "text/plain": [
       "0     True\n",
       "1     True\n",
       "2    False\n",
       "3     True\n",
       "dtype: bool"
      ]
     },
     "execution_count": 52,
     "metadata": {},
     "output_type": "execute_result"
    }
   ],
   "source": [
    "obj>0"
   ]
  },
  {
   "cell_type": "code",
   "execution_count": 53,
   "id": "0ca05a54-9270-46da-883a-2d5750889088",
   "metadata": {},
   "outputs": [
    {
     "data": {
      "text/plain": [
       "a    4\n",
       "b    7\n",
       "d    3\n",
       "dtype: int64"
      ]
     },
     "execution_count": 53,
     "metadata": {},
     "output_type": "execute_result"
    }
   ],
   "source": [
    "obj2[obj2>0] #pancy index, boolean 연산자로 filtering"
   ]
  },
  {
   "cell_type": "code",
   "execution_count": 54,
   "id": "ca1cfdab-ac18-4f87-8db8-d6d854a0291a",
   "metadata": {},
   "outputs": [
    {
     "data": {
      "text/plain": [
       "[4, 7, 3]"
      ]
     },
     "execution_count": 54,
     "metadata": {},
     "output_type": "execute_result"
    }
   ],
   "source": [
    "list_number=[4,7,-5,3]\n",
    "big_number=[]\n",
    "#0보다 큰것만 걸러라\n",
    "for i in list_number:\n",
    "    if i>0:\n",
    "        big_number.append(i)\n",
    "big_number"
   ]
  },
  {
   "cell_type": "code",
   "execution_count": 55,
   "id": "c8b7da81-7fc5-4063-853b-bb29830c84f7",
   "metadata": {},
   "outputs": [
    {
     "data": {
      "text/plain": [
       "[4, 7, 3]"
      ]
     },
     "execution_count": 55,
     "metadata": {},
     "output_type": "execute_result"
    }
   ],
   "source": [
    "list_number=[4,7,-5,3]\n",
    "list(filter(lambda x : x>0, list_number))"
   ]
  },
  {
   "cell_type": "markdown",
   "id": "8fad2c05-5467-4bfe-abd8-13f101ac8ca2",
   "metadata": {},
   "source": [
    "$$ f(x) =e^{x}  , 지수함수를 exp로 표현함 $$"
   ]
  },
  {
   "cell_type": "code",
   "execution_count": 56,
   "id": "5e79e119-88a4-4e05-a072-3b17ace1aeab",
   "metadata": {},
   "outputs": [
    {
     "data": {
      "text/plain": [
       "a      54.598150\n",
       "b    1096.633158\n",
       "c       0.006738\n",
       "d      20.085537\n",
       "dtype: float64"
      ]
     },
     "execution_count": 56,
     "metadata": {},
     "output_type": "execute_result"
    }
   ],
   "source": [
    "import numpy as np\n",
    "np.exp(obj2)"
   ]
  },
  {
   "cell_type": "code",
   "execution_count": 57,
   "id": "a5f343f5-80ec-4933-8d21-b7b4069e3742",
   "metadata": {},
   "outputs": [
    {
     "data": {
      "text/plain": [
       "Califonia        NaN\n",
       "Ohio         35000.0\n",
       "Oregeon          NaN\n",
       "Texas        71000.0\n",
       "dtype: float64"
      ]
     },
     "execution_count": 57,
     "metadata": {},
     "output_type": "execute_result"
    }
   ],
   "source": [
    "states=['Califonia', 'Ohio', 'Oregeon', 'Texas']\n",
    "sdata={'Ohio':35000, 'Texas':71000, 'Oregon':16000, 'Utah':5000}\n",
    "obj3 = pd.Series(sdata)\n",
    "obj4 = pd.Series(sdata, index=states)\n",
    "obj4"
   ]
  },
  {
   "cell_type": "code",
   "execution_count": 58,
   "id": "fdd77670-699c-410c-830d-d35c8f32c34b",
   "metadata": {},
   "outputs": [
    {
     "data": {
      "text/plain": [
       "Califonia     True\n",
       "Ohio         False\n",
       "Oregeon       True\n",
       "Texas        False\n",
       "dtype: bool"
      ]
     },
     "execution_count": 58,
     "metadata": {},
     "output_type": "execute_result"
    }
   ],
   "source": [
    "pd.isnull(obj4)"
   ]
  },
  {
   "cell_type": "code",
   "execution_count": 59,
   "id": "b33b838a-e3e6-4777-9a3a-6569c688fd0e",
   "metadata": {},
   "outputs": [
    {
     "data": {
      "text/plain": [
       "Califonia    False\n",
       "Ohio          True\n",
       "Oregeon      False\n",
       "Texas         True\n",
       "dtype: bool"
      ]
     },
     "execution_count": 59,
     "metadata": {},
     "output_type": "execute_result"
    }
   ],
   "source": [
    "pd.notnull(obj4)"
   ]
  },
  {
   "cell_type": "code",
   "execution_count": 60,
   "id": "8c735800-f5ab-4703-817c-5b4aee229553",
   "metadata": {},
   "outputs": [
    {
     "data": {
      "text/plain": [
       "Califonia     True\n",
       "Ohio         False\n",
       "Oregeon       True\n",
       "Texas        False\n",
       "dtype: bool"
      ]
     },
     "execution_count": 60,
     "metadata": {},
     "output_type": "execute_result"
    }
   ],
   "source": [
    "obj4.isnull()"
   ]
  },
  {
   "cell_type": "code",
   "execution_count": 61,
   "id": "de892403-ea7c-4c91-916e-6933da6b276f",
   "metadata": {},
   "outputs": [
    {
     "data": {
      "text/plain": [
       "Califonia         NaN\n",
       "Ohio          70000.0\n",
       "Oregeon           NaN\n",
       "Oregon            NaN\n",
       "Texas        142000.0\n",
       "Utah              NaN\n",
       "dtype: float64"
      ]
     },
     "execution_count": 61,
     "metadata": {},
     "output_type": "execute_result"
    }
   ],
   "source": [
    "obj3+obj4"
   ]
  },
  {
   "cell_type": "code",
   "execution_count": 62,
   "id": "82b2e5f9-0a61-46cf-bc85-c825be677005",
   "metadata": {},
   "outputs": [],
   "source": [
    "obj4.name='population' #Series의 이름 지정\n",
    "obj3.index.name='staste' # Series의 index의 이름 지정"
   ]
  },
  {
   "cell_type": "markdown",
   "id": "3ed602c2-ad96-4592-9b78-6017b9462998",
   "metadata": {},
   "source": [
    "## dataFrame, 데이터 분선을 위한 2차원 데이터"
   ]
  },
  {
   "cell_type": "code",
   "execution_count": 64,
   "id": "1d418f41-3c65-4bdc-9a3a-89e45da98fb5",
   "metadata": {},
   "outputs": [
    {
     "data": {
      "text/html": [
       "<div>\n",
       "<style scoped>\n",
       "    .dataframe tbody tr th:only-of-type {\n",
       "        vertical-align: middle;\n",
       "    }\n",
       "\n",
       "    .dataframe tbody tr th {\n",
       "        vertical-align: top;\n",
       "    }\n",
       "\n",
       "    .dataframe thead th {\n",
       "        text-align: right;\n",
       "    }\n",
       "</style>\n",
       "<table border=\"1\" class=\"dataframe\">\n",
       "  <thead>\n",
       "    <tr style=\"text-align: right;\">\n",
       "      <th></th>\n",
       "      <th>state</th>\n",
       "      <th>year</th>\n",
       "      <th>pop</th>\n",
       "    </tr>\n",
       "  </thead>\n",
       "  <tbody>\n",
       "    <tr>\n",
       "      <th>0</th>\n",
       "      <td>Ohio</td>\n",
       "      <td>2000</td>\n",
       "      <td>1.5</td>\n",
       "    </tr>\n",
       "    <tr>\n",
       "      <th>1</th>\n",
       "      <td>Ohio</td>\n",
       "      <td>2001</td>\n",
       "      <td>1.7</td>\n",
       "    </tr>\n",
       "    <tr>\n",
       "      <th>2</th>\n",
       "      <td>Ohio</td>\n",
       "      <td>2002</td>\n",
       "      <td>3.6</td>\n",
       "    </tr>\n",
       "    <tr>\n",
       "      <th>3</th>\n",
       "      <td>Nevada</td>\n",
       "      <td>2001</td>\n",
       "      <td>2.4</td>\n",
       "    </tr>\n",
       "    <tr>\n",
       "      <th>4</th>\n",
       "      <td>Nevada</td>\n",
       "      <td>2002</td>\n",
       "      <td>2.9</td>\n",
       "    </tr>\n",
       "    <tr>\n",
       "      <th>5</th>\n",
       "      <td>Nevada</td>\n",
       "      <td>2003</td>\n",
       "      <td>3.2</td>\n",
       "    </tr>\n",
       "  </tbody>\n",
       "</table>\n",
       "</div>"
      ],
      "text/plain": [
       "    state  year  pop\n",
       "0    Ohio  2000  1.5\n",
       "1    Ohio  2001  1.7\n",
       "2    Ohio  2002  3.6\n",
       "3  Nevada  2001  2.4\n",
       "4  Nevada  2002  2.9\n",
       "5  Nevada  2003  3.2"
      ]
     },
     "execution_count": 64,
     "metadata": {},
     "output_type": "execute_result"
    }
   ],
   "source": [
    "data = {'state':['Ohio','Ohio','Ohio','Nevada','Nevada','Nevada'],\n",
    "        'year':[2000,2001,2002,2001,2002,2003],\n",
    "        'pop':[1.5,1.7,3.6,2.4,2.9,3.2]}\n",
    "frame=pd.DataFrame(data)#dictionry를 dataFrame으로 변환, list가 데이터가 되고 key가 column이 되고\n",
    "                        #index는 자동으로 생성 index 지정가능\n",
    "frame"
   ]
  },
  {
   "cell_type": "code",
   "execution_count": 65,
   "id": "89e9a8c3-ed08-465f-99be-0d7cf5d664c0",
   "metadata": {},
   "outputs": [
    {
     "data": {
      "text/html": [
       "<div>\n",
       "<style scoped>\n",
       "    .dataframe tbody tr th:only-of-type {\n",
       "        vertical-align: middle;\n",
       "    }\n",
       "\n",
       "    .dataframe tbody tr th {\n",
       "        vertical-align: top;\n",
       "    }\n",
       "\n",
       "    .dataframe thead th {\n",
       "        text-align: right;\n",
       "    }\n",
       "</style>\n",
       "<table border=\"1\" class=\"dataframe\">\n",
       "  <thead>\n",
       "    <tr style=\"text-align: right;\">\n",
       "      <th></th>\n",
       "      <th>state</th>\n",
       "      <th>year</th>\n",
       "      <th>pop</th>\n",
       "    </tr>\n",
       "  </thead>\n",
       "  <tbody>\n",
       "    <tr>\n",
       "      <th>0</th>\n",
       "      <td>Ohio</td>\n",
       "      <td>2000</td>\n",
       "      <td>1.5</td>\n",
       "    </tr>\n",
       "    <tr>\n",
       "      <th>1</th>\n",
       "      <td>Ohio</td>\n",
       "      <td>2001</td>\n",
       "      <td>1.7</td>\n",
       "    </tr>\n",
       "  </tbody>\n",
       "</table>\n",
       "</div>"
      ],
      "text/plain": [
       "  state  year  pop\n",
       "0  Ohio  2000  1.5\n",
       "1  Ohio  2001  1.7"
      ]
     },
     "execution_count": 65,
     "metadata": {},
     "output_type": "execute_result"
    }
   ],
   "source": [
    "frame.head(2)"
   ]
  },
  {
   "cell_type": "code",
   "execution_count": 66,
   "id": "d94a6c4e-7abd-4a48-bc48-67ffd6ab6671",
   "metadata": {},
   "outputs": [
    {
     "data": {
      "text/html": [
       "<div>\n",
       "<style scoped>\n",
       "    .dataframe tbody tr th:only-of-type {\n",
       "        vertical-align: middle;\n",
       "    }\n",
       "\n",
       "    .dataframe tbody tr th {\n",
       "        vertical-align: top;\n",
       "    }\n",
       "\n",
       "    .dataframe thead th {\n",
       "        text-align: right;\n",
       "    }\n",
       "</style>\n",
       "<table border=\"1\" class=\"dataframe\">\n",
       "  <thead>\n",
       "    <tr style=\"text-align: right;\">\n",
       "      <th></th>\n",
       "      <th>year</th>\n",
       "      <th>state</th>\n",
       "      <th>pop</th>\n",
       "    </tr>\n",
       "  </thead>\n",
       "  <tbody>\n",
       "    <tr>\n",
       "      <th>0</th>\n",
       "      <td>2000</td>\n",
       "      <td>Ohio</td>\n",
       "      <td>1.5</td>\n",
       "    </tr>\n",
       "    <tr>\n",
       "      <th>1</th>\n",
       "      <td>2001</td>\n",
       "      <td>Ohio</td>\n",
       "      <td>1.7</td>\n",
       "    </tr>\n",
       "    <tr>\n",
       "      <th>2</th>\n",
       "      <td>2002</td>\n",
       "      <td>Ohio</td>\n",
       "      <td>3.6</td>\n",
       "    </tr>\n",
       "    <tr>\n",
       "      <th>3</th>\n",
       "      <td>2001</td>\n",
       "      <td>Nevada</td>\n",
       "      <td>2.4</td>\n",
       "    </tr>\n",
       "    <tr>\n",
       "      <th>4</th>\n",
       "      <td>2002</td>\n",
       "      <td>Nevada</td>\n",
       "      <td>2.9</td>\n",
       "    </tr>\n",
       "    <tr>\n",
       "      <th>5</th>\n",
       "      <td>2003</td>\n",
       "      <td>Nevada</td>\n",
       "      <td>3.2</td>\n",
       "    </tr>\n",
       "  </tbody>\n",
       "</table>\n",
       "</div>"
      ],
      "text/plain": [
       "   year   state  pop\n",
       "0  2000    Ohio  1.5\n",
       "1  2001    Ohio  1.7\n",
       "2  2002    Ohio  3.6\n",
       "3  2001  Nevada  2.4\n",
       "4  2002  Nevada  2.9\n",
       "5  2003  Nevada  3.2"
      ]
     },
     "execution_count": 66,
     "metadata": {},
     "output_type": "execute_result"
    }
   ],
   "source": [
    "pd.DataFrame(data, columns=['year','state','pop'])"
   ]
  },
  {
   "cell_type": "code",
   "execution_count": 67,
   "id": "1de00b5c-dfbf-446e-b138-3e080c13cc79",
   "metadata": {},
   "outputs": [
    {
     "data": {
      "text/html": [
       "<div>\n",
       "<style scoped>\n",
       "    .dataframe tbody tr th:only-of-type {\n",
       "        vertical-align: middle;\n",
       "    }\n",
       "\n",
       "    .dataframe tbody tr th {\n",
       "        vertical-align: top;\n",
       "    }\n",
       "\n",
       "    .dataframe thead th {\n",
       "        text-align: right;\n",
       "    }\n",
       "</style>\n",
       "<table border=\"1\" class=\"dataframe\">\n",
       "  <thead>\n",
       "    <tr style=\"text-align: right;\">\n",
       "      <th></th>\n",
       "      <th>year</th>\n",
       "      <th>state</th>\n",
       "      <th>pop</th>\n",
       "      <th>debt</th>\n",
       "    </tr>\n",
       "  </thead>\n",
       "  <tbody>\n",
       "    <tr>\n",
       "      <th>one</th>\n",
       "      <td>2000</td>\n",
       "      <td>Ohio</td>\n",
       "      <td>1.5</td>\n",
       "      <td>NaN</td>\n",
       "    </tr>\n",
       "    <tr>\n",
       "      <th>two</th>\n",
       "      <td>2001</td>\n",
       "      <td>Ohio</td>\n",
       "      <td>1.7</td>\n",
       "      <td>NaN</td>\n",
       "    </tr>\n",
       "    <tr>\n",
       "      <th>three</th>\n",
       "      <td>2002</td>\n",
       "      <td>Ohio</td>\n",
       "      <td>3.6</td>\n",
       "      <td>NaN</td>\n",
       "    </tr>\n",
       "    <tr>\n",
       "      <th>four</th>\n",
       "      <td>2001</td>\n",
       "      <td>Nevada</td>\n",
       "      <td>2.4</td>\n",
       "      <td>NaN</td>\n",
       "    </tr>\n",
       "    <tr>\n",
       "      <th>five</th>\n",
       "      <td>2002</td>\n",
       "      <td>Nevada</td>\n",
       "      <td>2.9</td>\n",
       "      <td>NaN</td>\n",
       "    </tr>\n",
       "    <tr>\n",
       "      <th>six</th>\n",
       "      <td>2003</td>\n",
       "      <td>Nevada</td>\n",
       "      <td>3.2</td>\n",
       "      <td>NaN</td>\n",
       "    </tr>\n",
       "  </tbody>\n",
       "</table>\n",
       "</div>"
      ],
      "text/plain": [
       "       year   state  pop debt\n",
       "one    2000    Ohio  1.5  NaN\n",
       "two    2001    Ohio  1.7  NaN\n",
       "three  2002    Ohio  3.6  NaN\n",
       "four   2001  Nevada  2.4  NaN\n",
       "five   2002  Nevada  2.9  NaN\n",
       "six    2003  Nevada  3.2  NaN"
      ]
     },
     "execution_count": 67,
     "metadata": {},
     "output_type": "execute_result"
    }
   ],
   "source": [
    "frame2=pd.DataFrame(data,columns=['year','state','pop','debt'], index=['one','two','three','four','five','six'])\n",
    "frame2"
   ]
  },
  {
   "cell_type": "code",
   "execution_count": 68,
   "id": "9dbfca0f-d6a9-45df-9a33-9fb068290525",
   "metadata": {},
   "outputs": [
    {
     "data": {
      "text/plain": [
       "one        Ohio\n",
       "two        Ohio\n",
       "three      Ohio\n",
       "four     Nevada\n",
       "five     Nevada\n",
       "six      Nevada\n",
       "Name: state, dtype: object"
      ]
     },
     "execution_count": 68,
     "metadata": {},
     "output_type": "execute_result"
    }
   ],
   "source": [
    "frame2['state'] #Series"
   ]
  },
  {
   "cell_type": "code",
   "execution_count": 69,
   "id": "31f0e745-08f0-45a5-a08c-18818a8ee889",
   "metadata": {},
   "outputs": [
    {
     "data": {
      "text/html": [
       "<div>\n",
       "<style scoped>\n",
       "    .dataframe tbody tr th:only-of-type {\n",
       "        vertical-align: middle;\n",
       "    }\n",
       "\n",
       "    .dataframe tbody tr th {\n",
       "        vertical-align: top;\n",
       "    }\n",
       "\n",
       "    .dataframe thead th {\n",
       "        text-align: right;\n",
       "    }\n",
       "</style>\n",
       "<table border=\"1\" class=\"dataframe\">\n",
       "  <thead>\n",
       "    <tr style=\"text-align: right;\">\n",
       "      <th></th>\n",
       "      <th>state</th>\n",
       "      <th>pop</th>\n",
       "    </tr>\n",
       "  </thead>\n",
       "  <tbody>\n",
       "    <tr>\n",
       "      <th>one</th>\n",
       "      <td>Ohio</td>\n",
       "      <td>1.5</td>\n",
       "    </tr>\n",
       "    <tr>\n",
       "      <th>two</th>\n",
       "      <td>Ohio</td>\n",
       "      <td>1.7</td>\n",
       "    </tr>\n",
       "    <tr>\n",
       "      <th>three</th>\n",
       "      <td>Ohio</td>\n",
       "      <td>3.6</td>\n",
       "    </tr>\n",
       "    <tr>\n",
       "      <th>four</th>\n",
       "      <td>Nevada</td>\n",
       "      <td>2.4</td>\n",
       "    </tr>\n",
       "    <tr>\n",
       "      <th>five</th>\n",
       "      <td>Nevada</td>\n",
       "      <td>2.9</td>\n",
       "    </tr>\n",
       "    <tr>\n",
       "      <th>six</th>\n",
       "      <td>Nevada</td>\n",
       "      <td>3.2</td>\n",
       "    </tr>\n",
       "  </tbody>\n",
       "</table>\n",
       "</div>"
      ],
      "text/plain": [
       "        state  pop\n",
       "one      Ohio  1.5\n",
       "two      Ohio  1.7\n",
       "three    Ohio  3.6\n",
       "four   Nevada  2.4\n",
       "five   Nevada  2.9\n",
       "six    Nevada  3.2"
      ]
     },
     "execution_count": 69,
     "metadata": {},
     "output_type": "execute_result"
    }
   ],
   "source": [
    "frame2[['state','pop']] #Series"
   ]
  },
  {
   "cell_type": "code",
   "execution_count": 70,
   "id": "3011f7c7-23c3-4d2f-a2af-c5cb9b0f29b2",
   "metadata": {},
   "outputs": [
    {
     "data": {
      "text/plain": [
       "one      2000\n",
       "two      2001\n",
       "three    2002\n",
       "four     2001\n",
       "five     2002\n",
       "six      2003\n",
       "Name: year, dtype: int64"
      ]
     },
     "execution_count": 70,
     "metadata": {},
     "output_type": "execute_result"
    }
   ],
   "source": [
    "frame2.year"
   ]
  },
  {
   "cell_type": "code",
   "execution_count": 72,
   "id": "a139a60e-a5f5-43db-95b1-75bbe1b2caeb",
   "metadata": {},
   "outputs": [
    {
     "data": {
      "text/plain": [
       "year     2002\n",
       "state    Ohio\n",
       "pop       3.6\n",
       "debt      NaN\n",
       "Name: three, dtype: object"
      ]
     },
     "execution_count": 72,
     "metadata": {},
     "output_type": "execute_result"
    }
   ],
   "source": [
    "frame2.loc['three'] #loc는 location의 약자로 three의 데이터를 row(행)으로"
   ]
  },
  {
   "cell_type": "code",
   "execution_count": 73,
   "id": "04492648-d082-4908-9020-dbba98e635f6",
   "metadata": {},
   "outputs": [
    {
     "data": {
      "text/html": [
       "<div>\n",
       "<style scoped>\n",
       "    .dataframe tbody tr th:only-of-type {\n",
       "        vertical-align: middle;\n",
       "    }\n",
       "\n",
       "    .dataframe tbody tr th {\n",
       "        vertical-align: top;\n",
       "    }\n",
       "\n",
       "    .dataframe thead th {\n",
       "        text-align: right;\n",
       "    }\n",
       "</style>\n",
       "<table border=\"1\" class=\"dataframe\">\n",
       "  <thead>\n",
       "    <tr style=\"text-align: right;\">\n",
       "      <th></th>\n",
       "      <th>year</th>\n",
       "      <th>state</th>\n",
       "      <th>pop</th>\n",
       "      <th>debt</th>\n",
       "    </tr>\n",
       "  </thead>\n",
       "  <tbody>\n",
       "    <tr>\n",
       "      <th>one</th>\n",
       "      <td>2000</td>\n",
       "      <td>Ohio</td>\n",
       "      <td>1.5</td>\n",
       "      <td>16.5</td>\n",
       "    </tr>\n",
       "    <tr>\n",
       "      <th>two</th>\n",
       "      <td>2001</td>\n",
       "      <td>Ohio</td>\n",
       "      <td>1.7</td>\n",
       "      <td>16.5</td>\n",
       "    </tr>\n",
       "    <tr>\n",
       "      <th>three</th>\n",
       "      <td>2002</td>\n",
       "      <td>Ohio</td>\n",
       "      <td>3.6</td>\n",
       "      <td>16.5</td>\n",
       "    </tr>\n",
       "    <tr>\n",
       "      <th>four</th>\n",
       "      <td>2001</td>\n",
       "      <td>Nevada</td>\n",
       "      <td>2.4</td>\n",
       "      <td>16.5</td>\n",
       "    </tr>\n",
       "    <tr>\n",
       "      <th>five</th>\n",
       "      <td>2002</td>\n",
       "      <td>Nevada</td>\n",
       "      <td>2.9</td>\n",
       "      <td>16.5</td>\n",
       "    </tr>\n",
       "    <tr>\n",
       "      <th>six</th>\n",
       "      <td>2003</td>\n",
       "      <td>Nevada</td>\n",
       "      <td>3.2</td>\n",
       "      <td>16.5</td>\n",
       "    </tr>\n",
       "  </tbody>\n",
       "</table>\n",
       "</div>"
      ],
      "text/plain": [
       "       year   state  pop  debt\n",
       "one    2000    Ohio  1.5  16.5\n",
       "two    2001    Ohio  1.7  16.5\n",
       "three  2002    Ohio  3.6  16.5\n",
       "four   2001  Nevada  2.4  16.5\n",
       "five   2002  Nevada  2.9  16.5\n",
       "six    2003  Nevada  3.2  16.5"
      ]
     },
     "execution_count": 73,
     "metadata": {},
     "output_type": "execute_result"
    }
   ],
   "source": [
    "frame2['debt']=16.5\n",
    "frame2"
   ]
  },
  {
   "cell_type": "code",
   "execution_count": 74,
   "id": "c92f6cf6-6d18-4c9b-8cbc-6f7fb795b93c",
   "metadata": {},
   "outputs": [
    {
     "data": {
      "text/html": [
       "<div>\n",
       "<style scoped>\n",
       "    .dataframe tbody tr th:only-of-type {\n",
       "        vertical-align: middle;\n",
       "    }\n",
       "\n",
       "    .dataframe tbody tr th {\n",
       "        vertical-align: top;\n",
       "    }\n",
       "\n",
       "    .dataframe thead th {\n",
       "        text-align: right;\n",
       "    }\n",
       "</style>\n",
       "<table border=\"1\" class=\"dataframe\">\n",
       "  <thead>\n",
       "    <tr style=\"text-align: right;\">\n",
       "      <th></th>\n",
       "      <th>year</th>\n",
       "      <th>state</th>\n",
       "      <th>pop</th>\n",
       "      <th>debt</th>\n",
       "    </tr>\n",
       "  </thead>\n",
       "  <tbody>\n",
       "    <tr>\n",
       "      <th>one</th>\n",
       "      <td>2000</td>\n",
       "      <td>Ohio</td>\n",
       "      <td>1.5</td>\n",
       "      <td>0.0</td>\n",
       "    </tr>\n",
       "    <tr>\n",
       "      <th>two</th>\n",
       "      <td>2001</td>\n",
       "      <td>Ohio</td>\n",
       "      <td>1.7</td>\n",
       "      <td>1.0</td>\n",
       "    </tr>\n",
       "    <tr>\n",
       "      <th>three</th>\n",
       "      <td>2002</td>\n",
       "      <td>Ohio</td>\n",
       "      <td>3.6</td>\n",
       "      <td>2.0</td>\n",
       "    </tr>\n",
       "    <tr>\n",
       "      <th>four</th>\n",
       "      <td>2001</td>\n",
       "      <td>Nevada</td>\n",
       "      <td>2.4</td>\n",
       "      <td>3.0</td>\n",
       "    </tr>\n",
       "    <tr>\n",
       "      <th>five</th>\n",
       "      <td>2002</td>\n",
       "      <td>Nevada</td>\n",
       "      <td>2.9</td>\n",
       "      <td>4.0</td>\n",
       "    </tr>\n",
       "    <tr>\n",
       "      <th>six</th>\n",
       "      <td>2003</td>\n",
       "      <td>Nevada</td>\n",
       "      <td>3.2</td>\n",
       "      <td>5.0</td>\n",
       "    </tr>\n",
       "  </tbody>\n",
       "</table>\n",
       "</div>"
      ],
      "text/plain": [
       "       year   state  pop  debt\n",
       "one    2000    Ohio  1.5   0.0\n",
       "two    2001    Ohio  1.7   1.0\n",
       "three  2002    Ohio  3.6   2.0\n",
       "four   2001  Nevada  2.4   3.0\n",
       "five   2002  Nevada  2.9   4.0\n",
       "six    2003  Nevada  3.2   5.0"
      ]
     },
     "execution_count": 74,
     "metadata": {},
     "output_type": "execute_result"
    }
   ],
   "source": [
    "frame2['debt'] = np.arange(6.)\n",
    "frame2"
   ]
  },
  {
   "cell_type": "code",
   "execution_count": 76,
   "id": "0c90d3fd-e3a2-4474-91d1-889ed9e7b2fe",
   "metadata": {},
   "outputs": [
    {
     "data": {
      "text/html": [
       "<div>\n",
       "<style scoped>\n",
       "    .dataframe tbody tr th:only-of-type {\n",
       "        vertical-align: middle;\n",
       "    }\n",
       "\n",
       "    .dataframe tbody tr th {\n",
       "        vertical-align: top;\n",
       "    }\n",
       "\n",
       "    .dataframe thead th {\n",
       "        text-align: right;\n",
       "    }\n",
       "</style>\n",
       "<table border=\"1\" class=\"dataframe\">\n",
       "  <thead>\n",
       "    <tr style=\"text-align: right;\">\n",
       "      <th></th>\n",
       "      <th>year</th>\n",
       "      <th>state</th>\n",
       "      <th>pop</th>\n",
       "      <th>debt</th>\n",
       "    </tr>\n",
       "  </thead>\n",
       "  <tbody>\n",
       "    <tr>\n",
       "      <th>one</th>\n",
       "      <td>2000</td>\n",
       "      <td>Ohio</td>\n",
       "      <td>1.5</td>\n",
       "      <td>NaN</td>\n",
       "    </tr>\n",
       "    <tr>\n",
       "      <th>two</th>\n",
       "      <td>2001</td>\n",
       "      <td>Ohio</td>\n",
       "      <td>1.7</td>\n",
       "      <td>-1.2</td>\n",
       "    </tr>\n",
       "    <tr>\n",
       "      <th>three</th>\n",
       "      <td>2002</td>\n",
       "      <td>Ohio</td>\n",
       "      <td>3.6</td>\n",
       "      <td>NaN</td>\n",
       "    </tr>\n",
       "    <tr>\n",
       "      <th>four</th>\n",
       "      <td>2001</td>\n",
       "      <td>Nevada</td>\n",
       "      <td>2.4</td>\n",
       "      <td>-1.5</td>\n",
       "    </tr>\n",
       "    <tr>\n",
       "      <th>five</th>\n",
       "      <td>2002</td>\n",
       "      <td>Nevada</td>\n",
       "      <td>2.9</td>\n",
       "      <td>-1.7</td>\n",
       "    </tr>\n",
       "    <tr>\n",
       "      <th>six</th>\n",
       "      <td>2003</td>\n",
       "      <td>Nevada</td>\n",
       "      <td>3.2</td>\n",
       "      <td>NaN</td>\n",
       "    </tr>\n",
       "  </tbody>\n",
       "</table>\n",
       "</div>"
      ],
      "text/plain": [
       "       year   state  pop  debt\n",
       "one    2000    Ohio  1.5   NaN\n",
       "two    2001    Ohio  1.7  -1.2\n",
       "three  2002    Ohio  3.6   NaN\n",
       "four   2001  Nevada  2.4  -1.5\n",
       "five   2002  Nevada  2.9  -1.7\n",
       "six    2003  Nevada  3.2   NaN"
      ]
     },
     "execution_count": 76,
     "metadata": {},
     "output_type": "execute_result"
    }
   ],
   "source": [
    "val = pd.Series([-1.2,-1.5,-1.7], index=['two','four','five'])\n",
    "frame2['debt'] = val #index에 데이터가 채워지고 나머지는 NaN\n",
    "frame2"
   ]
  },
  {
   "cell_type": "code",
   "execution_count": 78,
   "id": "289554c0-0624-4a2e-8fef-ff38d6dbdc29",
   "metadata": {},
   "outputs": [
    {
     "data": {
      "text/html": [
       "<div>\n",
       "<style scoped>\n",
       "    .dataframe tbody tr th:only-of-type {\n",
       "        vertical-align: middle;\n",
       "    }\n",
       "\n",
       "    .dataframe tbody tr th {\n",
       "        vertical-align: top;\n",
       "    }\n",
       "\n",
       "    .dataframe thead th {\n",
       "        text-align: right;\n",
       "    }\n",
       "</style>\n",
       "<table border=\"1\" class=\"dataframe\">\n",
       "  <thead>\n",
       "    <tr style=\"text-align: right;\">\n",
       "      <th></th>\n",
       "      <th>year</th>\n",
       "      <th>state</th>\n",
       "      <th>pop</th>\n",
       "      <th>debt</th>\n",
       "      <th>estern</th>\n",
       "    </tr>\n",
       "  </thead>\n",
       "  <tbody>\n",
       "    <tr>\n",
       "      <th>one</th>\n",
       "      <td>2000</td>\n",
       "      <td>Ohio</td>\n",
       "      <td>1.5</td>\n",
       "      <td>NaN</td>\n",
       "      <td>True</td>\n",
       "    </tr>\n",
       "    <tr>\n",
       "      <th>two</th>\n",
       "      <td>2001</td>\n",
       "      <td>Ohio</td>\n",
       "      <td>1.7</td>\n",
       "      <td>-1.2</td>\n",
       "      <td>True</td>\n",
       "    </tr>\n",
       "    <tr>\n",
       "      <th>three</th>\n",
       "      <td>2002</td>\n",
       "      <td>Ohio</td>\n",
       "      <td>3.6</td>\n",
       "      <td>NaN</td>\n",
       "      <td>True</td>\n",
       "    </tr>\n",
       "    <tr>\n",
       "      <th>four</th>\n",
       "      <td>2001</td>\n",
       "      <td>Nevada</td>\n",
       "      <td>2.4</td>\n",
       "      <td>-1.5</td>\n",
       "      <td>False</td>\n",
       "    </tr>\n",
       "    <tr>\n",
       "      <th>five</th>\n",
       "      <td>2002</td>\n",
       "      <td>Nevada</td>\n",
       "      <td>2.9</td>\n",
       "      <td>-1.7</td>\n",
       "      <td>False</td>\n",
       "    </tr>\n",
       "    <tr>\n",
       "      <th>six</th>\n",
       "      <td>2003</td>\n",
       "      <td>Nevada</td>\n",
       "      <td>3.2</td>\n",
       "      <td>NaN</td>\n",
       "      <td>False</td>\n",
       "    </tr>\n",
       "  </tbody>\n",
       "</table>\n",
       "</div>"
      ],
      "text/plain": [
       "       year   state  pop  debt  estern\n",
       "one    2000    Ohio  1.5   NaN    True\n",
       "two    2001    Ohio  1.7  -1.2    True\n",
       "three  2002    Ohio  3.6   NaN    True\n",
       "four   2001  Nevada  2.4  -1.5   False\n",
       "five   2002  Nevada  2.9  -1.7   False\n",
       "six    2003  Nevada  3.2   NaN   False"
      ]
     },
     "execution_count": 78,
     "metadata": {},
     "output_type": "execute_result"
    }
   ],
   "source": [
    "# frame2에 estern column으로 데이터 채우기 frame2의 state의 값이 'Ohio'와 같으면 True 그렇지 않으면 False 저장\n",
    "frame2['estern']= frame2.state == 'Ohio'\n",
    "frame2"
   ]
  },
  {
   "cell_type": "code",
   "execution_count": 79,
   "id": "a46acb47-34e9-44f7-a209-5b13e52fa8b4",
   "metadata": {},
   "outputs": [],
   "source": [
    "del frame2['estern']"
   ]
  },
  {
   "cell_type": "code",
   "execution_count": 80,
   "id": "b085a690-f771-4e7b-99d1-5945ed0e73bc",
   "metadata": {},
   "outputs": [
    {
     "data": {
      "text/plain": [
       "Index(['year', 'state', 'pop', 'debt'], dtype='object')"
      ]
     },
     "execution_count": 80,
     "metadata": {},
     "output_type": "execute_result"
    }
   ],
   "source": [
    "frame2.columns"
   ]
  },
  {
   "cell_type": "code",
   "execution_count": 81,
   "id": "ce20317d-e1c0-4e70-be01-c9ab83918ff2",
   "metadata": {},
   "outputs": [
    {
     "data": {
      "text/html": [
       "<div>\n",
       "<style scoped>\n",
       "    .dataframe tbody tr th:only-of-type {\n",
       "        vertical-align: middle;\n",
       "    }\n",
       "\n",
       "    .dataframe tbody tr th {\n",
       "        vertical-align: top;\n",
       "    }\n",
       "\n",
       "    .dataframe thead th {\n",
       "        text-align: right;\n",
       "    }\n",
       "</style>\n",
       "<table border=\"1\" class=\"dataframe\">\n",
       "  <thead>\n",
       "    <tr style=\"text-align: right;\">\n",
       "      <th></th>\n",
       "      <th>Navada</th>\n",
       "      <th>Ohio</th>\n",
       "    </tr>\n",
       "  </thead>\n",
       "  <tbody>\n",
       "    <tr>\n",
       "      <th>2001</th>\n",
       "      <td>2.4</td>\n",
       "      <td>1.7</td>\n",
       "    </tr>\n",
       "    <tr>\n",
       "      <th>2002</th>\n",
       "      <td>2.9</td>\n",
       "      <td>3.6</td>\n",
       "    </tr>\n",
       "    <tr>\n",
       "      <th>2000</th>\n",
       "      <td>NaN</td>\n",
       "      <td>1.5</td>\n",
       "    </tr>\n",
       "  </tbody>\n",
       "</table>\n",
       "</div>"
      ],
      "text/plain": [
       "      Navada  Ohio\n",
       "2001     2.4   1.7\n",
       "2002     2.9   3.6\n",
       "2000     NaN   1.5"
      ]
     },
     "execution_count": 81,
     "metadata": {},
     "output_type": "execute_result"
    }
   ],
   "source": [
    "pop={'Navada':{2001:2.4,2002:2.9},'Ohio':{2000:1.5,2001:1.7,2002:3.6}}\n",
    "frame3=pd.DataFrame(pop)\n",
    "frame3"
   ]
  },
  {
   "cell_type": "code",
   "execution_count": 85,
   "id": "99c7700d-7507-4280-af1f-08996fa3b795",
   "metadata": {},
   "outputs": [],
   "source": [
    "li = [-2,3,-4,5,-7] # =>[2,3,4,5,7]"
   ]
  },
  {
   "cell_type": "code",
   "execution_count": 82,
   "id": "80b86d5a-1563-42bc-a727-f115d661f92e",
   "metadata": {},
   "outputs": [
    {
     "data": {
      "text/plain": [
       "0   -2\n",
       "1    3\n",
       "2   -4\n",
       "3    5\n",
       "4   -7\n",
       "dtype: int64"
      ]
     },
     "execution_count": 82,
     "metadata": {},
     "output_type": "execute_result"
    }
   ],
   "source": [
    "s1 = pd.Series([-2,3,-4,5,-7])\n",
    "s1"
   ]
  },
  {
   "cell_type": "markdown",
   "id": "83f568f5-9e64-4a72-bf2b-7f78d0d80d14",
   "metadata": {},
   "source": [
    "$$  y = f(x) = | x |  $$"
   ]
  },
  {
   "cell_type": "code",
   "execution_count": 83,
   "id": "27a33b0f-786f-473a-868c-a9267f301be0",
   "metadata": {},
   "outputs": [],
   "source": [
    "def abs(x):\n",
    "    if x>0: return x\n",
    "    else: return -x"
   ]
  },
  {
   "cell_type": "code",
   "execution_count": 86,
   "id": "782ab6c3-ce89-459a-806f-482a36610d02",
   "metadata": {},
   "outputs": [
    {
     "data": {
      "text/plain": [
       "[2, 3, 4, 5, 7]"
      ]
     },
     "execution_count": 86,
     "metadata": {},
     "output_type": "execute_result"
    }
   ],
   "source": [
    "list(map(abs,li))"
   ]
  },
  {
   "cell_type": "code",
   "execution_count": 89,
   "id": "cd99f16a-b096-422c-b857-a43b2417a9a7",
   "metadata": {},
   "outputs": [],
   "source": [
    "l2=[-2,4,-5,-11,22,34,-11,-23,77]"
   ]
  },
  {
   "cell_type": "code",
   "execution_count": 90,
   "id": "702c7905-aed2-4b76-ad3e-6826034c59d8",
   "metadata": {},
   "outputs": [],
   "source": [
    "def abs_2(x):\n",
    "    if x>0: return x*3\n",
    "    else: return x*2"
   ]
  },
  {
   "cell_type": "code",
   "execution_count": 91,
   "id": "d04a5945-9ec7-48c7-a232-e850b0aa61b3",
   "metadata": {},
   "outputs": [
    {
     "data": {
      "text/plain": [
       "[-4, 12, -10, -22, 66, 102, -22, -46, 231]"
      ]
     },
     "execution_count": 91,
     "metadata": {},
     "output_type": "execute_result"
    }
   ],
   "source": [
    "list(map(abs_2,l2))"
   ]
  },
  {
   "cell_type": "code",
   "execution_count": 95,
   "id": "ef32573e-fb30-4135-b940-3c1c3c5dbfe6",
   "metadata": {},
   "outputs": [],
   "source": [
    "minus_data = [-i for i in range(100)]"
   ]
  },
  {
   "cell_type": "code",
   "execution_count": 96,
   "id": "11f3e041-2e84-46d9-82f1-e14635519dfe",
   "metadata": {},
   "outputs": [],
   "source": [
    "plus_data = [i for i in range(100)]"
   ]
  },
  {
   "cell_type": "code",
   "execution_count": 108,
   "id": "e17d3aa5-fe23-4a77-9aef-6731ef812a77",
   "metadata": {},
   "outputs": [],
   "source": [
    "x_data = [i for i in range(-100,100)]\n",
    "y_data = [ abs(i) for i in range(-100,100)]\n",
    "y_square=[i**2+1 for i in x_data]\n",
    "sin_wave=[np.sin(i) for i in np.arange(-10,10,0.01)]"
   ]
  },
  {
   "cell_type": "code",
   "execution_count": 100,
   "id": "9ebdff79-d337-4027-a737-5778523f8698",
   "metadata": {},
   "outputs": [],
   "source": [
    "import matplotlib.pyplot as plt"
   ]
  },
  {
   "cell_type": "code",
   "execution_count": 103,
   "id": "92110fe3-f12e-4872-ba6b-64c026a7b395",
   "metadata": {},
   "outputs": [
    {
     "data": {
      "text/plain": [
       "[<matplotlib.lines.Line2D at 0x17e4076df10>]"
      ]
     },
     "execution_count": 103,
     "metadata": {},
     "output_type": "execute_result"
    },
    {
     "data": {
      "image/png": "[encoded data removed]",
      "text/plain": [
       "<Figure size 640x480 with 1 Axes>"
      ]
     },
     "metadata": {},
     "output_type": "display_data"
    }
   ],
   "source": [
    "plt.plot(x_data, y_data)"
   ]
  },
  {
   "cell_type": "code",
   "execution_count": 105,
   "id": "19001e7c-1179-4ef0-8aa6-b7f5f1b651fd",
   "metadata": {},
   "outputs": [
    {
     "data": {
      "text/plain": [
       "[<matplotlib.lines.Line2D at 0x17e41746090>]"
      ]
     },
     "execution_count": 105,
     "metadata": {},
     "output_type": "execute_result"
    },
    {
     "data": {
      "image/png": "[encoded data removed]",
      "text/plain": [
       "<Figure size 640x480 with 1 Axes>"
      ]
     },
     "metadata": {},
     "output_type": "display_data"
    }
   ],
   "source": [
    "plt.plot(x_data, y_square)"
   ]
  },
  {
   "cell_type": "code",
   "execution_count": 110,
   "id": "be8165bc-bb58-4d0f-a556-1fa1958e38be",
   "metadata": {},
   "outputs": [
    {
     "data": {
      "text/plain": [
       "[<matplotlib.lines.Line2D at 0x17e41720450>]"
      ]
     },
     "execution_count": 110,
     "metadata": {},
     "output_type": "execute_result"
    },
    {
     "data": {
      "image/png": "[encoded data removed]",
      "text/plain": [
       "<Figure size 640x480 with 1 Axes>"
      ]
     },
     "metadata": {},
     "output_type": "display_data"
    }
   ],
   "source": [
    "plt.plot(np.arange(-10,10,0.01), sin_wave)"
   ]
  },
  {
   "cell_type": "code",
   "execution_count": 121,
   "id": "54e651af-d09b-4252-89ee-6957451c7baa",
   "metadata": {},
   "outputs": [],
   "source": [
    "def gx(x) : return 7*x**2 + 6*x+4"
   ]
  },
  {
   "cell_type": "code",
   "execution_count": 123,
   "id": "4e4c966d-211a-4691-91de-42b22f56628e",
   "metadata": {},
   "outputs": [],
   "source": [
    "def gx_line(x) : return 2*x"
   ]
  },
  {
   "cell_type": "code",
   "execution_count": 122,
   "id": "6ed01dca-7e1b-4c74-b995-edf3940326a7",
   "metadata": {},
   "outputs": [
    {
     "data": {
      "text/plain": [
       "[<matplotlib.lines.Line2D at 0x17e44fbe690>]"
      ]
     },
     "execution_count": 122,
     "metadata": {},
     "output_type": "execute_result"
    },
    {
     "data": {
      "image/png": "[encoded data removed]",
      "text/plain": [
       "<Figure size 640x480 with 1 Axes>"
      ]
     },
     "metadata": {},
     "output_type": "display_data"
    }
   ],
   "source": [
    "x=np.arange(-100,100,0.001)\n",
    "y_data=list(map(gx,x))\n",
    "plt.plot(x,y_data)"
   ]
  },
  {
   "cell_type": "code",
   "execution_count": 124,
   "id": "6a99bc5b-968f-462c-a16e-aebf09abed96",
   "metadata": {},
   "outputs": [
    {
     "data": {
      "text/plain": [
       "[<matplotlib.lines.Line2D at 0x17e40f439d0>]"
      ]
     },
     "execution_count": 124,
     "metadata": {},
     "output_type": "execute_result"
    },
    {
     "data": {
      "image/png": "[encoded data removed]",
      "text/plain": [
       "<Figure size 640x480 with 1 Axes>"
      ]
     },
     "metadata": {},
     "output_type": "display_data"
    }
   ],
   "source": [
    "x=np.arange(-100,100,0.001)\n",
    "y_data=list(map(gx_line,x))\n",
    "plt.plot(x,y_data)"
   ]
  },
  {
   "cell_type": "code",
   "execution_count": 125,
   "id": "3a3681b3-2cf9-4e9a-9a63-c6d458863edb",
   "metadata": {},
   "outputs": [
    {
     "data": {
      "image/png": "[encoded data removed]",
      "text/plain": [
       "<Figure size 640x480 with 1 Axes>"
      ]
     },
     "metadata": {},
     "output_type": "display_data"
    },
    {
     "data": {
      "image/png": "[encoded data removed]",
      "text/plain": [
       "<Figure size 640x480 with 1 Axes>"
      ]
     },
     "metadata": {},
     "output_type": "display_data"
    },
    {
     "data": {
      "image/png": "[encoded data removed]",
      "text/plain": [
       "<Figure size 640x480 with 1 Axes>"
      ]
     },
     "metadata": {},
     "output_type": "display_data"
    }
   ],
   "source": [
    "x=np.arange(0,5,0.1)\n",
    "y1=np.cos(x)\n",
    "y2=np.exp(x)\n",
    "y3=y1*y2\n",
    "plt.plot(x,y1)\n",
    "plt.show()\n",
    "plt.plot(x,y2)\n",
    "plt.show()\n",
    "plt.plot(x,y3)\n",
    "plt.show()"
   ]
  },
  {
   "cell_type": "code",
   "execution_count": 126,
   "id": "8136d1a2-0c44-436f-860b-e99ec5435d35",
   "metadata": {},
   "outputs": [
    {
     "data": {
      "text/plain": [
       "Text(0.5, 1.0, 'y=cos(x)*exp(x)')"
      ]
     },
     "execution_count": 126,
     "metadata": {},
     "output_type": "execute_result"
    },
    {
     "data": {
      "image/png": "[encoded data removed]",
      "text/plain": [
       "<Figure size 640x480 with 3 Axes>"
      ]
     },
     "metadata": {},
     "output_type": "display_data"
    }
   ],
   "source": [
    "plt.subplot(311)\n",
    "plt.plot(x,y1)\n",
    "plt.title('y=cos(x)')\n",
    "\n",
    "plt.subplot(312)\n",
    "plt.plot(x,y2)\n",
    "plt.title('y=exp(x)')\n",
    "\n",
    "plt.subplot(313)\n",
    "plt.plot(x,y3)\n",
    "plt.title('y=cos(x)*exp(x)')"
   ]
  },
  {
   "cell_type": "code",
   "execution_count": 127,
   "id": "e0ec3a16-75ed-469f-b1e5-44ff76654722",
   "metadata": {},
   "outputs": [],
   "source": [
    "import requests\n",
    "from bs4 import BeautifulSoup\n",
    "from pathlib import Path\n",
    "import urllib\n",
    "import time"
   ]
  },
  {
   "cell_type": "code",
   "execution_count": 128,
   "id": "530fd4e8-4192-4ddd-853b-2014a8865953",
   "metadata": {},
   "outputs": [],
   "source": [
    "url = \"http://python.cyber.co.kr/pds/books/python2nd/test2.html\""
   ]
  },
  {
   "cell_type": "code",
   "execution_count": 129,
   "id": "88f53b19-df8f-42f2-9bfd-08287e7dd12d",
   "metadata": {},
   "outputs": [],
   "source": [
    "html = requests.get(url)\n",
    "soup = BeautifulSoup(html.content, \"html.parser\")"
   ]
  },
  {
   "cell_type": "code",
   "execution_count": 130,
   "id": "171d1d5e-81f0-4192-ae48-f308f4d2fe41",
   "metadata": {},
   "outputs": [],
   "source": [
    "# 저장용 폴더 생성\n",
    "out_folder = Path(\"download2\")\n",
    "out_folder.mkdir(exist_ok=True)"
   ]
  },
  {
   "cell_type": "code",
   "execution_count": 132,
   "id": "bebe7984-b8f4-4a72-9e8b-377c96a02b6c",
   "metadata": {},
   "outputs": [],
   "source": [
    "# 모든 img 태그를 검색해 링크를 구한다\n",
    "for element in soup.find_all(\"img\"):\n",
    "    src=element.get('src')\n",
    "\n",
    "    # 절대 url을 만들어 이미지 데이터를 구한다\n",
    "    image_url = urllib.parse.urljoin(url,src)\n",
    "    imgdata = requests.get(image_url)\n",
    "\n",
    "    # URL에서 마지막에 있는 파일명을 추출하고 저장 폴더명과 연결\n",
    "    filename = image_url.split(\"/\")[-1]\n",
    "    outpath = out_folder.joinpath(filename)\n",
    "\n",
    "    # 이미지 데이터를 파일에 저장\n",
    "    with open(outpath, mode=\"wb\") as f:\n",
    "        f.write(imgdata.content)\n",
    "    # 한번 access 했으므로 1초 기다림\n",
    "    time.sleep(1)"
   ]
  },
  {
   "cell_type": "code",
   "execution_count": null,
   "id": "ff007039-1ac1-4f44-a41a-9c6216eb40c9",
   "metadata": {},
   "outputs": [],
   "source": []
  },
  {
   "cell_type": "code",
   "execution_count": null,
   "id": "22cbfd0c-f045-4f50-9574-f05203a4ed54",
   "metadata": {},
   "outputs": [],
   "source": []
  },
  {
   "cell_type": "code",
   "execution_count": null,
   "id": "aea3ec3c-e86d-4962-9a65-5fa05115f991",
   "metadata": {},
   "outputs": [],
   "source": []
  },
  {
   "cell_type": "code",
   "execution_count": null,
   "id": "acb43256-43e7-484d-8748-7e13059112f9",
   "metadata": {},
   "outputs": [],
   "source": []
  },
  {
   "cell_type": "code",
   "execution_count": null,
   "id": "12ec7f23-6341-4601-b245-c6f833f712a0",
   "metadata": {},
   "outputs": [],
   "source": []
  },
  {
   "cell_type": "code",
   "execution_count": null,
   "id": "5dae565c-a56d-4c76-a0c0-401850db21b4",
   "metadata": {},
   "outputs": [],
   "source": []
  },
  {
   "cell_type": "code",
   "execution_count": null,
   "id": "e03be2a9-3f42-4b8a-9277-b62be1c6eb01",
   "metadata": {},
   "outputs": [],
   "source": []
  },
  {
   "cell_type": "code",
   "execution_count": null,
   "id": "a6732d08-e0d8-4993-9354-81f1530382b7",
   "metadata": {},
   "outputs": [],
   "source": []
  },
  {
   "cell_type": "code",
   "execution_count": null,
   "id": "e5313c20-eea7-4d91-90a4-d5cb04ad3b65",
   "metadata": {},
   "outputs": [],
   "source": []
  },
  {
   "cell_type": "code",
   "execution_count": null,
   "id": "33f094fe-442f-48ae-ab8b-33d690441e4b",
   "metadata": {},
   "outputs": [],
   "source": []
  },
  {
   "cell_type": "code",
   "execution_count": null,
   "id": "201463b6-b49e-4649-a2b4-523d63fc4933",
   "metadata": {},
   "outputs": [],
   "source": []
  },
  {
   "cell_type": "code",
   "execution_count": null,
   "id": "28471900-ab09-47fb-b854-539de2d4b80d",
   "metadata": {},
   "outputs": [],
   "source": []
  },
  {
   "cell_type": "code",
   "execution_count": null,
   "id": "d91551b9-c0cc-4ebe-a37e-91363dc83bc1",
   "metadata": {},
   "outputs": [],
   "source": []
  },
  {
   "cell_type": "code",
   "execution_count": null,
   "id": "4f4a46ca-08de-4daf-bf99-9b30d6796b25",
   "metadata": {},
   "outputs": [],
   "source": []
  },
  {
   "cell_type": "code",
   "execution_count": null,
   "id": "ec707e3e-6647-417e-918b-4d48d85f88f8",
   "metadata": {},
   "outputs": [],
   "source": []
  },
  {
   "cell_type": "code",
   "execution_count": null,
   "id": "49b79859-e42d-4509-991c-f37f2c5fe693",
   "metadata": {},
   "outputs": [],
   "source": []
  },
  {
   "cell_type": "code",
   "execution_count": null,
   "id": "8a4e0172-0dec-45fe-884d-b9803fe5d7f6",
   "metadata": {},
   "outputs": [],
   "source": []
  },
  {
   "cell_type": "code",
   "execution_count": null,
   "id": "df80e79f-4aef-4aa9-96e3-579767cec8ac",
   "metadata": {},
   "outputs": [],
   "source": []
  },
  {
   "cell_type": "code",
   "execution_count": null,
   "id": "fac81958-6114-46a5-b519-41553913117c",
   "metadata": {},
   "outputs": [],
   "source": []
  },
  {
   "cell_type": "code",
   "execution_count": null,
   "id": "81f5ab72-6efc-4a89-bce3-e19166bd4d5b",
   "metadata": {},
   "outputs": [],
   "source": []
  },
  {
   "cell_type": "code",
   "execution_count": null,
   "id": "16827b33-ac83-4d90-9c22-f511024c80a5",
   "metadata": {},
   "outputs": [],
   "source": []
  }
 ],
 "metadata": {
  "kernelspec": {
   "display_name": "Python 3 (ipykernel)",
   "language": "python",
   "name": "python3"
  },
  "language_info": {
   "codemirror_mode": {
    "name": "ipython",
    "version": 3
   },
   "file_extension": ".py",
   "mimetype": "text/x-python",
   "name": "python",
   "nbconvert_exporter": "python",
   "pygments_lexer": "ipython3",
   "version": "3.11.7"
  }
 },
 "nbformat": 4,
 "nbformat_minor": 5
}
