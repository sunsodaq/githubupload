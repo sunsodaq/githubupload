{
 "cells": [
  {
   "cell_type": "markdown",
   "id": "a89c0693-fd39-41e8-a811-568785c041de",
   "metadata": {},
   "source": [
    "## QUEUE(FIFO, First Input, First Output)(p240)"
   ]
  },
  {
   "cell_type": "code",
   "execution_count": null,
   "id": "a9469f1f-f2f8-441f-8958-cb16971945cb",
   "metadata": {},
   "outputs": [],
   "source": [
    "a=[1,2,3,4,5]\n",
    "a.append(10)\n",
    "a.append(20)"
   ]
  },
  {
   "cell_type": "code",
   "execution_count": null,
   "id": "9581fd0e-a76d-4bb1-a389-40ddeed0dd35",
   "metadata": {},
   "outputs": [],
   "source": [
    "list_reverse=[]\n",
    "for i in range(len(a)):\n",
    "    list_reverse.append(a.pop())\n",
    "list_reverse"
   ]
  },
  {
   "cell_type": "code",
   "execution_count": 1,
   "id": "370ff086-09ac-431b-8ade-8b8ea98f701a",
   "metadata": {},
   "outputs": [],
   "source": [
    "import queue"
   ]
  },
  {
   "cell_type": "code",
   "execution_count": 5,
   "id": "f47ad0d7-b729-4ea4-8678-a7cfce51b3e1",
   "metadata": {},
   "outputs": [],
   "source": [
    "q = queue.Queue() # First in First Out (FIFO) 선입선출"
   ]
  },
  {
   "cell_type": "code",
   "execution_count": 6,
   "id": "f0ab9df3-d738-4727-b34a-ed85da077aa8",
   "metadata": {},
   "outputs": [],
   "source": [
    "for i in range(20):\n",
    "    q.put(i)"
   ]
  },
  {
   "cell_type": "code",
   "execution_count": 7,
   "id": "6b3911e6-50e0-4493-a48d-35a9253147cd",
   "metadata": {},
   "outputs": [
    {
     "name": "stdout",
     "output_type": "stream",
     "text": [
      "0\n",
      "1\n",
      "2\n",
      "3\n",
      "4\n",
      "5\n",
      "6\n",
      "7\n",
      "8\n",
      "9\n",
      "10\n",
      "11\n",
      "12\n",
      "13\n",
      "14\n",
      "15\n",
      "16\n",
      "17\n",
      "18\n",
      "19\n"
     ]
    }
   ],
   "source": [
    "for i in range(20):\n",
    "    print(q.get())"
   ]
  },
  {
   "cell_type": "code",
   "execution_count": 11,
   "id": "8b7b492f-ae7c-40cf-a7c1-0b625de10955",
   "metadata": {},
   "outputs": [],
   "source": [
    "from collections import deque # 스택 후입선출"
   ]
  },
  {
   "cell_type": "code",
   "execution_count": 12,
   "id": "b7da1a49-e8d6-49d0-9476-79cd6b567abd",
   "metadata": {},
   "outputs": [],
   "source": [
    "dq=deque()\n",
    "for i in range(10):\n",
    "    dq.append(i)"
   ]
  },
  {
   "cell_type": "code",
   "execution_count": 13,
   "id": "a64f4faf-5bb0-4509-8bed-2d4dfd5c44dc",
   "metadata": {},
   "outputs": [
    {
     "name": "stdout",
     "output_type": "stream",
     "text": [
      "9\n",
      "8\n",
      "7\n",
      "6\n",
      "5\n",
      "4\n",
      "3\n",
      "2\n",
      "1\n",
      "0\n"
     ]
    }
   ],
   "source": [
    "for i in range(10):\n",
    "    print(dq.pop())"
   ]
  },
  {
   "cell_type": "code",
   "execution_count": 14,
   "id": "fbf0ba7d-41c0-489a-8f5f-66bf72e07bbd",
   "metadata": {},
   "outputs": [
    {
     "name": "stdout",
     "output_type": "stream",
     "text": [
      "Collecting mysqlclient\n",
      "  Downloading mysqlclient-2.2.4-cp311-cp311-win_amd64.whl.metadata (4.6 kB)\n",
      "Downloading mysqlclient-2.2.4-cp311-cp311-win_amd64.whl (203 kB)\n",
      "   ---------------------------------------- 0.0/203.2 kB ? eta -:--:--\n",
      "   -- ------------------------------------- 10.2/203.2 kB ? eta -:--:--\n",
      "   -------------- ------------------------- 71.7/203.2 kB 1.3 MB/s eta 0:00:01\n",
      "   ---------------------------------------- 203.2/203.2 kB 2.5 MB/s eta 0:00:00\n",
      "Installing collected packages: mysqlclient\n",
      "Successfully installed mysqlclient-2.2.4\n"
     ]
    }
   ],
   "source": [
    "!pip install mysqlclient"
   ]
  },
  {
   "cell_type": "code",
   "execution_count": 15,
   "id": "65518cd4-00ad-4988-9074-9091f098f92a",
   "metadata": {},
   "outputs": [],
   "source": [
    "import MySQLdb"
   ]
  },
  {
   "cell_type": "code",
   "execution_count": 16,
   "id": "e1a5eaae-7c0f-40d9-91d7-48e48be7bf0f",
   "metadata": {},
   "outputs": [],
   "source": [
    "db=MySQLdb.connect(host='localhost', user='root', password='1234', db='izen')\n",
    "cur = db.cursor()"
   ]
  },
  {
   "cell_type": "code",
   "execution_count": 17,
   "id": "e9da62c1-fba4-4faf-8767-bb138583229d",
   "metadata": {},
   "outputs": [],
   "source": [
    "sql = \"select * from score_tbl\""
   ]
  },
  {
   "cell_type": "code",
   "execution_count": 22,
   "id": "b11a0e51-8d23-41a5-9383-d5aba842ca41",
   "metadata": {},
   "outputs": [
    {
     "data": {
      "text/plain": [
       "10"
      ]
     },
     "execution_count": 22,
     "metadata": {},
     "output_type": "execute_result"
    }
   ],
   "source": [
    "cur.execute(sql)"
   ]
  },
  {
   "cell_type": "code",
   "execution_count": 20,
   "id": "b1f8e452-204d-4a53-9713-6bd95e2b55f6",
   "metadata": {},
   "outputs": [],
   "source": [
    "row = cur.fetchall()\n",
    "# row"
   ]
  },
  {
   "cell_type": "code",
   "execution_count": 23,
   "id": "395415dd-deda-4509-bccf-3c1bb7a5c5c8",
   "metadata": {},
   "outputs": [
    {
     "data": {
      "text/plain": [
       "(1, 100, 100, 100, 89.7, 17.6, '수')"
      ]
     },
     "execution_count": 23,
     "metadata": {},
     "output_type": "execute_result"
    }
   ],
   "source": [
    "row = cur.fetchone()\n",
    "row"
   ]
  },
  {
   "cell_type": "code",
   "execution_count": 24,
   "id": "5540bad6-576b-44ce-9df5-79df9de021ff",
   "metadata": {},
   "outputs": [
    {
     "name": "stdout",
     "output_type": "stream",
     "text": [
      "(1, 100, 100, 100, 89.7, 17.6, '수')\n",
      "(2, 100, 100, 100, 89.7, 17.6, '수')\n",
      "(3, 100, 100, 100, 89.7, 17.6, '수')\n",
      "(4, 100, 100, 100, 89.7, 17.6, '수')\n",
      "(5, 100, 100, 100, 89.7, 17.6, '수')\n",
      "(6, 100, 100, 100, 89.7, 17.6, '수')\n",
      "(7, 100, 100, 100, 89.7, 17.6, '수')\n",
      "(8, 100, 100, 100, 89.7, 17.6, '수')\n",
      "(9, 100, 100, 100, 89.7, 17.6, '수')\n",
      "(10, 100, 100, 100, 89.7, 17.6, '수')\n"
     ]
    }
   ],
   "source": [
    "cur.execute(sql)\n",
    "while True:\n",
    "    row = cur.fetchone()\n",
    "    if row :\n",
    "        print(row)\n",
    "    else :\n",
    "        break"
   ]
  },
  {
   "cell_type": "code",
   "execution_count": 28,
   "id": "eb8df5f0-d91d-43c8-aeee-fa8d9bf4d63b",
   "metadata": {},
   "outputs": [],
   "source": [
    "sql = \"insert into score_tbl( math, eng, korea, total, avg, grade) values (%s, %s, %s, %s, %s, %s)\""
   ]
  },
  {
   "cell_type": "code",
   "execution_count": 33,
   "id": "ff6b9916-a4b5-451c-a55b-9c6c6d230dc6",
   "metadata": {},
   "outputs": [
    {
     "data": {
      "text/plain": [
       "68"
      ]
     },
     "execution_count": 33,
     "metadata": {},
     "output_type": "execute_result"
    }
   ],
   "source": [
    "import random\n",
    "random.randint(1,100)"
   ]
  },
  {
   "cell_type": "code",
   "execution_count": 30,
   "id": "7380c3a7-d722-4110-b649-4c61cbfde46c",
   "metadata": {},
   "outputs": [],
   "source": [
    "data=('45', '78', '90', '45.7', '67.8', '가')\n",
    "cur.execute(sql, data) # 두번째 인자를 tuple 이어야 한다\n",
    "db.commit()"
   ]
  },
  {
   "cell_type": "code",
   "execution_count": 38,
   "id": "f30d670c-e618-4bfa-857a-934f4ad738f5",
   "metadata": {},
   "outputs": [
    {
     "data": {
      "text/plain": [
       "('30', '40')"
      ]
     },
     "execution_count": 38,
     "metadata": {},
     "output_type": "execute_result"
    }
   ],
   "source": [
    "t = tuple()\n",
    "t +=('30', '40')\n",
    "t"
   ]
  },
  {
   "cell_type": "code",
   "execution_count": 39,
   "id": "46570e95-6ef6-445a-bcf0-b4b87e8e6db1",
   "metadata": {},
   "outputs": [
    {
     "data": {
      "text/plain": [
       "'30'"
      ]
     },
     "execution_count": 39,
     "metadata": {},
     "output_type": "execute_result"
    }
   ],
   "source": [
    "t[0]"
   ]
  },
  {
   "cell_type": "code",
   "execution_count": 51,
   "id": "fe829aad-1c4d-4dac-b6af-555e8f1f83f6",
   "metadata": {},
   "outputs": [],
   "source": [
    "import random"
   ]
  },
  {
   "cell_type": "code",
   "execution_count": 47,
   "id": "c9a1ab45-f6d4-4a7e-9e16-f6db1e26174f",
   "metadata": {},
   "outputs": [],
   "source": [
    "def getTotalAndAvg(i):\n",
    "    return (sum(i), sum(i)/len(i))"
   ]
  },
  {
   "cell_type": "code",
   "execution_count": 53,
   "id": "4c24d898-36ad-4f24-a4cf-7d720836df77",
   "metadata": {},
   "outputs": [],
   "source": [
    "def calcGrade(i):\n",
    "    if i>=90:return '수'\n",
    "    elif i>=80: return '우'\n",
    "    elif i>=70: return '미'\n",
    "    elif i>=60: return '양'\n",
    "    else: return '가'"
   ]
  },
  {
   "cell_type": "code",
   "execution_count": 57,
   "id": "56af5336-bc31-4176-921f-1b95232e29ce",
   "metadata": {},
   "outputs": [
    {
     "name": "stdout",
     "output_type": "stream",
     "text": [
      "(80, 69, 83, 232, 77.33333333333333, '미')\n"
     ]
    }
   ],
   "source": [
    "for i in range(100):\n",
    "    t = tuple()\n",
    "    for j in range(3):\n",
    "        t += (random.randint(60,100),)\n",
    "        total, avg = getTotalAndAvg(t)\n",
    "        grade = calcGrade(avg)\n",
    "    t += (total, avg, grade)\n",
    "    print(t)\n",
    "    cur.execute(sql,t)\n",
    "db.commit()"
   ]
  }
 ],
 "metadata": {
  "kernelspec": {
   "display_name": "Python 3 (ipykernel)",
   "language": "python",
   "name": "python3"
  },
  "language_info": {
   "codemirror_mode": {
    "name": "ipython",
    "version": 3
   },
   "file_extension": ".py",
   "mimetype": "text/x-python",
   "name": "python",
   "nbconvert_exporter": "python",
   "pygments_lexer": "ipython3",
   "version": "3.11.7"
  }
 },
 "nbformat": 4,
 "nbformat_minor": 5
}
