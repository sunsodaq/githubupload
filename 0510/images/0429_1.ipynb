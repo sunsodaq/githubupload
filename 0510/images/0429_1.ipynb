{
 "cells": [
  {
   "cell_type": "code",
   "execution_count": null,
   "id": "6f29f9b8-ebac-42ce-a805-1537a3e61541",
   "metadata": {},
   "outputs": [],
   "source": [
    "colors=['red', 'blue', 'green']\n",
    "colors"
   ]
  },
  {
   "cell_type": "code",
   "execution_count": null,
   "id": "c97e2ffe-06d8-4bdf-b09f-cf4319cffd8a",
   "metadata": {},
   "outputs": [],
   "source": [
    "colors[1]"
   ]
  },
  {
   "cell_type": "code",
   "execution_count": null,
   "id": "95d60563-388b-45a5-9f47-8252018d49cf",
   "metadata": {},
   "outputs": [],
   "source": [
    "colors[0][::-1]"
   ]
  },
  {
   "cell_type": "code",
   "execution_count": null,
   "id": "fcf8104d-0820-4ddc-a83c-4fc032e30c97",
   "metadata": {},
   "outputs": [],
   "source": [
    "colors[0][::-2]"
   ]
  },
  {
   "cell_type": "code",
   "execution_count": null,
   "id": "d978f1be-17ca-41d0-affb-d36661ca7926",
   "metadata": {},
   "outputs": [],
   "source": [
    "colors[0][:3]"
   ]
  },
  {
   "cell_type": "code",
   "execution_count": null,
   "id": "14b343ce-622f-4ea8-86fd-df472e945e5f",
   "metadata": {},
   "outputs": [],
   "source": [
    "colors[0][0:2] # 0부터 2보다 작은 숫자까지 잘라라(slicing) # : 앞의 0은 생략가능\n",
    "# 폐구간 ( [     , 개구간 )  )  [ 0  2 )"
   ]
  },
  {
   "cell_type": "code",
   "execution_count": null,
   "id": "e0fc0afd-80de-4d02-babe-d735f27df542",
   "metadata": {},
   "outputs": [],
   "source": [
    "for i in colors :\n",
    "    print(i[::-1])"
   ]
  },
  {
   "cell_type": "code",
   "execution_count": null,
   "id": "400360e8-dc05-4a0d-8960-279687c17d19",
   "metadata": {},
   "outputs": [],
   "source": [
    "revered_str=[]\n",
    "for i in colors :\n",
    "    revered_str.append(i[::-1])\n",
    "revered_str"
   ]
  },
  {
   "cell_type": "markdown",
   "id": "898042e5-edca-4f92-9b56-dbd159f0ed50",
   "metadata": {},
   "source": [
    "## slicing p84"
   ]
  },
  {
   "cell_type": "code",
   "execution_count": null,
   "id": "a6e1329e-b214-4adf-b948-16b810948902",
   "metadata": {},
   "outputs": [],
   "source": [
    "cities=['서울','부산','인천','대구','대전','광주','울산','수원']\n",
    "cities"
   ]
  },
  {
   "cell_type": "code",
   "execution_count": null,
   "id": "273fd7aa-fa81-4851-9894-052353f58f48",
   "metadata": {},
   "outputs": [],
   "source": [
    "cities[3:5]"
   ]
  },
  {
   "cell_type": "code",
   "execution_count": null,
   "id": "0c54c0c5-951d-4638-8414-af1dde6ebc01",
   "metadata": {},
   "outputs": [],
   "source": [
    "cities[-5:-3]"
   ]
  },
  {
   "cell_type": "code",
   "execution_count": null,
   "id": "fbf717fd-9f58-45e9-bbed-84dba1d6cd1e",
   "metadata": {},
   "outputs": [],
   "source": [
    "str='izen_academy'"
   ]
  },
  {
   "cell_type": "code",
   "execution_count": null,
   "id": "a73d5e0b-6714-44c6-89a4-d687478bc4df",
   "metadata": {},
   "outputs": [],
   "source": [
    "str[:3]"
   ]
  },
  {
   "cell_type": "code",
   "execution_count": null,
   "id": "66cce119-cb2b-44f1-982e-4b36a114a3ad",
   "metadata": {},
   "outputs": [],
   "source": [
    "sum_str=\"\"\n",
    "for i in cities:\n",
    "    print(i[-1:])\n",
    "    sum_str += i[::-2] #p86 참조\n",
    "sum_str"
   ]
  },
  {
   "cell_type": "code",
   "execution_count": null,
   "id": "90194e54-11c2-4d36-9716-6229a16256a4",
   "metadata": {},
   "outputs": [],
   "source": [
    "dict1 = {\"a\":[12,3,4,4,11,23],\"b\":\"홍길동\"}\n",
    "# 문제 a를 slicing 하여 4 두개를 가지고 오고  홍길동과 결합함\n",
    "# 파이썬에서는 숫자와 문자열은 결합을 바로 못하고 str로 감싸서 결합해야 함\n",
    "str(dict1['a'][2])+str(dict1['a'][3])+dict1['b']"
   ]
  },
  {
   "cell_type": "code",
   "execution_count": null,
   "id": "3f208d7b-0355-404f-b5fb-4a8088c0d309",
   "metadata": {},
   "outputs": [],
   "source": [
    "len([1,2,3,4])"
   ]
  },
  {
   "cell_type": "code",
   "execution_count": null,
   "id": "56eb16c1-9125-4f84-87f5-b0193a82efa7",
   "metadata": {},
   "outputs": [],
   "source": [
    "len=7"
   ]
  },
  {
   "cell_type": "code",
   "execution_count": null,
   "id": "77c33366-8d14-43fb-b793-6a0b12a00042",
   "metadata": {},
   "outputs": [],
   "source": [
    "color1=['red', 'blue', 'green']\n",
    "color2=['orange', 'black', 'white']"
   ]
  },
  {
   "cell_type": "code",
   "execution_count": null,
   "id": "85d92d83-5d71-44c3-b12f-df5e94c87335",
   "metadata": {},
   "outputs": [],
   "source": [
    "total_color = color1+color2\n",
    "total_color"
   ]
  },
  {
   "cell_type": "code",
   "execution_count": null,
   "id": "f9831446-4612-4d88-8626-0b89c13618c6",
   "metadata": {},
   "outputs": [],
   "source": [
    "total=[]\n",
    "for i in zip(color1, color2):\n",
    "    print(i)\n",
    "    total.append(i[0]+i[1])\n",
    "total"
   ]
  },
  {
   "cell_type": "code",
   "execution_count": null,
   "id": "a17328c4-0223-4f70-b2ad-174f1800c033",
   "metadata": {},
   "outputs": [],
   "source": [
    "type({'a','b'})"
   ]
  },
  {
   "cell_type": "code",
   "execution_count": null,
   "id": "1eb24378-cede-41b6-8bbb-74fa8d8fff15",
   "metadata": {},
   "outputs": [],
   "source": [
    "t = tuple(['red', 'blue', 'green', 'orange', 'black', 'white'])\n",
    "t[0]"
   ]
  },
  {
   "cell_type": "code",
   "execution_count": null,
   "id": "591671fd-6019-43cf-8628-4dffa3f28e95",
   "metadata": {},
   "outputs": [],
   "source": [
    "t[0]='r' # 튜플은 데이터 수정 불가 (읽기만 가능)"
   ]
  },
  {
   "cell_type": "code",
   "execution_count": null,
   "id": "3fc9d8d7-c8d0-4e14-a121-4f340b963990",
   "metadata": {},
   "outputs": [],
   "source": [
    "'blue' in color1 #iterable 가능한 데이터에서 (list , tuple , set)"
   ]
  },
  {
   "cell_type": "code",
   "execution_count": null,
   "id": "e490149c-8b79-4715-8112-596d1a8a3f82",
   "metadata": {},
   "outputs": [],
   "source": [
    "color1.extend(color2)\n",
    "color1"
   ]
  },
  {
   "cell_type": "code",
   "execution_count": null,
   "id": "993e2f67-0852-4b50-a20a-476bfa5d09cc",
   "metadata": {},
   "outputs": [],
   "source": [
    "color1.insert(2,'강예림')\n",
    "color1"
   ]
  },
  {
   "cell_type": "code",
   "execution_count": null,
   "id": "201afd8f-d108-4df3-81be-00f632227fb5",
   "metadata": {},
   "outputs": [],
   "source": [
    "def f():\n",
    "    \"\"\"\n",
    "        이것은 f 함수이고 인자가 없고 반환값이 5입니다\n",
    "    \"\"\"\n",
    "    return 5"
   ]
  },
  {
   "cell_type": "code",
   "execution_count": null,
   "id": "95f4a21e-344f-435b-b787-503bea0673ae",
   "metadata": {},
   "outputs": [],
   "source": [
    "help(f) # help 는 도움말 / \"\"\" 내용 \"\"\" 설명이 필요할때 이렇게 씀"
   ]
  },
  {
   "cell_type": "code",
   "execution_count": null,
   "id": "45d56d0b-47a9-449d-b14c-a014704f511e",
   "metadata": {},
   "outputs": [],
   "source": [
    "def add(i , j) :\n",
    "    \"\"\"\n",
    "        2 개의 인자를 받아서 더하는 함수\n",
    "    \"\"\"\n",
    "    return i+j"
   ]
  },
  {
   "cell_type": "code",
   "execution_count": null,
   "id": "faebae3f-5b2b-4643-90ec-0719058b9b2c",
   "metadata": {},
   "outputs": [],
   "source": [
    "def sub(i , j) :\n",
    "    \"\"\"\n",
    "        2 개의 인자를 받아서 빼는 함수\n",
    "    \"\"\"\n",
    "    return i-j"
   ]
  },
  {
   "cell_type": "code",
   "execution_count": null,
   "id": "b8a5a3e5-8ea9-4ccd-b471-87acb006d615",
   "metadata": {},
   "outputs": [],
   "source": [
    "def mul(i , j) :\n",
    "    \"\"\"\n",
    "        2 개의 인자를 받아서 곱하는 함수\n",
    "    \"\"\"\n",
    "    return i*j"
   ]
  },
  {
   "cell_type": "code",
   "execution_count": null,
   "id": "8824a28c-7be8-4527-abc6-fb8e8daa491d",
   "metadata": {},
   "outputs": [],
   "source": [
    "for i in [add, sub, mul]:\n",
    "    print(help(i))"
   ]
  },
  {
   "cell_type": "code",
   "execution_count": null,
   "id": "b1582d36-5c43-4ed5-967e-d52e02ad8d3f",
   "metadata": {},
   "outputs": [],
   "source": [
    "total_list=[]\n",
    "for i in [add, sub, mul]:\n",
    "    total_list.append(i(3,4))\n",
    "total_list"
   ]
  },
  {
   "cell_type": "code",
   "execution_count": null,
   "id": "a7653a46-5775-4e7e-a529-6e6d891dc258",
   "metadata": {},
   "outputs": [],
   "source": [
    "[ i(3,4) for i in [add, sub, mul] ] # list comprehension"
   ]
  },
  {
   "cell_type": "code",
   "execution_count": null,
   "id": "5ef809c9-4497-4429-9964-242c61602fe9",
   "metadata": {},
   "outputs": [],
   "source": [
    "list(map(lambda i : i(3,4) , [add, sub, mul] ))"
   ]
  },
  {
   "cell_type": "markdown",
   "id": "8cb12e30-82ea-4bba-9470-230494762ad5",
   "metadata": {},
   "source": [
    "## remove 함수"
   ]
  },
  {
   "cell_type": "code",
   "execution_count": null,
   "id": "0a462256-3a7c-4ce4-8a2b-a163fc60d438",
   "metadata": {},
   "outputs": [],
   "source": [
    "print(color1)\n",
    "color1.remove('red')\n",
    "color1"
   ]
  },
  {
   "cell_type": "markdown",
   "id": "9fda96c8-c6ba-4d2f-80ec-ca768d4eab07",
   "metadata": {},
   "source": [
    "## 인덱스의 재할당과 삭제"
   ]
  },
  {
   "cell_type": "code",
   "execution_count": null,
   "id": "527a881d-5b52-4b8a-823a-0ee66f098e9e",
   "metadata": {},
   "outputs": [],
   "source": [
    "color1[0] = 'orange'\n",
    "print(color1)\n",
    "del color1[0]\n",
    "color1"
   ]
  },
  {
   "cell_type": "code",
   "execution_count": null,
   "id": "81e4b6d6-03f7-45ce-9fc4-593556e55b29",
   "metadata": {},
   "outputs": [],
   "source": [
    "for i in color1:\n",
    "    del i\n",
    "color1"
   ]
  },
  {
   "cell_type": "code",
   "execution_count": null,
   "id": "eb7dc1c4-09e0-459b-882c-5705b1ea24ad",
   "metadata": {},
   "outputs": [],
   "source": [
    "c=['1','2','3','4']\n",
    "d=['x','y','z','w']"
   ]
  },
  {
   "cell_type": "code",
   "execution_count": null,
   "id": "c908054f-8e3b-49c6-9c83-47b6577d5b8e",
   "metadata": {},
   "outputs": [],
   "source": [
    "list_total=[]\n",
    "for i in range(3):\n",
    "    print(i) # zip을 사용하지 않고 문자열 결합하세요 , x1, y2, z3를 만들어서 list에 담으세요\n",
    "    list_total.append(d[i]+c[i])\n",
    "list_total"
   ]
  },
  {
   "cell_type": "code",
   "execution_count": null,
   "id": "e65ce2f5-7fa7-4808-b7b2-0354c007173c",
   "metadata": {},
   "outputs": [],
   "source": [
    "[ i[1]+i[0] for i in zip (c,d) ]"
   ]
  },
  {
   "cell_type": "code",
   "execution_count": null,
   "id": "c0fc96a0-6193-425f-95db-b46d76de8d63",
   "metadata": {},
   "outputs": [],
   "source": [
    "# 2개의 리스트를 받아서 각각의 문자열끼리 결합하여 리스트로 반환하는 함수\n",
    "def list_two(i,j):\n",
    "    list_total=[]\n",
    "    for k in range(len(i)):\n",
    "        list_total.append(i[k]+j[k])\n",
    "    return list_total"
   ]
  },
  {
   "cell_type": "code",
   "execution_count": null,
   "id": "4aee6a9f-fb46-477e-b4b8-958f250bc248",
   "metadata": {},
   "outputs": [],
   "source": [
    "list_two(d,c)"
   ]
  },
  {
   "cell_type": "code",
   "execution_count": null,
   "id": "b38a1ee5-0990-490c-97e1-a35987cce759",
   "metadata": {},
   "outputs": [],
   "source": [
    "# 함수 만들기\n",
    "# dictionary의 key(a,b)에 대응되는 리스트의 총합을 반환하는 함수 구현"
   ]
  },
  {
   "cell_type": "code",
   "execution_count": 1,
   "id": "953f86b3-be96-4ce9-b122-c0a10c56f766",
   "metadata": {},
   "outputs": [
    {
     "data": {
      "text/plain": [
       "dict_keys(['a', 'b', 'f'])"
      ]
     },
     "execution_count": 1,
     "metadata": {},
     "output_type": "execute_result"
    }
   ],
   "source": [
    "dict2 = {\"a\":[1,2,3,4], \"b\":[4,5,6,11,23], \"f\":[11,23]}\n",
    "dict2.keys()"
   ]
  },
  {
   "cell_type": "code",
   "execution_count": null,
   "id": "75f6f906-3693-4475-b6a0-b5176bae1c72",
   "metadata": {},
   "outputs": [],
   "source": [
    "def func_dict(i):\n",
    "    sum1=0\n",
    "    for k in i.keys():\n",
    "        print(k)\n",
    "        for j in i[k]:\n",
    "            print(j)\n",
    "            sum1+=j\n",
    "    return sum1"
   ]
  },
  {
   "cell_type": "code",
   "execution_count": null,
   "id": "09c41e75-9db5-43ec-93ef-a94d5ec04705",
   "metadata": {},
   "outputs": [],
   "source": [
    "func_dict(dict2)"
   ]
  },
  {
   "cell_type": "code",
   "execution_count": 6,
   "id": "4706f53a-da1b-4831-b188-e43b2b8a0893",
   "metadata": {},
   "outputs": [],
   "source": [
    "def func_dict_list(i):\n",
    "    result = {}\n",
    "    for k in i.keys(): # result dictionary를 key에 대한 value를 0으로 초기화\n",
    "        result[k]=0\n",
    "    for j in i.keys(): # key를 반복함\n",
    "        for k in i[j]: # 각 key마다 데이터를 하나씩 가져와서\n",
    "            result[j] += k # 처음 0값에 누적함\n",
    "    return result"
   ]
  },
  {
   "cell_type": "code",
   "execution_count": 14,
   "id": "a536ae39-084e-4fe7-8a09-bef9d326595f",
   "metadata": {},
   "outputs": [],
   "source": [
    "def func_dict_list2(i):\n",
    "    result = {}\n",
    "    for v in i.keys():\n",
    "        if v not in result.keys(): # 원래 dictionary에서 하나씩 꺼내와\n",
    "            #결과를 구하려는 result dictionary에 없으면 key에 0의 value를 추가함\n",
    "            result[v]=0\n",
    "    for j in i.keys(): # key를 반복함\n",
    "        for k in i[j]: # 각 key마다 데이터를 하나씩 가져와서\n",
    "            result[j] += k # 처음 0값에 누적함\n",
    "    return result"
   ]
  },
  {
   "cell_type": "code",
   "execution_count": 12,
   "id": "45a3d796-594f-40f6-9252-51c7683a8359",
   "metadata": {},
   "outputs": [],
   "source": [
    "def func_dict_list3(i):\n",
    "    sum2=0\n",
    "    for k in i.keys():\n",
    "        for j in i[k]:\n",
    "            sum2 += j\n",
    "    return {\"a\":sum(i['a']),\"b\":sum(i['b']),\"f\":sum(i['f'])}"
   ]
  },
  {
   "cell_type": "code",
   "execution_count": 18,
   "id": "780d292f-ebf9-4241-a7b7-b1c5e94eeb0b",
   "metadata": {},
   "outputs": [
    {
     "name": "stdout",
     "output_type": "stream",
     "text": [
      "{'a': 10, 'b': 49, 'f': 34}\n",
      "{'a': 10, 'b': 49, 'f': 34}\n",
      "{'a': 10, 'b': 49, 'f': 34}\n"
     ]
    }
   ],
   "source": [
    "print(func_dict_list(dict2))\n",
    "print(func_dict_list2(dict2))\n",
    "print(func_dict_list3(dict2))"
   ]
  },
  {
   "cell_type": "code",
   "execution_count": 38,
   "id": "7f706c77-c503-47cf-9cb3-0ec3c2f786db",
   "metadata": {},
   "outputs": [],
   "source": [
    "def func_dict_even_odd(i):\n",
    "    sum7=0\n",
    "    for k in i.keys():\n",
    "        for j in i[k]:\n",
    "            sum7 += j\n",
    "    return {\n",
    "        \"a_even\":sum(list(filter(lambda x : x%2==0, i['a']))),\n",
    "        \"a_odd\":sum(list(filter(lambda x : x%2==1, i['a']))),\n",
    "    }"
   ]
  },
  {
   "cell_type": "code",
   "execution_count": 39,
   "id": "c3111915-5cb2-43bf-9559-01d8f9568380",
   "metadata": {},
   "outputs": [
    {
     "name": "stdout",
     "output_type": "stream",
     "text": [
      "{'a_even': 6, 'a_odd': 4}\n"
     ]
    }
   ],
   "source": [
    "print(func_dict_even_odd(dict2))"
   ]
  },
  {
   "cell_type": "code",
   "execution_count": 59,
   "id": "10291f4f-eed7-4ba2-89ac-ceba894151ec",
   "metadata": {},
   "outputs": [],
   "source": [
    "def func_dict_even_odd2(dict1):\n",
    "    result_dick = {}\n",
    "    key=''\n",
    "    for k in dict1.keys():\n",
    "        for u in ['even', 'odd']:\n",
    "            key=k+\"_\"+u\n",
    "            if key not in result_dick.keys():\n",
    "                result_dick[key]=0\n",
    "    print(result_dick)\n",
    "    for k in dict1.keys():\n",
    "        for data in dict1[k]:\n",
    "            if data%2==0:\n",
    "                result_dick[k+\"_even\"] += data\n",
    "            else:\n",
    "                result_dick[k+\"_odd\"] += data\n",
    "                \n",
    "    return result_dick"
   ]
  },
  {
   "cell_type": "code",
   "execution_count": 60,
   "id": "e2ecd496-eb77-4e5a-9baa-176d48363421",
   "metadata": {},
   "outputs": [
    {
     "name": "stdout",
     "output_type": "stream",
     "text": [
      "{'a_even': 0, 'a_odd': 0, 'b_even': 0, 'b_odd': 0, 'f_even': 0, 'f_odd': 0}\n",
      "{'a_even': 6, 'a_odd': 4, 'b_even': 10, 'b_odd': 39, 'f_even': 0, 'f_odd': 34}\n"
     ]
    }
   ],
   "source": [
    "print(func_dict_even_odd2(dict2))"
   ]
  },
  {
   "cell_type": "markdown",
   "id": "db526fdc-d05f-46f5-8498-3d9fef41fca2",
   "metadata": {},
   "source": [
    "## packing and unpacking"
   ]
  },
  {
   "cell_type": "code",
   "execution_count": 63,
   "id": "65e0b5db-d790-4bc6-83f0-f0f6c3cbba4e",
   "metadata": {},
   "outputs": [
    {
     "data": {
      "text/plain": [
       "1"
      ]
     },
     "execution_count": 63,
     "metadata": {},
     "output_type": "execute_result"
    }
   ],
   "source": [
    "t =[1,2,3]\n",
    "a,b,c = t\n",
    "a"
   ]
  },
  {
   "cell_type": "code",
   "execution_count": 73,
   "id": "c8f4b131-69a9-43dc-aee4-0fdcdbb894d5",
   "metadata": {},
   "outputs": [
    {
     "name": "stdout",
     "output_type": "stream",
     "text": [
      "('홍길동', '강예림', '이은석', '이진우')\n"
     ]
    },
    {
     "data": {
      "text/plain": [
       "('강예림', '이은석')"
      ]
     },
     "execution_count": 73,
     "metadata": {},
     "output_type": "execute_result"
    }
   ],
   "source": [
    "t =[1,2,3,(3,4,5),{6,7,8},{\"A\":[11,12,13,14],\"b\":(\"홍길동\",\"강예림\",\"이은석\",\"이진우\")}]\n",
    "a, b, c, d, e, f = t\n",
    "print(f['b'])\n",
    "f['b'][1:3]"
   ]
  },
  {
   "cell_type": "markdown",
   "id": "ac967a73-fb7b-4a33-b947-5a23c63e2fb1",
   "metadata": {},
   "source": [
    "## 리스트의 메모리관리 방식(p94)"
   ]
  },
  {
   "cell_type": "code",
   "execution_count": 74,
   "id": "4d17b6c8-1f42-4c2f-ba93-bc33dcf3c6cb",
   "metadata": {},
   "outputs": [],
   "source": [
    "kor_score=[49,79,28,100,80]\n",
    "math_score=[100,34,56,56,77]\n",
    "eng_score=[23,67,88,100,56]"
   ]
  },
  {
   "cell_type": "code",
   "execution_count": 75,
   "id": "5d137b59-3c38-4821-b8df-0af1ec3d4a90",
   "metadata": {},
   "outputs": [
    {
     "data": {
      "text/plain": [
       "[[49, 79, 28, 100, 80], [100, 34, 56, 56, 77], [23, 67, 88, 100, 56]]"
      ]
     },
     "execution_count": 75,
     "metadata": {},
     "output_type": "execute_result"
    }
   ],
   "source": [
    "midterm_score = [kor_score, math_score, eng_score]\n",
    "midterm_score"
   ]
  },
  {
   "cell_type": "code",
   "execution_count": 77,
   "id": "281e817f-4e80-4d96-9c00-81eb328a8704",
   "metadata": {},
   "outputs": [
    {
     "data": {
      "text/plain": [
       "[[49, 79, 28, 100, 80], [1000, 34, 56, 56, 77], [23, 67, 88, 100, 56]]"
      ]
     },
     "execution_count": 77,
     "metadata": {},
     "output_type": "execute_result"
    }
   ],
   "source": [
    "math_score[0]=1000 # math_score에 저장했는데 왜 midterm_score의 값이 변경되었나?\n",
    "midterm_score"
   ]
  },
  {
   "cell_type": "code",
   "execution_count": 78,
   "id": "125a2c78-d6a5-494d-b352-b9c58498004e",
   "metadata": {},
   "outputs": [
    {
     "data": {
      "text/plain": [
       "True"
      ]
     },
     "execution_count": 78,
     "metadata": {},
     "output_type": "execute_result"
    }
   ],
   "source": [
    "#p96\n",
    "a=1\n",
    "b=1\n",
    "a is b"
   ]
  },
  {
   "cell_type": "code",
   "execution_count": 79,
   "id": "09750422-adfd-4081-b857-4a6e7d64c580",
   "metadata": {},
   "outputs": [
    {
     "data": {
      "text/plain": [
       "True"
      ]
     },
     "execution_count": 79,
     "metadata": {},
     "output_type": "execute_result"
    }
   ],
   "source": [
    "a==b"
   ]
  },
  {
   "cell_type": "code",
   "execution_count": 84,
   "id": "d3a7ea7e-d196-45b1-84bc-010de16d9358",
   "metadata": {},
   "outputs": [],
   "source": [
    "a=[5,4,3,2,1]\n",
    "b=[1,2,3,4,5]\n",
    "b=a # b에 a의 주소가 복사돼요 , shallow copy(얕은 복사)"
   ]
  },
  {
   "cell_type": "code",
   "execution_count": 85,
   "id": "c42d0ed8-34b7-4502-97a7-71b130493f19",
   "metadata": {},
   "outputs": [
    {
     "data": {
      "text/plain": [
       "[12, 4, 3, 2, 1]"
      ]
     },
     "execution_count": 85,
     "metadata": {},
     "output_type": "execute_result"
    }
   ],
   "source": [
    "b[0]=12\n",
    "b"
   ]
  },
  {
   "cell_type": "code",
   "execution_count": 86,
   "id": "44d84082-ee0e-4661-85b5-e4a9f352ca29",
   "metadata": {},
   "outputs": [
    {
     "data": {
      "text/plain": [
       "[12, 4, 3, 2, 1]"
      ]
     },
     "execution_count": 86,
     "metadata": {},
     "output_type": "execute_result"
    }
   ],
   "source": [
    "a"
   ]
  },
  {
   "cell_type": "code",
   "execution_count": 87,
   "id": "ee20fcbb-8e62-4ca9-903d-8d6f98b84774",
   "metadata": {},
   "outputs": [
    {
     "data": {
      "text/plain": [
       "[100, 4, 3, 2, 1]"
      ]
     },
     "execution_count": 87,
     "metadata": {},
     "output_type": "execute_result"
    }
   ],
   "source": [
    "import copy\n",
    "b = copy.deepcopy(a)\n",
    "b[0]=100\n",
    "b"
   ]
  },
  {
   "cell_type": "code",
   "execution_count": 88,
   "id": "0f3b2e40-a386-4058-9d70-feb1188d4c72",
   "metadata": {},
   "outputs": [
    {
     "data": {
      "text/plain": [
       "[12, 4, 3, 2, 1]"
      ]
     },
     "execution_count": 88,
     "metadata": {},
     "output_type": "execute_result"
    }
   ],
   "source": [
    "a"
   ]
  },
  {
   "cell_type": "code",
   "execution_count": null,
   "id": "48b57bc3-9b5d-4735-acb9-30bd830081e1",
   "metadata": {},
   "outputs": [],
   "source": []
  }
 ],
 "metadata": {
  "kernelspec": {
   "display_name": "Python 3 (ipykernel)",
   "language": "python",
   "name": "python3"
  },
  "language_info": {
   "codemirror_mode": {
    "name": "ipython",
    "version": 3
   },
   "file_extension": ".py",
   "mimetype": "text/x-python",
   "name": "python",
   "nbconvert_exporter": "python",
   "pygments_lexer": "ipython3",
   "version": "3.11.7"
  }
 },
 "nbformat": 4,
 "nbformat_minor": 5
}
