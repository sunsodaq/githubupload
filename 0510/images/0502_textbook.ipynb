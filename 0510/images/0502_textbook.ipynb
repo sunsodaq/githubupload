{
 "cells": [
  {
   "cell_type": "markdown",
   "id": "2c2e662a-42a7-40a7-b57e-a7ebb9917a8c",
   "metadata": {},
   "source": [
    "## 딕셔너리(p247)"
   ]
  },
  {
   "cell_type": "code",
   "execution_count": null,
   "id": "d174198d-8de4-4e06-b4e6-e1e45cbcf50c",
   "metadata": {},
   "outputs": [],
   "source": [
    "student_info={'20140012':'성철','20140059':'지영','20140058':'재홍'}\n",
    "student_info"
   ]
  },
  {
   "cell_type": "code",
   "execution_count": null,
   "id": "ff655986-4e7e-4c86-84e4-3c7b95a780e7",
   "metadata": {},
   "outputs": [],
   "source": [
    "student_info['20140012']"
   ]
  },
  {
   "cell_type": "code",
   "execution_count": null,
   "id": "5a82cb5a-cd94-45c8-8759-740f6813e44c",
   "metadata": {},
   "outputs": [],
   "source": [
    "student_info['20140012']='예림'\n",
    "student_info"
   ]
  },
  {
   "cell_type": "code",
   "execution_count": null,
   "id": "b560ebf0-42f8-4acf-b5e8-fae8b78d665d",
   "metadata": {},
   "outputs": [],
   "source": [
    "# 문자열 3개를 결합하여 merge key에 value로 추가\n",
    "merge = ''\n",
    "for i in student_info.keys():\n",
    "    merge += student_info[i]\n",
    "student_info['merge'] = merge\n",
    "student_info"
   ]
  },
  {
   "cell_type": "code",
   "execution_count": null,
   "id": "61f6d02d-af20-4341-aa1e-ba002c6aeb49",
   "metadata": {},
   "outputs": [],
   "source": [
    "student_info={'20140012':'성철','20140059':'지영','20140058':'재홍'}\n",
    "student_info['20140012']='예림'\n",
    "merge_num=0\n",
    "merge=''\n",
    "for i in student_info.keys():\n",
    "    merge += student_info[i]\n",
    "    merge_num = len(merge)\n",
    "student_info['merge'] = merge\n",
    "student_info['total_num']=merge_num\n",
    "list_len=[i*2 for i in range(int(len(student_info['merge'])/2))]\n",
    "for i in list_len:\n",
    "    student_info['사랑_'+str(i)] = student_info['merge'][i:i+2]\n",
    "student_info"
   ]
  },
  {
   "cell_type": "code",
   "execution_count": null,
   "id": "b3c26720-96d5-4bdb-b68a-6af31a3416b7",
   "metadata": {},
   "outputs": [],
   "source": [
    "strlink = '예림지영재홍예림지영재홍'\n",
    "list_len_1=[i*2 for i in range(len(strlink))]\n",
    "list_len_2=[i*2 for i in range(int(len(strlink)/2))]\n",
    "list_len_1, list_len_2"
   ]
  },
  {
   "cell_type": "code",
   "execution_count": null,
   "id": "3d55c993-6c6a-4bce-8ebe-1a7d9056e2d9",
   "metadata": {},
   "outputs": [],
   "source": [
    "for i in list_len_1:\n",
    "    print('예:',strlink[i:i+2])"
   ]
  },
  {
   "cell_type": "code",
   "execution_count": null,
   "id": "156cd625-80db-4875-aeb8-b65288c63ea4",
   "metadata": {},
   "outputs": [],
   "source": [
    "#p249\n",
    "country_code = {'미국':1,'한국':2,'중국':3,'일본':4}\n",
    "even=0\n",
    "odd=0\n",
    "for k, v in country_code.items():\n",
    "    print(k,v)\n",
    "    if(v%2==0):\n",
    "        even += v\n",
    "    else:\n",
    "        odd += v\n",
    "country_code['even']=even\n",
    "country_code['odd']=odd\n",
    "country_code\n",
    "# country_code = {'미국':1,'한국':2,'중국':3,'일본':4, 'odd':4,'even':6}"
   ]
  },
  {
   "cell_type": "code",
   "execution_count": null,
   "id": "81100c9f-8f1f-4673-a7cb-bcec023c584b",
   "metadata": {},
   "outputs": [],
   "source": [
    "country_code = {'미국':1,'한국':2,'중국':3,'일본':4}\n",
    "even = sum([ v for (k,v) in country_code.items() if v%2==0]) # pythonic 한 코드\n",
    "odd = sum([ v for (k,v) in country_code.items() if v%2!=0])\n",
    "country_code['even'] = even\n",
    "country_code['odd'] = odd\n",
    "country_code"
   ]
  },
  {
   "cell_type": "markdown",
   "id": "c40e7399-a08a-4929-83bb-869e24e245d1",
   "metadata": {},
   "source": [
    "## p258"
   ]
  },
  {
   "cell_type": "code",
   "execution_count": null,
   "id": "40f7a27d-55a5-4398-8b76-886d6394608f",
   "metadata": {},
   "outputs": [],
   "source": [
    "from collections import deque"
   ]
  },
  {
   "cell_type": "code",
   "execution_count": null,
   "id": "a53fa469-1fbc-4dfb-83e2-ba939f11aa4a",
   "metadata": {},
   "outputs": [],
   "source": [
    "deque_list = deque()\n",
    "for i in range(5):\n",
    "    deque_list.append(i)\n",
    "deque_list"
   ]
  },
  {
   "cell_type": "code",
   "execution_count": null,
   "id": "dd360851-d786-435e-a9ba-d35fad9e834c",
   "metadata": {},
   "outputs": [],
   "source": [
    "deque_list.rotate(3) # 3번을 기준으로 환형(circular)\n",
    "deque_list"
   ]
  },
  {
   "cell_type": "markdown",
   "id": "4708c5cb-9267-43a4-8bd1-dffd7aeefa0f",
   "metadata": {},
   "source": [
    "<img src=\"images/linked_list.jpg\"/>"
   ]
  },
  {
   "cell_type": "markdown",
   "id": "84d8a99e-21ff-4282-9116-97b432517477",
   "metadata": {},
   "source": [
    "<img src=\"images/linked_list2.jpg\"/>"
   ]
  },
  {
   "cell_type": "code",
   "execution_count": null,
   "id": "2c2dfdda-8a52-400d-a49f-77714f5c4983",
   "metadata": {},
   "outputs": [],
   "source": [
    "deque(reversed(deque_list))"
   ]
  },
  {
   "cell_type": "code",
   "execution_count": null,
   "id": "3bdec51f-397c-49bd-9d70-c0b842164fc2",
   "metadata": {},
   "outputs": [],
   "source": [
    "deque_list.extend([11,12,23])\n",
    "deque_list"
   ]
  },
  {
   "cell_type": "markdown",
   "id": "b8bec92a-b880-4db8-b3fc-8ad5579f1e93",
   "metadata": {},
   "source": [
    "## OrderedDict 모듈(p255)"
   ]
  },
  {
   "cell_type": "code",
   "execution_count": null,
   "id": "d7062b24-ddbf-4b3f-8865-ab6c89cf134f",
   "metadata": {},
   "outputs": [],
   "source": [
    "d={}\n",
    "d['x'] = 100\n",
    "d['y'] = 500\n",
    "d['z'] = 300\n",
    "d['w'] = 400\n",
    "d\n",
    "# 일반적인 dictionary는 key를 기준으로 내부적으로 검색을 빠르게 하기 위해 순서가 없지만"
   ]
  },
  {
   "cell_type": "code",
   "execution_count": null,
   "id": "843031b6-7c07-444a-8684-8f9d4e40fc0e",
   "metadata": {},
   "outputs": [],
   "source": [
    "from collections import OrderedDict"
   ]
  },
  {
   "cell_type": "code",
   "execution_count": null,
   "id": "f042a141-3672-4ed6-993c-68e06d3d00a6",
   "metadata": {},
   "outputs": [],
   "source": [
    "d= OrderedDict()\n",
    "d['x'] = 100\n",
    "d['y'] = 500\n",
    "d['z'] = 300\n",
    "d['w'] = 400\n",
    "d\n",
    "# OrderedDict 는 순서가 있다"
   ]
  },
  {
   "cell_type": "code",
   "execution_count": null,
   "id": "b258b1cd-d2eb-4251-8cf5-eeb5c9ad5a25",
   "metadata": {},
   "outputs": [],
   "source": [
    "list2 = [\n",
    "    {'a':[1,2,3,4,5], 'b':{'t':[11,12]}},\n",
    "    {'a':[11,12,13,14,15], 'b':{'t':[22,17]}},\n",
    "    {'a':[13,17,5,6,3], 'b':{'t':[13,9]}},\n",
    "    {'a':[7,6,2,-1,9], 'b':{'t':[4,-2]}},\n",
    "    {'a':[-1,-2,3,6,8], 'b':{'t':[-1,-2]}}\n",
    "]\n",
    "result={}\n",
    "sum1 = 0\n",
    "sum2 = 0\n",
    "for i in list2:\n",
    "    for j in i['a']:\n",
    "        sum1 += j\n",
    "    for bj, bv in i['b'].items():\n",
    "        for tt in bv:\n",
    "            sum2 += tt\n",
    "        \n",
    "result['sum_a'] = sum1\n",
    "result['sum_t'] = sum2\n",
    "result"
   ]
  },
  {
   "cell_type": "code",
   "execution_count": null,
   "id": "1cc93e58-9e6e-4b68-b050-b9c95b0470fe",
   "metadata": {},
   "outputs": [],
   "source": [
    "from functools import reduce"
   ]
  },
  {
   "cell_type": "code",
   "execution_count": null,
   "id": "73b9511d-f420-4423-a9c1-41ff0b1d301b",
   "metadata": {},
   "outputs": [],
   "source": [
    "list3 = [\n",
    "    {'a':[1,2,3,4,5], 'b':{'t':[11,12]}},\n",
    "    {'a':[11,12,13,14,15], 'b':{'t':[22,17]}},\n",
    "    {'a':[13,17,5,6,3], 'b':{'t':[13,9]}},\n",
    "    {'a':[7,6,2,-1,9], 'b':{'t':[4,-2]}},\n",
    "    {'a':[-1,-2,3,6,8], 'b':{'t':[-1,-2]}}\n",
    "]"
   ]
  },
  {
   "cell_type": "code",
   "execution_count": null,
   "id": "db71aa87-8451-4527-b8e7-1a030bc3bb16",
   "metadata": {},
   "outputs": [],
   "source": [
    "def f(i):\n",
    "    sum1=0\n",
    "    for j in i:\n",
    "        sum1 += j\n",
    "    return sum1"
   ]
  },
  {
   "cell_type": "code",
   "execution_count": null,
   "id": "fcc0f911-98e0-4b4b-bd45-bf101a6c2c6a",
   "metadata": {},
   "outputs": [],
   "source": [
    "result_obj={}\n",
    "first_list = list(map(f, map(lambda x:x['a'], list3)))\n",
    "result_obj['a']=f(first_list)"
   ]
  },
  {
   "cell_type": "code",
   "execution_count": null,
   "id": "edde4f2d-7556-4252-8dc6-9e04a52042c3",
   "metadata": {},
   "outputs": [],
   "source": [
    "second_list = list(map(f, map(lambda x:x['b']['t'], list3)))\n",
    "result_obj['b']=f(second_list)\n",
    "result_obj"
   ]
  },
  {
   "cell_type": "code",
   "execution_count": null,
   "id": "93f4a7a0-643e-4384-b482-63fa1b00b7b0",
   "metadata": {},
   "outputs": [],
   "source": [
    "#p283\n",
    "'zero one two three'.split(' ')"
   ]
  },
  {
   "cell_type": "code",
   "execution_count": null,
   "id": "19df5e73-0517-4d60-afe5-33e665374d2f",
   "metadata": {},
   "outputs": [],
   "source": [
    "vv = 'zero,one,two,three'.split(',')\n",
    "[a,b,c,d]=vv # 자바스크립트의 destructuring 과 유사\n",
    "a"
   ]
  },
  {
   "cell_type": "code",
   "execution_count": null,
   "id": "398769aa-d707-42de-87a5-2e80ab800b8a",
   "metadata": {},
   "outputs": [],
   "source": [
    "t = tuple([3,4])\n",
    "t"
   ]
  },
  {
   "cell_type": "code",
   "execution_count": null,
   "id": "aa9fb877-0101-40f9-8144-2324d6bd96de",
   "metadata": {},
   "outputs": [],
   "source": [
    "a, b = t\n",
    "a"
   ]
  },
  {
   "cell_type": "code",
   "execution_count": null,
   "id": "612ca5f2-01d1-4a57-bc97-093a701d7946",
   "metadata": {},
   "outputs": [],
   "source": [
    "def f(i):\n",
    "    return (sum(i), sum(i)/len(i))"
   ]
  },
  {
   "cell_type": "code",
   "execution_count": null,
   "id": "9c59c26b-1708-4d12-a07a-3467da1f857d",
   "metadata": {},
   "outputs": [],
   "source": [
    "u, v = f([2,3,4,5,6])\n",
    "u"
   ]
  },
  {
   "cell_type": "code",
   "execution_count": null,
   "id": "e9c3b1b6-bf47-4d90-9873-da0a37280094",
   "metadata": {},
   "outputs": [],
   "source": [
    "def gg(i):\n",
    "    return list(map(i['q'], i['p']))"
   ]
  },
  {
   "cell_type": "code",
   "execution_count": null,
   "id": "4f5abf49-7699-4e05-8a52-ff9115b99138",
   "metadata": {},
   "outputs": [],
   "source": [
    "def gg(i):\n",
    "    return i['q'](f(i['p'])) #i['q'] => 함수\n",
    "# i['p'] => 리스트. f 함수는 리스트를 받아서 리스트의 총합을 반환하는 함수"
   ]
  },
  {
   "cell_type": "code",
   "execution_count": null,
   "id": "2c95f8b4-fda7-467d-b501-6d55cc72c5d1",
   "metadata": {},
   "outputs": [],
   "source": [
    "rrr = [{'p':[1,2,3,4,5,6], 'q': lambda x : x+5},\n",
    "    {'p':[21,22,23,34,35,26], 'q': lambda x : x+15},\n",
    "    {'p':[15,21,33,44,55,611], 'q': lambda x : x+25}]\n",
    "sum(list(map (lambda x: gg( x ) , rrr )))"
   ]
  },
  {
   "cell_type": "code",
   "execution_count": 1,
   "id": "96efb27b-5ccb-4ae2-a57e-2444127918b7",
   "metadata": {},
   "outputs": [],
   "source": [
    "def f1(i):\n",
    "    sum1=0\n",
    "    for j in i:\n",
    "        sum1 += j\n",
    "    return sum1"
   ]
  },
  {
   "cell_type": "code",
   "execution_count": 6,
   "id": "118d4307-fc07-4f56-93f3-9cf63f09077d",
   "metadata": {},
   "outputs": [],
   "source": [
    "def helf_f(i): # i 는 객체\n",
    "    lam = map(lambda x : i['f'] (x, f1(i['arr'])), i['arr'] )\n",
    "    # i['f'] 함수 // i['arr'] 배열\n",
    "    return sum(list(lam))"
   ]
  },
  {
   "cell_type": "code",
   "execution_count": 5,
   "id": "d66cb1f1-8813-4a44-927b-859ade67f36d",
   "metadata": {},
   "outputs": [
    {
     "name": "stdout",
     "output_type": "stream",
     "text": [
      "[147, 29241, 1.0]\n"
     ]
    },
    {
     "data": {
      "text/plain": [
       "29389.0"
      ]
     },
     "execution_count": 5,
     "metadata": {},
     "output_type": "execute_result"
    }
   ],
   "source": [
    "rrrObj = [{'arr':[1,2,3,4,5,6], 'f': lambda x,y : x+y},\n",
    "    {'arr':[21,22,23,34,35,36], 'f': lambda x,y : x*y},\n",
    "    {'arr':[15,21,33,44,55,611], 'f': lambda x,y : x/y}]\n",
    "print(list(map (lambda x: helf_f( x ) , rrrObj )))\n",
    "sum(list(map (lambda x: helf_f( x ) , rrrObj )))"
   ]
  },
  {
   "cell_type": "code",
   "execution_count": null,
   "id": "ebbca02c-d2c9-498e-92a4-f4de657dc25f",
   "metadata": {},
   "outputs": [],
   "source": [
    "# q 함수를 이용하여 p의 배열을 전달한 결과를 dictionary를 반환함"
   ]
  },
  {
   "cell_type": "code",
   "execution_count": null,
   "id": "d30cfa94-63f9-4ca4-92ad-53680778e9c3",
   "metadata": {},
   "outputs": [],
   "source": [
    "f = lambda x, y : x+y\n",
    "f(3,4)"
   ]
  }
 ],
 "metadata": {
  "kernelspec": {
   "display_name": "Python 3 (ipykernel)",
   "language": "python",
   "name": "python3"
  },
  "language_info": {
   "codemirror_mode": {
    "name": "ipython",
    "version": 3
   },
   "file_extension": ".py",
   "mimetype": "text/x-python",
   "name": "python",
   "nbconvert_exporter": "python",
   "pygments_lexer": "ipython3",
   "version": "3.11.7"
  }
 },
 "nbformat": 4,
 "nbformat_minor": 5
}
