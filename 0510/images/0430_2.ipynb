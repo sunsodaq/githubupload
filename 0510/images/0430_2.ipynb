{
 "cells": [
  {
   "cell_type": "markdown",
   "id": "cec61e4f-20e6-4ad5-b43d-d1a6c239a272",
   "metadata": {},
   "source": [
    "## 함수 심화 (p178)"
   ]
  },
  {
   "cell_type": "code",
   "execution_count": 3,
   "id": "a39b55c7-d07b-414a-a348-552ccbb5ccc2",
   "metadata": {},
   "outputs": [],
   "source": [
    "def f():\n",
    "    global s # 전역변수 사용하겠다\n",
    "    s=\"나는 영국을 좋아해요\" # 전역 변수의 값을 변경했어요\n",
    "    print(s)"
   ]
  },
  {
   "cell_type": "code",
   "execution_count": 4,
   "id": "84f0be25-51a1-4cef-a86a-25511c7b7680",
   "metadata": {},
   "outputs": [
    {
     "name": "stdout",
     "output_type": "stream",
     "text": [
      "나는 파리를 사랑해요\n",
      "나는 영국을 좋아해요\n",
      "나는 영국을 좋아해요\n"
     ]
    }
   ],
   "source": [
    "s=\"나는 파리를 사랑해요\"\n",
    "print(s)\n",
    "f()\n",
    "print(s)"
   ]
  },
  {
   "cell_type": "markdown",
   "id": "21157058-c7b4-4cf6-9f96-c3e3ac3cc644",
   "metadata": {},
   "source": [
    "## 재귀함수"
   ]
  },
  {
   "cell_type": "markdown",
   "id": "ba4bf4b1-a40d-49f6-88a4-2fbf1d365ab9",
   "metadata": {},
   "source": [
    "$$ n! = n\\cdot (n-1) \\cdot \\cdot \\cdot 2 \\cdot 1 = \\prod_{i=1}^{n} i $$"
   ]
  },
  {
   "cell_type": "markdown",
   "id": "3882fe70-0d2d-4f4f-8af2-421ef58723ee",
   "metadata": {},
   "source": [
    "<img src=\"factorial.jpg\" style=\"height:200px; width:200px;\"/>"
   ]
  },
  {
   "cell_type": "markdown",
   "id": "27c62e10-2e48-461d-805c-f3cd104fadfe",
   "metadata": {},
   "source": [
    "<img src=\"fact.gif\" style=\"height:200px; width:200px;\"/>"
   ]
  },
  {
   "cell_type": "markdown",
   "id": "7677c11d-2288-4d62-9a3c-816118531c02",
   "metadata": {},
   "source": [
    "<img src=\"output.gif\" style=\"height:200px; width:300px;\"/>"
   ]
  },
  {
   "cell_type": "code",
   "execution_count": 9,
   "id": "87a46ca6-1ee7-4017-8f51-5ed4ed61bb5f",
   "metadata": {},
   "outputs": [],
   "source": [
    "def factorial(n):\n",
    "    if n==1: # 종료 조건\n",
    "        return 1\n",
    "    else:\n",
    "        return n* factorial(n-1) # 자가 자신을 숫자 1 감소한 후 호출"
   ]
  },
  {
   "cell_type": "code",
   "execution_count": 10,
   "id": "ff2ca188-f3aa-4d4c-b162-5076a29c215b",
   "metadata": {},
   "outputs": [
    {
     "data": {
      "text/plain": [
       "120"
      ]
     },
     "execution_count": 10,
     "metadata": {},
     "output_type": "execute_result"
    }
   ],
   "source": [
    "factorial(5)"
   ]
  },
  {
   "cell_type": "markdown",
   "id": "3dba1e4b-7237-43c0-9f95-5d651e171577",
   "metadata": {},
   "source": [
    "$$ \\omega = 2 \\pi f \\rightarrow w = 각속도 , f = 주파수 , 각속도 \\omega = = \\frac{\\theta}{t} $$\n",
    "## 시간에 따라 얼마나 각도가 많이 변하는가? 미분\n",
    "$$ v = \\frac{s}{t} \\rightarrow v = 속도 , s = 거리, t = 시간 $$"
   ]
  },
  {
   "cell_type": "markdown",
   "id": "19ae216f-fb37-41c3-93c0-a8987e114c52",
   "metadata": {},
   "source": [
    "p183"
   ]
  },
  {
   "cell_type": "code",
   "execution_count": 16,
   "id": "9e020156-596d-4fd0-8ed2-8e612e849129",
   "metadata": {},
   "outputs": [],
   "source": [
    "def print_something_2(my_name, your_name=\"팀명\"):\n",
    "    return \"안녕 {0} 아, 내 이름은 {1}\".format(your_name, my_name)"
   ]
  },
  {
   "cell_type": "code",
   "execution_count": 14,
   "id": "849e11ba-d928-46ce-8ad9-0f8a35cb71e4",
   "metadata": {},
   "outputs": [
    {
     "name": "stdout",
     "output_type": "stream",
     "text": [
      "안녕 팀명 아, 내 이름은 길동\n"
     ]
    }
   ],
   "source": [
    "print_something_2(\"길동\")"
   ]
  },
  {
   "cell_type": "code",
   "execution_count": 18,
   "id": "fdff5849-249b-40f3-874c-9b97d42c4e4e",
   "metadata": {},
   "outputs": [
    {
     "data": {
      "text/plain": [
       "['안녕 팀명 아, 내 이름은 재오',\n",
       " '안녕 팀명 아, 내 이름은 은석',\n",
       " '안녕 팀명 아, 내 이름은 예림',\n",
       " '안녕 팀명 아, 내 이름은 우진',\n",
       " '안녕 팀명 아, 내 이름은 휘완',\n",
       " '안녕 팀명 아, 내 이름은 선희',\n",
       " '안녕 팀명 아, 내 이름은 영채',\n",
       " '안녕 팀명 아, 내 이름은 중권',\n",
       " '안녕 팀명 아, 내 이름은 다원']"
      ]
     },
     "execution_count": 18,
     "metadata": {},
     "output_type": "execute_result"
    }
   ],
   "source": [
    "[print_something_2(i) for i in (\"재오\",\"은석\",\"예림\",\"우진\",\"휘완\",\"선희\",\"영채\",\"중권\",\"다원\")]"
   ]
  },
  {
   "cell_type": "code",
   "execution_count": 29,
   "id": "d0d62121-54ea-4785-b96f-d1670e73f8c0",
   "metadata": {},
   "outputs": [
    {
     "data": {
      "text/plain": [
       "['1 아, ',\n",
       " '2 아, ',\n",
       " '3 아, ',\n",
       " '4 아, ',\n",
       " '5 아, ',\n",
       " '6 아, ',\n",
       " '7 아, ',\n",
       " '8 아, ',\n",
       " '9 아, ']"
      ]
     },
     "execution_count": 29,
     "metadata": {},
     "output_type": "execute_result"
    }
   ],
   "source": [
    "tuple_list = (\"재오\",\"은석\",\"예림\",\"우진\",\"휘완\",\"선희\",\"영채\",\"중권\",\"다원\")\n",
    "list_string = [print_something_2(i, i+str(idx+1)) for idx, i in zip(range(len(tuple_list)), tuple_list) ]\n",
    "list_string[0][5:10]\n",
    "[ i[5:10] for i in list_string]"
   ]
  },
  {
   "cell_type": "markdown",
   "id": "c740f932-1b08-40b0-91a2-193d3a325f83",
   "metadata": {},
   "source": [
    "## 가변인수"
   ]
  },
  {
   "cell_type": "code",
   "execution_count": 37,
   "id": "5b083a3f-eb41-4533-b3a1-fdb0785fe653",
   "metadata": {},
   "outputs": [],
   "source": [
    "def asteric_test(a, b, *args, **v):\n",
    "    print(v)\n",
    "    return a+ b +sum(args)"
   ]
  },
  {
   "cell_type": "code",
   "execution_count": 49,
   "id": "f5257d72-ac1e-4567-818a-36a65199aece",
   "metadata": {},
   "outputs": [],
   "source": [
    "def asteric_test2(*args, **v):\n",
    "    # print(v)\n",
    "    merge=''\n",
    "    for i in v.keys():\n",
    "        # print(i)\n",
    "        pass\n",
    "    for j in v['a']:\n",
    "        merge += j+str(v['b'])\n",
    "    return merge\n",
    "    # return a+ b +sum(args)"
   ]
  },
  {
   "cell_type": "code",
   "execution_count": 50,
   "id": "ba9d6abb-e517-4a84-af23-74639df91508",
   "metadata": {},
   "outputs": [
    {
     "data": {
      "text/plain": [
       "'hong13kil13dong13'"
      ]
     },
     "execution_count": 50,
     "metadata": {},
     "output_type": "execute_result"
    }
   ],
   "source": [
    "asteric_test2(a=['hong','kil','dong'], b=13 )"
   ]
  },
  {
   "cell_type": "code",
   "execution_count": 51,
   "id": "de4d1132-d7ed-444e-89dd-0620304e3e75",
   "metadata": {},
   "outputs": [
    {
     "name": "stderr",
     "output_type": "stream",
     "text": [
      "IOPub data rate exceeded.\n",
      "The Jupyter server will temporarily stop sending output\n",
      "to the client in order to avoid crashing it.\n",
      "To change this limit, set the config variable\n",
      "`--ServerApp.iopub_data_rate_limit`.\n",
      "\n",
      "Current values:\n",
      "ServerApp.iopub_data_rate_limit=1000000.0 (bytes/sec)\n",
      "ServerApp.rate_limit_window=3.0 (secs)\n",
      "\n"
     ]
    }
   ],
   "source": [
    "iteration_max=10000\n",
    "vector = list(range(iteration_max))\n",
    "scalar = 2\n",
    "for _ in range(iteration_max):\n",
    "    print([scalar*value for value in range(iteration_max)])"
   ]
  }
 ],
 "metadata": {
  "kernelspec": {
   "display_name": "Python 3 (ipykernel)",
   "language": "python",
   "name": "python3"
  },
  "language_info": {
   "codemirror_mode": {
    "name": "ipython",
    "version": 3
   },
   "file_extension": ".py",
   "mimetype": "text/x-python",
   "name": "python",
   "nbconvert_exporter": "python",
   "pygments_lexer": "ipython3",
   "version": "3.11.7"
  }
 },
 "nbformat": 4,
 "nbformat_minor": 5
}
