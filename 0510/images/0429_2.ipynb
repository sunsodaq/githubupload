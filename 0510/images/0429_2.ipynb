{
 "cells": [
  {
   "cell_type": "markdown",
   "id": "4a2fe3b2-838d-4c87-8092-a612ebeeb9f6",
   "metadata": {},
   "source": [
    "## 조건문"
   ]
  },
  {
   "cell_type": "code",
   "execution_count": null,
   "id": "3b547b8e-cfad-4cd7-996e-242f5de277b7",
   "metadata": {},
   "outputs": [],
   "source": [
    "print(\"당신이 태어난 연도를 입력하세요\")"
   ]
  },
  {
   "cell_type": "code",
   "execution_count": null,
   "id": "96b813d3-91bf-44d1-a540-4bee374b9a59",
   "metadata": {},
   "outputs": [],
   "source": [
    "birth_year = input()"
   ]
  },
  {
   "cell_type": "code",
   "execution_count": null,
   "id": "750500ee-f915-4497-a765-17471f80398d",
   "metadata": {},
   "outputs": [],
   "source": [
    "age = 2024-int(birth_year)\n",
    "print(\"당신의 나이는 \"+str(age)+\"살입니다\")"
   ]
  },
  {
   "cell_type": "code",
   "execution_count": null,
   "id": "e7bae372-173c-46b7-b9b9-9c8125fde0ef",
   "metadata": {},
   "outputs": [],
   "source": [
    "# 함수생성\n",
    "# 연도를 입력받으면 나이를 계산하는 함수 생성"
   ]
  },
  {
   "cell_type": "code",
   "execution_count": null,
   "id": "02c738d1-a5e1-42e4-b9c3-dc975d5d3b49",
   "metadata": {},
   "outputs": [],
   "source": [
    "def age_func(year):\n",
    "    age = 2024-int(year)\n",
    "    result = \"당신의 나이는 \"+str(age)+\"살입니다\"\n",
    "    return result"
   ]
  },
  {
   "cell_type": "code",
   "execution_count": null,
   "id": "bd16d07c-ba54-4dfb-9552-a2021868c954",
   "metadata": {},
   "outputs": [],
   "source": [
    "birth_year = input()\n",
    "age_func(birth_year)"
   ]
  },
  {
   "cell_type": "markdown",
   "id": "530f1b48-537d-4bcf-8149-bb27218914f1",
   "metadata": {},
   "source": [
    "## 반복문(p123)"
   ]
  },
  {
   "cell_type": "code",
   "execution_count": null,
   "id": "f5b68564-bbf7-4451-8d5e-1f10b2fc14f4",
   "metadata": {},
   "outputs": [],
   "source": [
    "sum_1=0;\n",
    "for l in [1,2,3,4,5]:\n",
    "    sum_1 += l\n",
    "sum_1"
   ]
  },
  {
   "cell_type": "code",
   "execution_count": null,
   "id": "2c8fc1a6-7d61-4096-81ad-ccd0ae42adec",
   "metadata": {},
   "outputs": [],
   "source": [
    "## 짝수의 합과 홀수의 합을 각각구해서 dictionary 로 만들어라"
   ]
  },
  {
   "cell_type": "code",
   "execution_count": null,
   "id": "bac969f9-ed52-435d-90a1-147a35e6f2ae",
   "metadata": {},
   "outputs": [],
   "source": [
    "dict1={}\n",
    "sum_1=0;\n",
    "sum_even=0;\n",
    "sum_odd=0;\n",
    "for l in [1,2,3,4,5]:\n",
    "    sum_1 += l\n",
    "    dict1['total'] = sum_1\n",
    "    if (l%2==0):\n",
    "        sum_even += l;\n",
    "        dict1['even'] = sum_even\n",
    "    else:\n",
    "        sum_odd += l;\n",
    "        dict1['odd'] = sum_odd\n",
    "dict1"
   ]
  },
  {
   "cell_type": "code",
   "execution_count": null,
   "id": "2f03f424-c25b-4a7e-baee-9081a09fdef6",
   "metadata": {},
   "outputs": [],
   "source": [
    "from functools import reduce"
   ]
  },
  {
   "cell_type": "code",
   "execution_count": null,
   "id": "9e83d766-e671-4170-b9d1-25966d3d72a3",
   "metadata": {},
   "outputs": [],
   "source": [
    "# 짝수의 총합 반환\n",
    "def ff(*r):\n",
    "    print(r)\n",
    "    even_d = filter(lambda x: x%2==0, r)\n",
    "    return reduce(lambda acc, cur : acc+cur, even_d) # 짝수만의 총합"
   ]
  },
  {
   "cell_type": "code",
   "execution_count": null,
   "id": "02799e80-a17d-4940-a6e9-97ddce2bbef3",
   "metadata": {},
   "outputs": [],
   "source": [
    "ff(1,2,3,4,5,22,24)"
   ]
  },
  {
   "cell_type": "code",
   "execution_count": null,
   "id": "10665be6-de01-424d-9504-102c4ee12e31",
   "metadata": {},
   "outputs": [],
   "source": [
    "def rrr(*rr, **kwargs): # keyword arguments, 가변인자 *는 typle **는 dictionary\n",
    "    print(kwargs, rr)"
   ]
  },
  {
   "cell_type": "code",
   "execution_count": null,
   "id": "9242f0c2-9555-491f-8611-10c1e0653d7a",
   "metadata": {},
   "outputs": [],
   "source": [
    "rrr(2,3,4,5, a=7, b=\"홍길동\", c=\"김말자\", f={\"a\":[1,2,3,4,]})"
   ]
  },
  {
   "cell_type": "code",
   "execution_count": null,
   "id": "dd188720-dffb-473c-919a-5f83e748f8c3",
   "metadata": {},
   "outputs": [],
   "source": [
    "i=1\n",
    "while i<10:\n",
    "    print(i)\n",
    "    i+=1"
   ]
  },
  {
   "cell_type": "code",
   "execution_count": null,
   "id": "2139f9bc-0fa0-4ff9-a328-127761cce3f8",
   "metadata": {},
   "outputs": [],
   "source": [
    "int1=0\n",
    "while int1<4:\n",
    "    int1 = int(input(\"숫자입력\"))\n",
    "    print(int1)"
   ]
  },
  {
   "cell_type": "code",
   "execution_count": null,
   "id": "77616295-6a98-4284-ae2c-05e393de0338",
   "metadata": {},
   "outputs": [],
   "source": [
    "#키보드로 입력된 값의 총합을 구하세요"
   ]
  },
  {
   "cell_type": "code",
   "execution_count": 6,
   "id": "6c57e2b3-94c3-494a-be95-027fc7c51c0c",
   "metadata": {},
   "outputs": [],
   "source": [
    "def add(i,j): return i+j"
   ]
  },
  {
   "cell_type": "code",
   "execution_count": 8,
   "id": "0471f915-62dc-4e8b-a831-961792730583",
   "metadata": {},
   "outputs": [
    {
     "name": "stdin",
     "output_type": "stream",
     "text": [
      "첫번째 숫자입력 5\n",
      "두번째 숫자입력 5\n"
     ]
    },
    {
     "name": "stdout",
     "output_type": "stream",
     "text": [
      "10\n"
     ]
    },
    {
     "name": "stdin",
     "output_type": "stream",
     "text": [
      "첫번째 숫자입력 1\n",
      "두번째 숫자입력 1\n"
     ]
    },
    {
     "name": "stdout",
     "output_type": "stream",
     "text": [
      "12\n"
     ]
    },
    {
     "name": "stdin",
     "output_type": "stream",
     "text": [
      "첫번째 숫자입력 7\n",
      "두번째 숫자입력 7\n"
     ]
    },
    {
     "name": "stdout",
     "output_type": "stream",
     "text": [
      "26\n"
     ]
    },
    {
     "name": "stdin",
     "output_type": "stream",
     "text": [
      "첫번째 숫자입력 3\n",
      "두번째 숫자입력 q\n"
     ]
    },
    {
     "data": {
      "text/plain": [
       "36"
      ]
     },
     "execution_count": 8,
     "metadata": {},
     "output_type": "execute_result"
    }
   ],
   "source": [
    "int2=0\n",
    "keyboard_in1=0\n",
    "keyboard_in2=0\n",
    "while keyboard_in2 != 'Q':\n",
    "    try:\n",
    "        keyboard_in1 = int(input(\"첫번째 숫자입력\")) # 숫자로 반환할 수 있지 않은 문자는 예외발생\n",
    "        keyboard_in2 = int(input(\"두번째 숫자입력\"))\n",
    "        int2 += add(keyboard_in1,keyboard_in2)\n",
    "        print(int2)\n",
    "    except:\n",
    "        int2 += add(keyboard_in1,keyboard_in2)\n",
    "        break\n",
    "int2"
   ]
  }
 ],
 "metadata": {
  "kernelspec": {
   "display_name": "Python 3 (ipykernel)",
   "language": "python",
   "name": "python3"
  },
  "language_info": {
   "codemirror_mode": {
    "name": "ipython",
    "version": 3
   },
   "file_extension": ".py",
   "mimetype": "text/x-python",
   "name": "python",
   "nbconvert_exporter": "python",
   "pygments_lexer": "ipython3",
   "version": "3.11.7"
  }
 },
 "nbformat": 4,
 "nbformat_minor": 5
}
