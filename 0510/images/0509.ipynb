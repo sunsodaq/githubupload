{
 "cells": [
  {
   "cell_type": "markdown",
   "id": "f7e35d00-3c58-4afb-bd17-c2cefc6e11d2",
   "metadata": {},
   "source": [
    "<table>\n",
    "    <tr>\n",
    "        <th>정렬 알고리즘</th>\n",
    "        <th>stable / NOT stable</th>\n",
    "    </tr>\n",
    "    <tr>\n",
    "        <th>버블 정렬</th>\n",
    "        <td>stasble</td>\n",
    "    </tr>\n",
    "    <tr>\n",
    "        <th>삽입 정렬</th>\n",
    "        <td>stasble</td>\n",
    "    </tr>\n",
    "    <tr>\n",
    "        <th>선택 정렬</th>\n",
    "        <td>stasble</td>\n",
    "    </tr>\n",
    "    <tr>\n",
    "        <th>쉘 정렬</th>\n",
    "        <td>stasble</td>\n",
    "    </tr>\n",
    "    <tr>\n",
    "        <th>퀵 정렬</th>\n",
    "        <td>stasble</td>\n",
    "    </tr>\n",
    "    <tr>\n",
    "        <th>합병 정렬</th>\n",
    "        <td>stasble</td>\n",
    "    </tr>\n",
    "    <tr>\n",
    "        <th>힙 정렬</th>\n",
    "        <td>stasble</td>\n",
    "    </tr>\n",
    "</table>"
   ]
  },
  {
   "cell_type": "markdown",
   "id": "4511e5d6-4b8b-4127-aa5c-bc63ef61373e",
   "metadata": {},
   "source": [
    "<table>\n",
    "    <tr>\n",
    "        <th>정렬 알고리즘</th>\n",
    "        <th>Extra Storage Space</th>\n",
    "        <th>in-place / NOT in-place</th>\n",
    "    </tr>\n",
    "    <tr>\n",
    "        <th>버블 정렬</th>\n",
    "        <td>1</td>\n",
    "        <td>in-place</td>\n",
    "    </tr>\n",
    "    <tr>\n",
    "        <th>삽입 정렬</th>\n",
    "        <td>1</td>\n",
    "        <td>in-place</td>\n",
    "    </tr>\n",
    "    <tr>\n",
    "        <th>선택 정렬</th>\n",
    "        <td>1</td>\n",
    "        <td>in-place</td>\n",
    "    </tr>\n",
    "    <tr>\n",
    "        <th>쉘 정렬</th>\n",
    "        <td>1</td>\n",
    "        <td>in-place</td>\n",
    "    </tr>\n",
    "    <tr>\n",
    "        <th>퀵 정렬</th>\n",
    "        <td>log \n",
    "n</td>\n",
    "        <dhNOT in-placee</dh>\n",
    "    </tr>\n",
    "    <tr>\n",
    "        <th>합병 정렬</th>\n",
    "        <tdn1</td>\n",
    "        <dhNOT in-placee</dh>\n",
    "    </tr>\n",
    "    <tr>\n",
    "        <th>힙 정렬</th>\n",
    "        <td>1</td>\n",
    "       <td>in-place</td>>\n",
    "    </tr>\n",
    "</table>"
   ]
  },
  {
   "cell_type": "markdown",
   "id": "1e179801-f1fb-4552-b7da-02e0f84dbe30",
   "metadata": {},
   "source": [
    "### 입력된 데이터를 저장하는 메모리 공간 외에 상수 크기의 메모리 공간 정도만 필요한가? 아님 추가로 공간이 더 필요한가?\n",
    "### 추가로 필요하지 않으면 in-place 추가로 필요하면 not in-place\n",
    "### 여기서 상수는 데이터 크기 n과 무관하다는 뜻, 상수는 위의 표에서 1로 표현"
   ]
  },
  {
   "cell_type": "markdown",
   "id": "48082d03-cc15-4f41-a1a3-a4892e1eb030",
   "metadata": {},
   "source": [
    "## 버블 정렬"
   ]
  },
  {
   "cell_type": "markdown",
   "id": "1c99d184-7d0d-4413-af0d-870213e3ad3d",
   "metadata": {},
   "source": [
    "<img src=\"images/0509/img.gif\"/>"
   ]
  },
  {
   "cell_type": "markdown",
   "id": "8eda2b86-c698-453b-94ac-4873d83b9475",
   "metadata": {},
   "source": [
    "### 이름이 버블 정렬인 인유\n",
    "<ol>\n",
    "    <li>가장 큰 것부터 정렬되기에 , 정렬된 데이터가 거품처럼 가라앉는 것처럼 보인다</li>\n",
    "    <li>반복할 때마다 가장 큰 값이 맨 끝으로 (가장 오른쪽으로) 점차 이동하는데, 거품이 위로 올라가는 것처럼 보인다</li>\n",
    "</ol>"
   ]
  },
  {
   "cell_type": "markdown",
   "id": "ff12fbfe-aae0-43c5-b461-23ca63281f15",
   "metadata": {},
   "source": [
    "<img src=\"images/0509/img2.gif\"/>"
   ]
  },
  {
   "cell_type": "markdown",
   "id": "965bdaaf-f2c8-45a5-9dc4-625373bbe2ed",
   "metadata": {},
   "source": [
    "## 파이썬으로 구현\n",
    "1~2번에 의해 이중 반복문으로 작성되어야 함\n",
    "<ol>\n",
    "    <li>인접한 두 요소를 순차적으로 비교 해야하므로 반복문을 한 번 돌아야 한다</li>\n",
    "    <li>1번을 마치면 다시 처음 비교한 위치로 돌아가서 또 다시 1번 과정을 반복하는 과정이 필요하다. 따라서 반복문이 하나 더 필요하다.\n",
    "        단 비교의 범위는 방금 정렬된 데이터의 직전까지 해야 조금 효율적으로 동작할 수 있다.\n",
    "    </li>\n",
    "    <li>1번에서 만약 왼쪽의 요소가 오른쪽의 요소보다 클 경우 두 요소를 서로 교환한다</li>\n",
    "</ol>"
   ]
  },
  {
   "cell_type": "code",
   "execution_count": 13,
   "id": "f1f6b970-000f-4072-8e12-91862c8b244e",
   "metadata": {},
   "outputs": [],
   "source": [
    "def swap(a, j):\n",
    "    temp = a[j]\n",
    "    a[j] = a[j+1]\n",
    "    a[j+1] = temp"
   ]
  },
  {
   "cell_type": "code",
   "execution_count": 14,
   "id": "b2d47c88-02ff-4f72-b161-187c8cff0d01",
   "metadata": {},
   "outputs": [],
   "source": [
    "# 버블 정렬 함수 정의\n",
    "def bubble_sort(array):\n",
    "    # 배열의 길이를 변수 n으로 할당\n",
    "    n = len(array)\n",
    "    # 배열의 길이만큼 반복\n",
    "    for i in range(n):\n",
    "        # 배열의 길이에서 i와 1을 뺀 만큼 반복\n",
    "        for j in range(0, n-i-1): # i를 빼도 작동함. 정렬된 뒤는 비교할 필요가 없기에 i를 넣는 것이고 없어도 작동은 함\n",
    "            # 만약 현재 위치의 값이 다음 위치의 값보다 클 경우 서로 교환\n",
    "            if array[j]> array[j+1]:\n",
    "                swap(array,j)\n",
    "            print('i: ', i , 'j: ', j, 'arr: ', array)"
   ]
  },
  {
   "cell_type": "code",
   "execution_count": 15,
   "id": "e749e776-2f95-443c-96fb-374e78e44698",
   "metadata": {},
   "outputs": [
    {
     "name": "stdout",
     "output_type": "stream",
     "text": [
      "i:  0 j:  0 arr:  [5, 6, 3, 1, 8, 7, 2, 4]\n",
      "i:  0 j:  1 arr:  [5, 3, 6, 1, 8, 7, 2, 4]\n",
      "i:  0 j:  2 arr:  [5, 3, 1, 6, 8, 7, 2, 4]\n",
      "i:  0 j:  3 arr:  [5, 3, 1, 6, 8, 7, 2, 4]\n",
      "i:  0 j:  4 arr:  [5, 3, 1, 6, 7, 8, 2, 4]\n",
      "i:  0 j:  5 arr:  [5, 3, 1, 6, 7, 2, 8, 4]\n",
      "i:  0 j:  6 arr:  [5, 3, 1, 6, 7, 2, 4, 8]\n",
      "i:  1 j:  0 arr:  [3, 5, 1, 6, 7, 2, 4, 8]\n",
      "i:  1 j:  1 arr:  [3, 1, 5, 6, 7, 2, 4, 8]\n",
      "i:  1 j:  2 arr:  [3, 1, 5, 6, 7, 2, 4, 8]\n",
      "i:  1 j:  3 arr:  [3, 1, 5, 6, 7, 2, 4, 8]\n",
      "i:  1 j:  4 arr:  [3, 1, 5, 6, 2, 7, 4, 8]\n",
      "i:  1 j:  5 arr:  [3, 1, 5, 6, 2, 4, 7, 8]\n",
      "i:  2 j:  0 arr:  [1, 3, 5, 6, 2, 4, 7, 8]\n",
      "i:  2 j:  1 arr:  [1, 3, 5, 6, 2, 4, 7, 8]\n",
      "i:  2 j:  2 arr:  [1, 3, 5, 6, 2, 4, 7, 8]\n",
      "i:  2 j:  3 arr:  [1, 3, 5, 2, 6, 4, 7, 8]\n",
      "i:  2 j:  4 arr:  [1, 3, 5, 2, 4, 6, 7, 8]\n",
      "i:  3 j:  0 arr:  [1, 3, 5, 2, 4, 6, 7, 8]\n",
      "i:  3 j:  1 arr:  [1, 3, 5, 2, 4, 6, 7, 8]\n",
      "i:  3 j:  2 arr:  [1, 3, 2, 5, 4, 6, 7, 8]\n",
      "i:  3 j:  3 arr:  [1, 3, 2, 4, 5, 6, 7, 8]\n",
      "i:  4 j:  0 arr:  [1, 3, 2, 4, 5, 6, 7, 8]\n",
      "i:  4 j:  1 arr:  [1, 2, 3, 4, 5, 6, 7, 8]\n",
      "i:  4 j:  2 arr:  [1, 2, 3, 4, 5, 6, 7, 8]\n",
      "i:  5 j:  0 arr:  [1, 2, 3, 4, 5, 6, 7, 8]\n",
      "i:  5 j:  1 arr:  [1, 2, 3, 4, 5, 6, 7, 8]\n",
      "i:  6 j:  0 arr:  [1, 2, 3, 4, 5, 6, 7, 8]\n",
      "1,2,3,4,5,6,7,8,"
     ]
    }
   ],
   "source": [
    "array = [6,5,3,1,8,7,2,4]\n",
    "bubble_sort(array)\n",
    "for e in array:\n",
    "    print(e, end=\",\")"
   ]
  },
  {
   "cell_type": "markdown",
   "id": "47c84c83-1a83-4556-bade-f66eb63e9318",
   "metadata": {},
   "source": [
    "## 선택 정렬"
   ]
  },
  {
   "cell_type": "markdown",
   "id": "c53fd4f0-4257-46c6-865d-2f7df6e23cf2",
   "metadata": {},
   "source": [
    "<p style=\"border:red solid 2px\">\n",
    "Selection sort is a simple and efficient sorting algorithm that works by repeatedly selecting the smallest (or largest) element from the unsorted portion of the list and moving it to the sorted portion of the list.<br>\r\n",
    "선택 정렬은 리스트(배열)의 정렬되지 않은 부분에서 가장 작은(혹은 가장 큰) 요소를 반복적으로 선택하여, 리스트의 정렬된 부분으로 옮기는 방식의 간단하고 효율적인 정렬 알고리즘이.\n",
    "</p>."
   ]
  },
  {
   "cell_type": "markdown",
   "id": "14ef2642-5710-4d43-9b9b-779bcf0e01c3",
   "metadata": {},
   "source": [
    "<h2>동작 과정</h2>\n",
    "<div> 아래의 이미지를 보면 파란색 박스는 <span style=\"color:blue\">현재 위치</span> 이고, 빨간색 박스는 범위에서의\n",
    "    <span style=\"color:red\">최소값</span> 을 노란색 박스는 <span style=\"color:gold\">정렬된 범위</span>를 가리킨다\n",
    "</div>\n",
    "<ol>\n",
    "    <li><span style=\"color:blue\">정렬되지 않은 범위(파랑)</span> 을 돌면서 그 중 <span style=\"color:red\">최솟값(빨강)</span>\n",
    "    을 찾아서 정렬되지 않은 범위의 맨 앞으로 옮기는 과정 반복\n",
    "    </li>\n",
    "    <li>1번을 반복하면 <span style=\"color:gold\"> 정렬된 범위(노랑)</span> 가 늘어나면서 정렬이 완료 됨</li>\n",
    "</ol>"
   ]
  },
  {
   "cell_type": "markdown",
   "id": "cd9da292-6f36-4107-bb29-311b76ba1db2",
   "metadata": {},
   "source": [
    "<img src=\"images/0509/img3.gif\"/>"
   ]
  },
  {
   "cell_type": "markdown",
   "id": "b31005fc-499c-4dbb-a4a1-c4fec4f1b542",
   "metadata": {},
   "source": [
    "## 구현"
   ]
  },
  {
   "cell_type": "markdown",
   "id": "1cfa2f6e-6050-497e-83bd-0937118c307d",
   "metadata": {},
   "source": [
    "<ol>\n",
    "    <li> 처음에 정렬되지 않은 범위의 맨 앞을 최소값으로 할당</li>\n",
    "    <li> 범위를 돌면서 더 작은 값이 있으면 최소값을 업데이트</li>\n",
    "    <li> 정렬되지 않은 맨 앞과 최소값의 위치 교환</li>\n",
    "    <li> 2~3번 반복</li>\n",
    "    동작 과정 1,2번을 보면 2중 반복문이 필요한 것을 알 수 있다.\n",
    "</ol>"
   ]
  },
  {
   "cell_type": "code",
   "execution_count": 23,
   "id": "b3dd3632-265d-435f-a9f2-5c1f9019a500",
   "metadata": {},
   "outputs": [],
   "source": [
    "def selection_sort(array):\n",
    "    n=len(array) # 배열의 길이를 n으로 할당\n",
    "    for i in range(n): # 현재 교환할 인덱스를 i를 할당\n",
    "        min_index = i # 처음 정렬되지 않은 가장 맨 앞의 요소를 최소값으로 할당\n",
    "        for j in range(i+1,n): # i와 비교할 index를 j를 할당\n",
    "            if array[j] < array[min_index]: # 현재 index 값이 최소값보다 작을 경우\n",
    "                min_index = j # 최소값 갱신\n",
    "        # 한 번 범위를 돌았으면 범위가 가장 맨 앞과 최소값을 서로 교환\n",
    "        # swap( array, i )\n",
    "        array[i], array[min_index]=array[min_index], array[i]\n",
    "        print('i: ', i, ', j: ', j, ', arr: ', array)\n",
    "    return array"
   ]
  },
  {
   "cell_type": "code",
   "execution_count": 25,
   "id": "e66aad61-dd06-4904-88a9-4e44d8017455",
   "metadata": {},
   "outputs": [
    {
     "name": "stdout",
     "output_type": "stream",
     "text": [
      "정렬되기 전의 데이터:[8, 5, 2, 6, 9, 3, 1, 4, 0, 7]\n",
      "i:  0 , j:  9 , arr:  [0, 5, 2, 6, 9, 3, 1, 4, 8, 7]\n",
      "i:  1 , j:  9 , arr:  [0, 1, 2, 6, 9, 3, 5, 4, 8, 7]\n",
      "i:  2 , j:  9 , arr:  [0, 1, 2, 6, 9, 3, 5, 4, 8, 7]\n",
      "i:  3 , j:  9 , arr:  [0, 1, 2, 3, 9, 6, 5, 4, 8, 7]\n",
      "i:  4 , j:  9 , arr:  [0, 1, 2, 3, 4, 6, 5, 9, 8, 7]\n",
      "i:  5 , j:  9 , arr:  [0, 1, 2, 3, 4, 5, 6, 9, 8, 7]\n",
      "i:  6 , j:  9 , arr:  [0, 1, 2, 3, 4, 5, 6, 9, 8, 7]\n",
      "i:  7 , j:  9 , arr:  [0, 1, 2, 3, 4, 5, 6, 7, 8, 9]\n",
      "i:  8 , j:  9 , arr:  [0, 1, 2, 3, 4, 5, 6, 7, 8, 9]\n",
      "i:  9 , j:  9 , arr:  [0, 1, 2, 3, 4, 5, 6, 7, 8, 9]\n",
      "정렬된 후의 데이터:[0, 1, 2, 3, 4, 5, 6, 7, 8, 9]\n"
     ]
    }
   ],
   "source": [
    "array = [8,5,2,6,9,3,1,4,0,7]\n",
    "print(f\"정렬되기 전의 데이터:{array}\")\n",
    "selection_sort(array)\n",
    "print(f\"정렬된 후의 데이터:{array}\") # 왼쪽부터 정렬되어감"
   ]
  },
  {
   "cell_type": "code",
   "execution_count": 32,
   "id": "3c1a5fc0-73c0-4199-b226-3a2bb5a795db",
   "metadata": {},
   "outputs": [
    {
     "data": {
      "text/plain": [
       "(11, 2)"
      ]
     },
     "execution_count": 32,
     "metadata": {},
     "output_type": "execute_result"
    }
   ],
   "source": [
    "# 최대값 찾기\n",
    "data = [3,4,11,2,4,5,6]\n",
    "max_i = data[0]\n",
    "min_i = data[0]\n",
    "for i in data:\n",
    "    if i>max_i: max_i = i\n",
    "    if i<min_i: min_i = i\n",
    "max_i, min_i"
   ]
  },
  {
   "cell_type": "markdown",
   "id": "802bd474-470f-4ae7-a243-329729f2b6e1",
   "metadata": {},
   "source": [
    "## 삽입 정렬"
   ]
  },
  {
   "cell_type": "markdown",
   "id": "40d822da-157c-49e3-bdb9-8bd0a0babf25",
   "metadata": {},
   "source": [
    "<p style=\"border:blue 1px dashed\">\n",
    "Insertion sort is a simple sorting algorithm that works similar to the way you sort playing cards in your hands. The array is virtually split into a sorted and an unsorted part. Values from the unsorted part are picked and placed at the correct position in the sorted part.<br>\n",
    "삽입 정렬(Insertion Sort)은 손에 쥔 카드를 정렬하는 방식과 매우 유사한 간단한 정렬 알고리즘이다.<br>\n",
    "    배열은 실제로 정렬된 부분과 정렬되지 않는 부분으로 나뉜다. 정렬되지 않는 부분의 값을 선택하여 정렬된 부분의 올바른 위치로 옮긴다.<br>\n",
    "</p>"
   ]
  },
  {
   "cell_type": "markdown",
   "id": "385fd42b-db2d-4194-9caf-87d281fc7d51",
   "metadata": {},
   "source": [
    "<img src=\"images/0509/sel2.gif\"/>"
   ]
  },
  {
   "cell_type": "markdown",
   "id": "093a48d7-e20f-4539-85c1-dc0b8cba5b70",
   "metadata": {},
   "source": [
    "<h3 style=\"color:red\">주의점</h3>"
   ]
  },
  {
   "cell_type": "markdown",
   "id": "844a038c-272b-4fc0-98d2-26aa094f64b6",
   "metadata": {},
   "source": [
    "<h3 style=\"color:red\">공통점</h3>\n",
    "<ul>\n",
    "    <li>주어진 리스트를 정렬된 부분과 정렬되지 않은 부분으로 나눈다는 공통점이 있다</li>\n",
    "</ul>"
   ]
  },
  {
   "cell_type": "markdown",
   "id": "3f1cdbaf-57c1-4779-a89b-6437ffd8112a",
   "metadata": {},
   "source": [
    "<h3 style=\"color:red\">차이점</h3>\n",
    "<ul>\n",
    "    <li>삽입 정렬은 정렬된 부분의 올바른 위치를 찾는 것이다</li>\n",
    "    <li>선택 정렬은 정렬되지 않은 부분의 최소값을 찾는 것이다</li>\n",
    "</ul>"
   ]
  },
  {
   "cell_type": "markdown",
   "id": "24516f1c-1066-4fb1-9953-eb9d625e3b06",
   "metadata": {},
   "source": [
    "<img src=\"images/0509/sel3.gif\"/>"
   ]
  },
  {
   "cell_type": "markdown",
   "id": "548ee132-3673-40c2-ae69-92de3ec93f3d",
   "metadata": {},
   "source": [
    "## 구현"
   ]
  },
  {
   "cell_type": "code",
   "execution_count": 37,
   "id": "3933620c-acf9-48bc-8e0a-d7bbf0686069",
   "metadata": {},
   "outputs": [],
   "source": [
    "# 삽입 정렬 함수\n",
    "def insertion_sort(array):\n",
    "    n=len(array) # 배열의 길이를 n으로 할당\n",
    "    for i in range(1,n): # 현재 교환할 인덱스를 i 할당\n",
    "        for j in range(i, 0, -1): # 인덱스 i부터 1까지 1씩 감소\n",
    "            if array[j-1]>array[j]: #왼쪽 인덱스의 값보다 현재 인덱스의 값이 클 경우\n",
    "                array[j-1], array[j] = array[j], array[j-1] # 두 값을 서로 교환\n",
    "            else: # 작은 숫자가 이미 앞에 있으면 정렬이 된 것이므로\n",
    "                break #안쪽 반복문 탈출\n",
    "            print('i: ', i, ', j: ', j, ', arr: ', array)\n",
    "    return array"
   ]
  },
  {
   "cell_type": "code",
   "execution_count": 38,
   "id": "14e295a8-6fc5-4232-aa0a-10fa770fb74d",
   "metadata": {},
   "outputs": [
    {
     "name": "stdout",
     "output_type": "stream",
     "text": [
      "정렬되기 전의 데이터:[8, 5, 2, 6, 9, 3, 1, 4, 0, 7]\n",
      "i:  1 , j:  1 , arr:  [5, 8, 2, 6, 9, 3, 1, 4, 0, 7]\n",
      "i:  2 , j:  2 , arr:  [5, 2, 8, 6, 9, 3, 1, 4, 0, 7]\n",
      "i:  2 , j:  1 , arr:  [2, 5, 8, 6, 9, 3, 1, 4, 0, 7]\n",
      "i:  3 , j:  3 , arr:  [2, 5, 6, 8, 9, 3, 1, 4, 0, 7]\n",
      "i:  5 , j:  5 , arr:  [2, 5, 6, 8, 3, 9, 1, 4, 0, 7]\n",
      "i:  5 , j:  4 , arr:  [2, 5, 6, 3, 8, 9, 1, 4, 0, 7]\n",
      "i:  5 , j:  3 , arr:  [2, 5, 3, 6, 8, 9, 1, 4, 0, 7]\n",
      "i:  5 , j:  2 , arr:  [2, 3, 5, 6, 8, 9, 1, 4, 0, 7]\n",
      "i:  6 , j:  6 , arr:  [2, 3, 5, 6, 8, 1, 9, 4, 0, 7]\n",
      "i:  6 , j:  5 , arr:  [2, 3, 5, 6, 1, 8, 9, 4, 0, 7]\n",
      "i:  6 , j:  4 , arr:  [2, 3, 5, 1, 6, 8, 9, 4, 0, 7]\n",
      "i:  6 , j:  3 , arr:  [2, 3, 1, 5, 6, 8, 9, 4, 0, 7]\n",
      "i:  6 , j:  2 , arr:  [2, 1, 3, 5, 6, 8, 9, 4, 0, 7]\n",
      "i:  6 , j:  1 , arr:  [1, 2, 3, 5, 6, 8, 9, 4, 0, 7]\n",
      "i:  7 , j:  7 , arr:  [1, 2, 3, 5, 6, 8, 4, 9, 0, 7]\n",
      "i:  7 , j:  6 , arr:  [1, 2, 3, 5, 6, 4, 8, 9, 0, 7]\n",
      "i:  7 , j:  5 , arr:  [1, 2, 3, 5, 4, 6, 8, 9, 0, 7]\n",
      "i:  7 , j:  4 , arr:  [1, 2, 3, 4, 5, 6, 8, 9, 0, 7]\n",
      "i:  8 , j:  8 , arr:  [1, 2, 3, 4, 5, 6, 8, 0, 9, 7]\n",
      "i:  8 , j:  7 , arr:  [1, 2, 3, 4, 5, 6, 0, 8, 9, 7]\n",
      "i:  8 , j:  6 , arr:  [1, 2, 3, 4, 5, 0, 6, 8, 9, 7]\n",
      "i:  8 , j:  5 , arr:  [1, 2, 3, 4, 0, 5, 6, 8, 9, 7]\n",
      "i:  8 , j:  4 , arr:  [1, 2, 3, 0, 4, 5, 6, 8, 9, 7]\n",
      "i:  8 , j:  3 , arr:  [1, 2, 0, 3, 4, 5, 6, 8, 9, 7]\n",
      "i:  8 , j:  2 , arr:  [1, 0, 2, 3, 4, 5, 6, 8, 9, 7]\n",
      "i:  8 , j:  1 , arr:  [0, 1, 2, 3, 4, 5, 6, 8, 9, 7]\n",
      "i:  9 , j:  9 , arr:  [0, 1, 2, 3, 4, 5, 6, 8, 7, 9]\n",
      "i:  9 , j:  8 , arr:  [0, 1, 2, 3, 4, 5, 6, 7, 8, 9]\n",
      "정렬된 후의 데이터:[0, 1, 2, 3, 4, 5, 6, 7, 8, 9]\n"
     ]
    }
   ],
   "source": [
    "array = [8,5,2,6,9,3,1,4,0,7]\n",
    "print(f\"정렬되기 전의 데이터:{array}\")\n",
    "insertion_sort(array)\n",
    "print(f\"정렬된 후의 데이터:{array}\") # 왼쪽부터 정렬되어감"
   ]
  },
  {
   "cell_type": "code",
   "execution_count": null,
   "id": "e46e9ee3-9fd0-40a7-8108-4ef5fc184375",
   "metadata": {},
   "outputs": [],
   "source": []
  },
  {
   "cell_type": "code",
   "execution_count": null,
   "id": "373420ac-4cf5-47b3-8e6c-e3d5d7d61872",
   "metadata": {},
   "outputs": [],
   "source": []
  },
  {
   "cell_type": "code",
   "execution_count": null,
   "id": "86da08fe-95ba-479c-a845-49a4c5ea3eb0",
   "metadata": {},
   "outputs": [],
   "source": []
  },
  {
   "cell_type": "code",
   "execution_count": null,
   "id": "dd4e92d5-1bb3-4bdd-8ac4-dc3fa66e81a9",
   "metadata": {},
   "outputs": [],
   "source": []
  },
  {
   "cell_type": "code",
   "execution_count": null,
   "id": "f435aa41-cbf8-435c-a95b-b50cda0c8257",
   "metadata": {},
   "outputs": [],
   "source": []
  },
  {
   "cell_type": "code",
   "execution_count": null,
   "id": "89e52704-4d47-48c0-b2bb-3171fc30b97f",
   "metadata": {},
   "outputs": [],
   "source": []
  },
  {
   "cell_type": "code",
   "execution_count": null,
   "id": "08d1f9c2-0e64-46cb-b6b5-d964e7a9fd07",
   "metadata": {},
   "outputs": [],
   "source": []
  },
  {
   "cell_type": "code",
   "execution_count": null,
   "id": "0fa03928-8bd0-41fc-8bf9-4e94b7bae92d",
   "metadata": {},
   "outputs": [],
   "source": []
  },
  {
   "cell_type": "code",
   "execution_count": null,
   "id": "683d849d-7d5c-493f-8d4a-cf7b8a2b0e7a",
   "metadata": {},
   "outputs": [],
   "source": []
  },
  {
   "cell_type": "code",
   "execution_count": null,
   "id": "69bd18e8-16dc-43fe-8d4a-140db6396448",
   "metadata": {},
   "outputs": [],
   "source": []
  },
  {
   "cell_type": "code",
   "execution_count": null,
   "id": "0c4af21c-f5aa-4f55-beec-a8a2d79dc8fb",
   "metadata": {},
   "outputs": [],
   "source": []
  }
 ],
 "metadata": {
  "kernelspec": {
   "display_name": "Python 3 (ipykernel)",
   "language": "python",
   "name": "python3"
  },
  "language_info": {
   "codemirror_mode": {
    "name": "ipython",
    "version": 3
   },
   "file_extension": ".py",
   "mimetype": "text/x-python",
   "name": "python",
   "nbconvert_exporter": "python",
   "pygments_lexer": "ipython3",
   "version": "3.11.7"
  }
 },
 "nbformat": 4,
 "nbformat_minor": 5
}
