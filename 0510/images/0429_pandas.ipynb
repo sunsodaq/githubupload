{
 "cells": [
  {
   "cell_type": "code",
   "execution_count": 1,
   "id": "d0084da7-d408-4577-aa77-b7136d7c3a76",
   "metadata": {},
   "outputs": [],
   "source": [
    "import pandas as pd"
   ]
  },
  {
   "cell_type": "code",
   "execution_count": 4,
   "id": "2c56257c-253e-4fc2-a1b6-a7dfe97b59b1",
   "metadata": {},
   "outputs": [
    {
     "data": {
      "text/plain": [
       "0     kookbang.dema.mil.kr/newsWeb/20240430/6/ATCE_C...\n",
       "1     www.rcast.co.kr/news/articleView.html?idxno=24670\n",
       "2     www.sisajournal-e.com/news/articleView.html?id...\n",
       "3     n.news.naver.com/mnews/article/015/0004978574?...\n",
       "4     www.psnews.co.kr/news/articleView.html?idxno=2...\n",
       "                            ...                        \n",
       "95    biz.newdaily.co.kr/site/data/html/2024/04/25/2...\n",
       "96    http://www.dailyimpact.co.kr/news/articleView....\n",
       "97    http://www.enewstoday.co.kr/news/articleView.h...\n",
       "98        www.ekn.kr/web/view.php?key=20240425026313979\n",
       "99       www.smartfn.co.kr/article/view/sfn202404250019\n",
       "Name: link, Length: 100, dtype: object"
      ]
     },
     "execution_count": 4,
     "metadata": {},
     "output_type": "execute_result"
    }
   ],
   "source": [
    "df = pd.read_csv('2.csv')\n",
    "df['link'].str.replace(\"https://\",\"\")"
   ]
  }
 ],
 "metadata": {
  "kernelspec": {
   "display_name": "Python 3 (ipykernel)",
   "language": "python",
   "name": "python3"
  },
  "language_info": {
   "codemirror_mode": {
    "name": "ipython",
    "version": 3
   },
   "file_extension": ".py",
   "mimetype": "text/x-python",
   "name": "python",
   "nbconvert_exporter": "python",
   "pygments_lexer": "ipython3",
   "version": "3.11.7"
  }
 },
 "nbformat": 4,
 "nbformat_minor": 5
}
